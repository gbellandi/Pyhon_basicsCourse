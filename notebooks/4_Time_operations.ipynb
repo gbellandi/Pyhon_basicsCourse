{
 "cells": [
  {
   "cell_type": "markdown",
   "metadata": {
    "slideshow": {
     "slide_type": "-"
    }
   },
   "source": [
    "**Time operations**"
   ]
  },
  {
   "cell_type": "markdown",
   "metadata": {},
   "source": [
    "(readapted from http://www.saltycrane.com/blog/2008/11/python-datetime-time-conversions/)"
   ]
  },
  {
   "cell_type": "code",
   "execution_count": null,
   "metadata": {
    "ExecuteTime": {
     "end_time": "2020-04-16T10:18:46.380365Z",
     "start_time": "2020-04-16T10:18:46.376841Z"
    }
   },
   "outputs": [],
   "source": [
    "from datetime import datetime\n",
    "import time\n",
    "import calendar"
   ]
  },
  {
   "cell_type": "code",
   "execution_count": null,
   "metadata": {
    "ExecuteTime": {
     "end_time": "2020-04-16T10:27:59.342520Z",
     "start_time": "2020-04-16T10:27:59.337533Z"
    }
   },
   "outputs": [],
   "source": [
    "datetime.today()"
   ]
  },
  {
   "cell_type": "markdown",
   "metadata": {
    "slideshow": {
     "slide_type": "-"
    }
   },
   "source": [
    "# conversions to strings"
   ]
  },
  {
   "cell_type": "code",
   "execution_count": null,
   "metadata": {
    "ExecuteTime": {
     "end_time": "2020-04-16T10:19:41.161340Z",
     "start_time": "2020-04-16T10:19:41.154360Z"
    },
    "slideshow": {
     "slide_type": "-"
    }
   },
   "outputs": [],
   "source": [
    "# datetime object to string\n",
    "dt_obj = datetime.now()\n",
    "date_str = dt_obj.strftime(\"%Y-%m-%d %H:%M:%S\")\n",
    "print(date_str)"
   ]
  },
  {
   "cell_type": "code",
   "execution_count": null,
   "metadata": {
    "ExecuteTime": {
     "end_time": "2020-04-16T10:20:00.255409Z",
     "start_time": "2020-04-16T10:20:00.250424Z"
    }
   },
   "outputs": [],
   "source": [
    "# time tuple to string\n",
    "time_tuple = (2008, 11, 12, 13, 51, 18, 2, 317, 0)\n",
    "date_str = time.strftime(\"%Y-%m-%d %H:%M:%S\", time_tuple)\n",
    "print(date_str)"
   ]
  },
  {
   "cell_type": "markdown",
   "metadata": {},
   "source": [
    "# conversions to datetime objects"
   ]
  },
  {
   "cell_type": "code",
   "execution_count": null,
   "metadata": {
    "ExecuteTime": {
     "end_time": "2020-04-16T10:20:01.486355Z",
     "start_time": "2020-04-16T10:20:01.482361Z"
    }
   },
   "outputs": [],
   "source": [
    "# time tuple to datetime object\n",
    "time_tuple = (2008, 11, 12, 13, 51, 18, 2, 317, 0)\n",
    "dt_obj = datetime(*time_tuple[0:6])\n",
    "print(repr(dt_obj))"
   ]
  },
  {
   "cell_type": "code",
   "execution_count": null,
   "metadata": {
    "ExecuteTime": {
     "end_time": "2020-04-16T10:20:07.216482Z",
     "start_time": "2020-04-16T10:20:07.211495Z"
    }
   },
   "outputs": [],
   "source": [
    "# date string to datetime object\n",
    "date_str = \"2008-11-10 17:53:59\"\n",
    "dt_obj = datetime.strptime(date_str, \"%Y-%m-%d %H:%M:%S\")\n",
    "print(repr(dt_obj))"
   ]
  },
  {
   "cell_type": "code",
   "execution_count": null,
   "metadata": {
    "ExecuteTime": {
     "end_time": "2020-04-16T10:20:12.678606Z",
     "start_time": "2020-04-16T10:20:12.674619Z"
    }
   },
   "outputs": [],
   "source": [
    "# timestamp to datetime object in local time\n",
    "timestamp = 1226527167.595983\n",
    "dt_obj = datetime.fromtimestamp(timestamp)\n",
    "print(repr(dt_obj))"
   ]
  },
  {
   "cell_type": "code",
   "execution_count": null,
   "metadata": {
    "ExecuteTime": {
     "end_time": "2020-04-16T10:20:19.327076Z",
     "start_time": "2020-04-16T10:20:19.322088Z"
    }
   },
   "outputs": [],
   "source": [
    "# timestamp to datetime object in UTC\n",
    "timestamp = 1226527167.595983\n",
    "dt_obj = datetime.utcfromtimestamp(timestamp)\n",
    "print(repr(dt_obj))"
   ]
  },
  {
   "cell_type": "markdown",
   "metadata": {},
   "source": [
    "# conversions to time tuples"
   ]
  },
  {
   "cell_type": "code",
   "execution_count": null,
   "metadata": {
    "ExecuteTime": {
     "end_time": "2020-04-16T10:20:33.774340Z",
     "start_time": "2020-04-16T10:20:33.770156Z"
    }
   },
   "outputs": [],
   "source": [
    "# datetime object to time tuple\n",
    "dt_obj = datetime.now()\n",
    "time_tuple = dt_obj.timetuple()\n",
    "print(repr(time_tuple))"
   ]
  },
  {
   "cell_type": "code",
   "execution_count": null,
   "metadata": {
    "ExecuteTime": {
     "end_time": "2020-04-16T10:20:43.430659Z",
     "start_time": "2020-04-16T10:20:43.426154Z"
    }
   },
   "outputs": [],
   "source": [
    "# string to time tuple\n",
    "date_str = \"2008-11-10 17:53:59\"\n",
    "time_tuple = time.strptime(date_str, \"%Y-%m-%d %H:%M:%S\")\n",
    "print(repr(time_tuple))"
   ]
  },
  {
   "cell_type": "code",
   "execution_count": null,
   "metadata": {
    "ExecuteTime": {
     "end_time": "2020-04-16T10:20:47.974375Z",
     "start_time": "2020-04-16T10:20:47.970367Z"
    }
   },
   "outputs": [],
   "source": [
    "# timestamp to time tuple in UTC\n",
    "timestamp = 1226527167.595983\n",
    "time_tuple = time.gmtime(timestamp)\n",
    "print(repr(time_tuple))"
   ]
  },
  {
   "cell_type": "code",
   "execution_count": null,
   "metadata": {
    "ExecuteTime": {
     "end_time": "2020-04-16T10:20:53.686584Z",
     "start_time": "2020-04-16T10:20:53.681601Z"
    }
   },
   "outputs": [],
   "source": [
    "# timestamp to time tuple in local time\n",
    "timestamp = 1226527167.595983\n",
    "time_tuple = time.localtime(timestamp)\n",
    "print(repr(time_tuple))"
   ]
  },
  {
   "cell_type": "markdown",
   "metadata": {},
   "source": [
    "# conversions to timestamps"
   ]
  },
  {
   "cell_type": "code",
   "execution_count": null,
   "metadata": {
    "ExecuteTime": {
     "end_time": "2020-04-16T10:21:05.718245Z",
     "start_time": "2020-04-16T10:21:05.714258Z"
    }
   },
   "outputs": [],
   "source": [
    "# time tuple in local time to timestamp\n",
    "time_tuple = (2008, 11, 12, 13, 59, 27, 2, 317, 0)\n",
    "timestamp = time.mktime(time_tuple)\n",
    "print(repr(timestamp))"
   ]
  },
  {
   "cell_type": "code",
   "execution_count": null,
   "metadata": {
    "ExecuteTime": {
     "end_time": "2020-04-16T10:21:11.095538Z",
     "start_time": "2020-04-16T10:21:11.090546Z"
    }
   },
   "outputs": [],
   "source": [
    "# time tuple in utc time to timestamp\n",
    "time_tuple_utc = (2008, 11, 12, 13, 59, 27, 2, 317, 0)\n",
    "timestamp_utc = calendar.timegm(time_tuple_utc)\n",
    "print(repr(timestamp_utc))"
   ]
  },
  {
   "cell_type": "markdown",
   "metadata": {},
   "source": [
    "# But also"
   ]
  },
  {
   "cell_type": "code",
   "execution_count": null,
   "metadata": {
    "ExecuteTime": {
     "end_time": "2020-04-16T10:25:30.097144Z",
     "start_time": "2020-04-16T10:25:29.961511Z"
    }
   },
   "outputs": [],
   "source": [
    "import numpy as np"
   ]
  },
  {
   "cell_type": "code",
   "execution_count": null,
   "metadata": {
    "ExecuteTime": {
     "end_time": "2020-04-16T10:26:47.681714Z",
     "start_time": "2020-04-16T10:26:47.673735Z"
    }
   },
   "outputs": [],
   "source": [
    "date = np.array('2015-07-04', dtype=np.datetime64)\n",
    "date + np.arange(12)"
   ]
  },
  {
   "cell_type": "code",
   "execution_count": null,
   "metadata": {
    "ExecuteTime": {
     "end_time": "2020-04-16T10:28:45.835033Z",
     "start_time": "2020-04-16T10:28:45.297017Z"
    }
   },
   "outputs": [],
   "source": [
    "import pandas as pd\n",
    "date + pd.to_timedelta(np.arange(12), 'D')"
   ]
  },
  {
   "cell_type": "markdown",
   "metadata": {},
   "source": [
    "Please find more tools and examples\n",
    "* https://jakevdp.github.io/PythonDataScienceHandbook/03.11-working-with-time-series.html"
   ]
  },
  {
   "cell_type": "markdown",
   "metadata": {},
   "source": [
    "<div class=\"alert alert-success\">\n",
    "    <b>Exercise:</b> Crete you own time series with date as index and floats as data\n",
    "</div>"
   ]
  },
  {
   "cell_type": "code",
   "execution_count": null,
   "metadata": {},
   "outputs": [],
   "source": []
  }
 ],
 "metadata": {
  "anaconda-cloud": {},
  "kernelspec": {
   "display_name": "Python 3",
   "language": "python",
   "name": "python3"
  },
  "language_info": {
   "codemirror_mode": {
    "name": "ipython",
    "version": 3
   },
   "file_extension": ".py",
   "mimetype": "text/x-python",
   "name": "python",
   "nbconvert_exporter": "python",
   "pygments_lexer": "ipython3",
   "version": "3.7.4"
  },
  "toc": {
   "base_numbering": 1,
   "nav_menu": {
    "height": "119px",
    "width": "252px"
   },
   "number_sections": true,
   "sideBar": true,
   "skip_h1_title": false,
   "title_cell": "Table of Contents",
   "title_sidebar": "Contents",
   "toc_cell": false,
   "toc_position": {},
   "toc_section_display": "block",
   "toc_window_display": false
  }
 },
 "nbformat": 4,
 "nbformat_minor": 1
}
