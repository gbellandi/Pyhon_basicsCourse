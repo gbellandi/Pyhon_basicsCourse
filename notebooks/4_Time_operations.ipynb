{
 "cells": [
  {
   "cell_type": "markdown",
   "metadata": {
    "slideshow": {
     "slide_type": "-"
    }
   },
   "source": [
    "**Time operations**"
   ]
  },
  {
   "cell_type": "markdown",
   "metadata": {},
   "source": [
    "(readapted from http://www.saltycrane.com/blog/2008/11/python-datetime-time-conversions/)"
   ]
  },
  {
   "cell_type": "code",
   "execution_count": 1,
   "metadata": {
    "ExecuteTime": {
     "end_time": "2020-04-16T10:18:46.380365Z",
     "start_time": "2020-04-16T10:18:46.376841Z"
    }
   },
   "outputs": [],
   "source": [
    "from datetime import datetime\n",
    "import time\n",
    "import calendar"
   ]
  },
  {
   "cell_type": "code",
   "execution_count": 35,
   "metadata": {
    "ExecuteTime": {
     "end_time": "2020-04-16T10:27:59.342520Z",
     "start_time": "2020-04-16T10:27:59.337533Z"
    }
   },
   "outputs": [
    {
     "data": {
      "text/plain": [
       "datetime.datetime(2020, 4, 16, 12, 27, 59, 338531)"
      ]
     },
     "execution_count": 35,
     "metadata": {},
     "output_type": "execute_result"
    }
   ],
   "source": [
    "datetime.today()"
   ]
  },
  {
   "cell_type": "markdown",
   "metadata": {
    "slideshow": {
     "slide_type": "-"
    }
   },
   "source": [
    "# conversions to strings"
   ]
  },
  {
   "cell_type": "code",
   "execution_count": 3,
   "metadata": {
    "ExecuteTime": {
     "end_time": "2020-04-16T10:19:41.161340Z",
     "start_time": "2020-04-16T10:19:41.154360Z"
    },
    "slideshow": {
     "slide_type": "-"
    }
   },
   "outputs": [
    {
     "name": "stdout",
     "output_type": "stream",
     "text": [
      "2020-04-16 12:19:41\n"
     ]
    }
   ],
   "source": [
    "# datetime object to string\n",
    "dt_obj = datetime.now()\n",
    "date_str = dt_obj.strftime(\"%Y-%m-%d %H:%M:%S\")\n",
    "print(date_str)"
   ]
  },
  {
   "cell_type": "code",
   "execution_count": 5,
   "metadata": {
    "ExecuteTime": {
     "end_time": "2020-04-16T10:20:00.255409Z",
     "start_time": "2020-04-16T10:20:00.250424Z"
    }
   },
   "outputs": [
    {
     "name": "stdout",
     "output_type": "stream",
     "text": [
      "2008-11-12 13:51:18\n"
     ]
    }
   ],
   "source": [
    "# time tuple to string\n",
    "time_tuple = (2008, 11, 12, 13, 51, 18, 2, 317, 0)\n",
    "date_str = time.strftime(\"%Y-%m-%d %H:%M:%S\", time_tuple)\n",
    "print(date_str)"
   ]
  },
  {
   "cell_type": "markdown",
   "metadata": {},
   "source": [
    "# conversions to datetime objects"
   ]
  },
  {
   "cell_type": "code",
   "execution_count": 6,
   "metadata": {
    "ExecuteTime": {
     "end_time": "2020-04-16T10:20:01.486355Z",
     "start_time": "2020-04-16T10:20:01.482361Z"
    }
   },
   "outputs": [
    {
     "name": "stdout",
     "output_type": "stream",
     "text": [
      "datetime.datetime(2008, 11, 12, 13, 51, 18)\n"
     ]
    }
   ],
   "source": [
    "# time tuple to datetime object\n",
    "time_tuple = (2008, 11, 12, 13, 51, 18, 2, 317, 0)\n",
    "dt_obj = datetime(*time_tuple[0:6])\n",
    "print(repr(dt_obj))"
   ]
  },
  {
   "cell_type": "code",
   "execution_count": 7,
   "metadata": {
    "ExecuteTime": {
     "end_time": "2020-04-16T10:20:07.216482Z",
     "start_time": "2020-04-16T10:20:07.211495Z"
    }
   },
   "outputs": [
    {
     "name": "stdout",
     "output_type": "stream",
     "text": [
      "datetime.datetime(2008, 11, 10, 17, 53, 59)\n"
     ]
    }
   ],
   "source": [
    "# date string to datetime object\n",
    "date_str = \"2008-11-10 17:53:59\"\n",
    "dt_obj = datetime.strptime(date_str, \"%Y-%m-%d %H:%M:%S\")\n",
    "print(repr(dt_obj))"
   ]
  },
  {
   "cell_type": "code",
   "execution_count": 8,
   "metadata": {
    "ExecuteTime": {
     "end_time": "2020-04-16T10:20:12.678606Z",
     "start_time": "2020-04-16T10:20:12.674619Z"
    }
   },
   "outputs": [
    {
     "name": "stdout",
     "output_type": "stream",
     "text": [
      "datetime.datetime(2008, 11, 12, 22, 59, 27, 595983)\n"
     ]
    }
   ],
   "source": [
    "# timestamp to datetime object in local time\n",
    "timestamp = 1226527167.595983\n",
    "dt_obj = datetime.fromtimestamp(timestamp)\n",
    "print(repr(dt_obj))"
   ]
  },
  {
   "cell_type": "code",
   "execution_count": 9,
   "metadata": {
    "ExecuteTime": {
     "end_time": "2020-04-16T10:20:19.327076Z",
     "start_time": "2020-04-16T10:20:19.322088Z"
    }
   },
   "outputs": [
    {
     "name": "stdout",
     "output_type": "stream",
     "text": [
      "datetime.datetime(2008, 11, 12, 21, 59, 27, 595983)\n"
     ]
    }
   ],
   "source": [
    "# timestamp to datetime object in UTC\n",
    "timestamp = 1226527167.595983\n",
    "dt_obj = datetime.utcfromtimestamp(timestamp)\n",
    "print(repr(dt_obj))"
   ]
  },
  {
   "cell_type": "markdown",
   "metadata": {},
   "source": [
    "# conversions to time tuples"
   ]
  },
  {
   "cell_type": "code",
   "execution_count": 10,
   "metadata": {
    "ExecuteTime": {
     "end_time": "2020-04-16T10:20:33.774340Z",
     "start_time": "2020-04-16T10:20:33.770156Z"
    }
   },
   "outputs": [
    {
     "name": "stdout",
     "output_type": "stream",
     "text": [
      "time.struct_time(tm_year=2020, tm_mon=4, tm_mday=16, tm_hour=12, tm_min=20, tm_sec=33, tm_wday=3, tm_yday=107, tm_isdst=-1)\n"
     ]
    }
   ],
   "source": [
    "# datetime object to time tuple\n",
    "dt_obj = datetime.now()\n",
    "time_tuple = dt_obj.timetuple()\n",
    "print(repr(time_tuple))"
   ]
  },
  {
   "cell_type": "code",
   "execution_count": 11,
   "metadata": {
    "ExecuteTime": {
     "end_time": "2020-04-16T10:20:43.430659Z",
     "start_time": "2020-04-16T10:20:43.426154Z"
    }
   },
   "outputs": [
    {
     "name": "stdout",
     "output_type": "stream",
     "text": [
      "time.struct_time(tm_year=2008, tm_mon=11, tm_mday=10, tm_hour=17, tm_min=53, tm_sec=59, tm_wday=0, tm_yday=315, tm_isdst=-1)\n"
     ]
    }
   ],
   "source": [
    "# string to time tuple\n",
    "date_str = \"2008-11-10 17:53:59\"\n",
    "time_tuple = time.strptime(date_str, \"%Y-%m-%d %H:%M:%S\")\n",
    "print(repr(time_tuple))"
   ]
  },
  {
   "cell_type": "code",
   "execution_count": 12,
   "metadata": {
    "ExecuteTime": {
     "end_time": "2020-04-16T10:20:47.974375Z",
     "start_time": "2020-04-16T10:20:47.970367Z"
    }
   },
   "outputs": [
    {
     "name": "stdout",
     "output_type": "stream",
     "text": [
      "time.struct_time(tm_year=2008, tm_mon=11, tm_mday=12, tm_hour=21, tm_min=59, tm_sec=27, tm_wday=2, tm_yday=317, tm_isdst=0)\n"
     ]
    }
   ],
   "source": [
    "# timestamp to time tuple in UTC\n",
    "timestamp = 1226527167.595983\n",
    "time_tuple = time.gmtime(timestamp)\n",
    "print(repr(time_tuple))"
   ]
  },
  {
   "cell_type": "code",
   "execution_count": 13,
   "metadata": {
    "ExecuteTime": {
     "end_time": "2020-04-16T10:20:53.686584Z",
     "start_time": "2020-04-16T10:20:53.681601Z"
    }
   },
   "outputs": [
    {
     "name": "stdout",
     "output_type": "stream",
     "text": [
      "time.struct_time(tm_year=2008, tm_mon=11, tm_mday=12, tm_hour=22, tm_min=59, tm_sec=27, tm_wday=2, tm_yday=317, tm_isdst=0)\n"
     ]
    }
   ],
   "source": [
    "# timestamp to time tuple in local time\n",
    "timestamp = 1226527167.595983\n",
    "time_tuple = time.localtime(timestamp)\n",
    "print(repr(time_tuple))"
   ]
  },
  {
   "cell_type": "markdown",
   "metadata": {},
   "source": [
    "# conversions to timestamps"
   ]
  },
  {
   "cell_type": "code",
   "execution_count": 14,
   "metadata": {
    "ExecuteTime": {
     "end_time": "2020-04-16T10:21:05.718245Z",
     "start_time": "2020-04-16T10:21:05.714258Z"
    }
   },
   "outputs": [
    {
     "name": "stdout",
     "output_type": "stream",
     "text": [
      "1226494767.0\n"
     ]
    }
   ],
   "source": [
    "# time tuple in local time to timestamp\n",
    "time_tuple = (2008, 11, 12, 13, 59, 27, 2, 317, 0)\n",
    "timestamp = time.mktime(time_tuple)\n",
    "print(repr(timestamp))"
   ]
  },
  {
   "cell_type": "code",
   "execution_count": 15,
   "metadata": {
    "ExecuteTime": {
     "end_time": "2020-04-16T10:21:11.095538Z",
     "start_time": "2020-04-16T10:21:11.090546Z"
    }
   },
   "outputs": [
    {
     "name": "stdout",
     "output_type": "stream",
     "text": [
      "1226498367\n"
     ]
    }
   ],
   "source": [
    "# time tuple in utc time to timestamp\n",
    "time_tuple_utc = (2008, 11, 12, 13, 59, 27, 2, 317, 0)\n",
    "timestamp_utc = calendar.timegm(time_tuple_utc)\n",
    "print(repr(timestamp_utc))"
   ]
  },
  {
   "cell_type": "markdown",
   "metadata": {},
   "source": [
    "# But also"
   ]
  },
  {
   "cell_type": "code",
   "execution_count": 19,
   "metadata": {
    "ExecuteTime": {
     "end_time": "2020-04-16T10:25:30.097144Z",
     "start_time": "2020-04-16T10:25:29.961511Z"
    }
   },
   "outputs": [],
   "source": [
    "import numpy as np"
   ]
  },
  {
   "cell_type": "code",
   "execution_count": 28,
   "metadata": {
    "ExecuteTime": {
     "end_time": "2020-04-16T10:26:47.681714Z",
     "start_time": "2020-04-16T10:26:47.673735Z"
    }
   },
   "outputs": [
    {
     "data": {
      "text/plain": [
       "array(['2015-07-04', '2015-07-05', '2015-07-06', '2015-07-07',\n",
       "       '2015-07-08', '2015-07-09', '2015-07-10', '2015-07-11',\n",
       "       '2015-07-12', '2015-07-13', '2015-07-14', '2015-07-15'],\n",
       "      dtype='datetime64[D]')"
      ]
     },
     "execution_count": 28,
     "metadata": {},
     "output_type": "execute_result"
    }
   ],
   "source": [
    "date = np.array('2015-07-04', dtype=np.datetime64)\n",
    "date + np.arange(12)"
   ]
  },
  {
   "cell_type": "code",
   "execution_count": 37,
   "metadata": {
    "ExecuteTime": {
     "end_time": "2020-04-16T10:28:45.835033Z",
     "start_time": "2020-04-16T10:28:45.297017Z"
    }
   },
   "outputs": [
    {
     "data": {
      "text/plain": [
       "DatetimeIndex(['2015-07-04', '2015-07-05', '2015-07-06', '2015-07-07',\n",
       "               '2015-07-08', '2015-07-09', '2015-07-10', '2015-07-11',\n",
       "               '2015-07-12', '2015-07-13', '2015-07-14', '2015-07-15'],\n",
       "              dtype='datetime64[ns]', freq=None)"
      ]
     },
     "execution_count": 37,
     "metadata": {},
     "output_type": "execute_result"
    }
   ],
   "source": [
    "import pandas as pd\n",
    "date + pd.to_timedelta(np.arange(12), 'D')"
   ]
  },
  {
   "cell_type": "markdown",
   "metadata": {},
   "source": [
    "Please find more tools and examples\n",
    "* https://jakevdp.github.io/PythonDataScienceHandbook/03.11-working-with-time-series.html"
   ]
  },
  {
   "cell_type": "markdown",
   "metadata": {},
   "source": [
    "<div class=\"alert alert-success\">\n",
    "    <b>Exercise:</b> Crete you own time series with date as index and floats as data\n",
    "</div>"
   ]
  },
  {
   "cell_type": "code",
   "execution_count": null,
   "metadata": {},
   "outputs": [],
   "source": []
  }
 ],
 "metadata": {
  "anaconda-cloud": {},
  "kernelspec": {
   "display_name": "Python 3",
   "language": "python",
   "name": "python3"
  },
  "language_info": {
   "codemirror_mode": {
    "name": "ipython",
    "version": 3
   },
   "file_extension": ".py",
   "mimetype": "text/x-python",
   "name": "python",
   "nbconvert_exporter": "python",
   "pygments_lexer": "ipython3",
   "version": "3.7.7"
  },
  "toc": {
   "base_numbering": 1,
   "nav_menu": {
    "height": "119px",
    "width": "252px"
   },
   "number_sections": true,
   "sideBar": true,
   "skip_h1_title": false,
   "title_cell": "Table of Contents",
   "title_sidebar": "Contents",
   "toc_cell": false,
   "toc_position": {},
   "toc_section_display": "block",
   "toc_window_display": false
  }
 },
 "nbformat": 4,
 "nbformat_minor": 1
}
