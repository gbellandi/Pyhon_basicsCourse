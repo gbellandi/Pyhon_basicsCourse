{
 "cells": [
  {
   "cell_type": "code",
   "execution_count": null,
   "metadata": {
    "ExecuteTime": {
     "end_time": "2020-04-20T08:34:18.151108Z",
     "start_time": "2020-04-20T08:34:17.298402Z"
    }
   },
   "outputs": [],
   "source": [
    "import pandas as pd\n",
    "import numpy as np\n",
    "import matplotlib.pyplot as plt\n",
    "import os\n",
    "\n",
    "##plotting modules\n",
    "import seaborn as sns"
   ]
  },
  {
   "cell_type": "code",
   "execution_count": null,
   "metadata": {
    "ExecuteTime": {
     "end_time": "2020-04-20T08:34:18.157064Z",
     "start_time": "2020-04-20T08:34:18.152076Z"
    }
   },
   "outputs": [],
   "source": [
    "%matplotlib inline"
   ]
  },
  {
   "cell_type": "markdown",
   "metadata": {},
   "source": [
    "##### Set General Parameters"
   ]
  },
  {
   "cell_type": "code",
   "execution_count": null,
   "metadata": {
    "ExecuteTime": {
     "end_time": "2020-04-20T08:34:18.742502Z",
     "start_time": "2020-04-20T08:34:18.738539Z"
    }
   },
   "outputs": [],
   "source": [
    "MFr_O2 = 0.2095 #Molar fraction of O2 in ambient air\n",
    "MR_O2_In = 0.265 #Molar ratio O2/Inerts (Inerts are CO2, N2 and all other components having a fized conc in ambient)\n",
    "Patm_ref = 1013.25 #Reference ambient pressure\n",
    "DOss_20 = 9.08 #Referene DO saturation concentration at 20 deg C\n",
    "tetha = 1.024 #for temperature adjustm\n",
    "\n",
    "Vel_BaseScale = 2 #base scale velocity for anemomenter reading \n",
    "Eo = 1\n",
    "Efs = 2 #Param of anemometer \n",
    "\n",
    "Tube_diam = 0.0381 #diameter of tube driving the off-gas throught the anemomenter\n",
    "Tube_area = np.pi*(Tube_diam/2)**2\n",
    "\n",
    "#Points = 9 #Number of points on the tank"
   ]
  },
  {
   "cell_type": "markdown",
   "metadata": {},
   "source": [
    "#### This notebook helps in managing data from the old DICEA off-gas analyzer"
   ]
  },
  {
   "cell_type": "markdown",
   "metadata": {},
   "source": [
    "##### Insert path to data files"
   ]
  },
  {
   "cell_type": "code",
   "execution_count": null,
   "metadata": {
    "ExecuteTime": {
     "end_time": "2020-04-20T08:34:19.599206Z",
     "start_time": "2020-04-20T08:34:19.595239Z"
    }
   },
   "outputs": [],
   "source": [
    "os.chdir(r'../data/analyzer/')"
   ]
  },
  {
   "cell_type": "code",
   "execution_count": null,
   "metadata": {
    "ExecuteTime": {
     "end_time": "2020-04-20T08:34:19.877458Z",
     "start_time": "2020-04-20T08:34:19.857512Z"
    }
   },
   "outputs": [],
   "source": [
    "ls"
   ]
  },
  {
   "cell_type": "code",
   "execution_count": null,
   "metadata": {
    "ExecuteTime": {
     "end_time": "2020-04-20T08:34:20.430011Z",
     "start_time": "2020-04-20T08:34:20.426989Z"
    }
   },
   "outputs": [],
   "source": [
    "path = os.getcwd()"
   ]
  },
  {
   "cell_type": "code",
   "execution_count": null,
   "metadata": {
    "ExecuteTime": {
     "end_time": "2020-04-20T08:34:21.220861Z",
     "start_time": "2020-04-20T08:34:20.715247Z"
    },
    "scrolled": false
   },
   "outputs": [],
   "source": [
    "file_names = []\n",
    "data_frames = []\n",
    "\n",
    "for filename in os.listdir(path):\n",
    "    name = os.path.splitext(filename)[0]\n",
    "    file_names.append(name)\n",
    "    df = pd.read_csv(path + '//' + filename, delimiter='\\t', sep='.', header=None)\n",
    "    df.rename(columns={0: 'Time (s)', 1: name + ' Flow (v)', 2: name + ' O2 (v)', 3: name + ' Press (v)'}, inplace=True)\n",
    "    data_frames.append(df)\n",
    "\n",
    "combined = pd.concat(data_frames, axis=1)\n",
    "combined = combined.T.groupby(level=0).first().T"
   ]
  },
  {
   "cell_type": "markdown",
   "metadata": {},
   "source": [
    "##### Separate O2 and Air flow V signal data frame"
   ]
  },
  {
   "cell_type": "code",
   "execution_count": null,
   "metadata": {
    "ExecuteTime": {
     "end_time": "2020-04-20T08:34:21.636750Z",
     "start_time": "2020-04-20T08:34:21.511092Z"
    }
   },
   "outputs": [],
   "source": [
    "combined_clean = combined.set_index(['Time (s)'], drop=True)\n",
    "O2v = combined_clean[[col for col in combined_clean.columns if 'O2' in col]]\n",
    "Flowv = combined_clean[[col for col in combined_clean.columns if 'Flow' in col]]\n",
    "#Presv = combined_clean[[col for col in combined_clean.columns if 'Press' in col]] #not in use"
   ]
  },
  {
   "cell_type": "markdown",
   "metadata": {},
   "source": [
    "##### Control the status of the txt files present in the folder for O2 signal"
   ]
  },
  {
   "cell_type": "code",
   "execution_count": null,
   "metadata": {
    "ExecuteTime": {
     "end_time": "2020-04-20T08:34:29.540194Z",
     "start_time": "2020-04-20T08:34:22.314969Z"
    },
    "scrolled": false
   },
   "outputs": [],
   "source": [
    "plt.figure();\n",
    "O2v[100:].plot(subplots=True, figsize=(15, 30), style='o');"
   ]
  },
  {
   "cell_type": "markdown",
   "metadata": {},
   "source": [
    "##### O2 stats"
   ]
  },
  {
   "cell_type": "code",
   "execution_count": null,
   "metadata": {
    "ExecuteTime": {
     "end_time": "2020-04-20T08:34:30.580754Z",
     "start_time": "2020-04-20T08:34:30.465882Z"
    },
    "scrolled": false
   },
   "outputs": [],
   "source": [
    "O2v_stats = []\n",
    "for f in file_names:\n",
    "    df = pd.DataFrame.describe(pd.DataFrame(O2v[f + ' O2 (v)'][100:])) # length set to [100:] to skip sensor stabilization\n",
    "    O2v_stats.append(df)\n",
    "O2v_stats = pd.concat(O2v_stats, axis=1)"
   ]
  },
  {
   "cell_type": "markdown",
   "metadata": {},
   "source": [
    "##### Air flow stats"
   ]
  },
  {
   "cell_type": "code",
   "execution_count": null,
   "metadata": {
    "ExecuteTime": {
     "end_time": "2020-04-20T08:34:31.452441Z",
     "start_time": "2020-04-20T08:34:31.336581Z"
    },
    "scrolled": true
   },
   "outputs": [],
   "source": [
    "Flowv_stats = []\n",
    "for f in file_names:\n",
    "    df = pd.DataFrame.describe(pd.DataFrame(Flowv[f + ' Flow (v)'][100:])) #air flow does not need stabilization time but we use the same as for O2sensor\n",
    "    Flowv_stats.append(df)\n",
    "Flowv_stats = pd.concat(Flowv_stats, axis=1)"
   ]
  },
  {
   "cell_type": "markdown",
   "metadata": {},
   "source": [
    "##### Check visually O2 and Flow statistics for each file"
   ]
  },
  {
   "cell_type": "code",
   "execution_count": null,
   "metadata": {
    "ExecuteTime": {
     "end_time": "2020-04-20T08:34:32.140430Z",
     "start_time": "2020-04-20T08:34:32.115494Z"
    },
    "scrolled": false
   },
   "outputs": [],
   "source": [
    "O2v_stats"
   ]
  },
  {
   "cell_type": "code",
   "execution_count": null,
   "metadata": {
    "ExecuteTime": {
     "end_time": "2020-04-20T08:34:32.662998Z",
     "start_time": "2020-04-20T08:34:32.658018Z"
    }
   },
   "outputs": [],
   "source": [
    "xlabels = []\n",
    "for k in range(O2v.columns.shape[0]): \n",
    "    xlabels = np.append(xlabels, O2v.columns[k][5:18])\n",
    "xlabels = xlabels.tolist()"
   ]
  },
  {
   "cell_type": "code",
   "execution_count": null,
   "metadata": {
    "ExecuteTime": {
     "end_time": "2020-04-20T08:34:33.128749Z",
     "start_time": "2020-04-20T08:34:33.091882Z"
    }
   },
   "outputs": [],
   "source": [
    "O2v"
   ]
  },
  {
   "cell_type": "code",
   "execution_count": null,
   "metadata": {
    "ExecuteTime": {
     "end_time": "2020-04-20T08:34:34.084232Z",
     "start_time": "2020-04-20T08:34:33.658396Z"
    }
   },
   "outputs": [],
   "source": [
    "O2v[100:].boxplot(figsize=(12,5));"
   ]
  },
  {
   "cell_type": "markdown",
   "metadata": {},
   "source": [
    "#### Signal translate"
   ]
  },
  {
   "cell_type": "markdown",
   "metadata": {},
   "source": [
    "##### Store reference O2 value"
   ]
  },
  {
   "cell_type": "code",
   "execution_count": null,
   "metadata": {
    "ExecuteTime": {
     "end_time": "2020-04-20T08:34:35.759718Z",
     "start_time": "2020-04-20T08:34:35.754760Z"
    }
   },
   "outputs": [],
   "source": [
    "Reference = O2v_stats['test_16-11-22_1137_001 O2 (v)'][1] # store mean of reference file\n",
    "Referencesd = O2v_stats['test_16-11-22_1137_001 O2 (v)'][2] # store std of reference file"
   ]
  },
  {
   "cell_type": "markdown",
   "metadata": {},
   "source": [
    "##### OTE calculation"
   ]
  },
  {
   "cell_type": "code",
   "execution_count": null,
   "metadata": {
    "ExecuteTime": {
     "end_time": "2020-04-20T08:34:36.641363Z",
     "start_time": "2020-04-20T08:34:36.490760Z"
    }
   },
   "outputs": [],
   "source": [
    "yO2 = O2v[100:] / Reference * MFr_O2 #molar fraction in the off-gas\n",
    "YO2 = yO2 / (1 - yO2) #molar ratio O2 inerts in the off-gas NOTE: here the CO2 is considered to be completely absorbed\n",
    "\n",
    "OTE = (MR_O2_In - YO2) / MR_O2_In * 100\n",
    "OTE_mean = pd.DataFrame(OTE.mean())\n",
    "OTE_sd = pd.DataFrame(OTE.std())"
   ]
  },
  {
   "cell_type": "code",
   "execution_count": null,
   "metadata": {
    "ExecuteTime": {
     "end_time": "2020-04-20T08:34:37.181933Z",
     "start_time": "2020-04-20T08:34:37.048267Z"
    },
    "scrolled": false
   },
   "outputs": [],
   "source": [
    "ax = OTE_mean.plot(title='Stationary measurement', figsize=(12,3), yerr=OTE_sd, legend=False, style='^');\n",
    "\n",
    "ax.set_xlabel('Time (HH:MM)')\n",
    "ax.set_ylabel('OTE (%)')\n",
    "\n",
    "ax.set_xticks(range(len(file_names)))\n",
    "ax.set_xticklabels(['Point 1', 'Point 2', 'Point 3', 'Point 4', 'Point 5', \n",
    "                    'Point 6', 'Point 7', 'Point 8', 'Point 9', 'Point 10'], \n",
    "                   rotation=45);\n",
    "# plt.savefig('Stationary measurement')"
   ]
  },
  {
   "cell_type": "markdown",
   "metadata": {},
   "source": [
    "##### Write stats to xlsx file"
   ]
  },
  {
   "cell_type": "markdown",
   "metadata": {},
   "source": [
    "<div class=\"alert alert-success\">\n",
    "    <b> EXERCISE: </b> try to save your data adjusting the code below\n",
    "</div>"
   ]
  },
  {
   "cell_type": "code",
   "execution_count": null,
   "metadata": {},
   "outputs": [],
   "source": [
    "# to which file to add the following dataframes\n",
    "# writer = pd.ExcelWriter(path + file_names[0][5:7] + file_names[0][8:10] + file_names[0][11:13] + '_OldAn' + '.xlsx') \n",
    "\n",
    "# O2v.to_excel(writer, 'O2') #what to write to which sheet\n",
    "# Flowv.to_excel(writer, 'Flow')\n",
    "# O2v_stats.to_excel(writer, 'Stats O2')\n",
    "# Flowv_stats.to_excel(writer, 'Stats Flow')\n",
    "# OTE.to_excel(writer, 'OTE')\n",
    "# OTE_mean.to_excel(writer, 'Stats OTE', header=['mean OTE'])\n",
    "# OTE_sd.to_excel(writer, 'Stats OTE', startcol=3, header=['StDev OTE'])\n",
    "# writer.save()"
   ]
  },
  {
   "cell_type": "code",
   "execution_count": null,
   "metadata": {},
   "outputs": [],
   "source": []
  }
 ],
 "metadata": {
  "anaconda-cloud": {},
  "kernelspec": {
   "display_name": "Python 3",
   "language": "python",
   "name": "python3"
  },
  "language_info": {
   "codemirror_mode": {
    "name": "ipython",
    "version": 3
   },
   "file_extension": ".py",
   "mimetype": "text/x-python",
   "name": "python",
   "nbconvert_exporter": "python",
   "pygments_lexer": "ipython3",
   "version": "3.7.7"
  },
  "toc": {
   "base_numbering": 1,
   "nav_menu": {
    "height": "240px",
    "width": "252px"
   },
   "number_sections": true,
   "sideBar": true,
   "skip_h1_title": false,
   "title_cell": "Table of Contents",
   "title_sidebar": "Contents",
   "toc_cell": false,
   "toc_position": {},
   "toc_section_display": "block",
   "toc_window_display": false
  }
 },
 "nbformat": 4,
 "nbformat_minor": 1
}
