{
 "cells": [
  {
   "cell_type": "code",
   "execution_count": null,
   "metadata": {
    "ExecuteTime": {
     "end_time": "2020-04-22T08:07:58.241814Z",
     "start_time": "2020-04-22T08:07:56.646748Z"
    },
    "scrolled": true
   },
   "outputs": [],
   "source": [
    "import numpy as np\n",
    "import pandas as pd\n",
    "from sklearn.decomposition import PCA\n",
    "import matplotlib.pyplot as plt\n",
    "import os\n",
    "from scipy import stats\n",
    "import matplotlib.dates as mdates\n",
    "\n",
    "import seaborn as sns\n",
    "from pandas.plotting import scatter_matrix\n",
    "from mpl_toolkits.mplot3d import Axes3D\n",
    "\n",
    "%matplotlib inline "
   ]
  },
  {
   "cell_type": "markdown",
   "metadata": {},
   "source": [
    "# PCA functions"
   ]
  },
  {
   "cell_type": "markdown",
   "metadata": {},
   "source": [
    "## PCA on covariance matrix"
   ]
  },
  {
   "cell_type": "code",
   "execution_count": null,
   "metadata": {
    "ExecuteTime": {
     "end_time": "2020-04-22T08:07:58.257785Z",
     "start_time": "2020-04-22T08:07:58.242808Z"
    }
   },
   "outputs": [],
   "source": [
    "def PCA_hommade(df, colorbar, path=r'PCAfigure', savepath=None):\n",
    "\n",
    "    X_std = (df - df.mean()) / (df.max() - df.min())\n",
    "    \n",
    "    # Compute the covariance matrix\n",
    "    cov_mat = np.cov(X_std.T)\n",
    "\n",
    "    # Eigendecomposition of the covariance matrix\n",
    "    eig_val_cov, eig_vec_cov = np.linalg.eig(cov_mat)\n",
    "\n",
    "    tot = sum(eig_val_cov)\n",
    "    var_exp = [(i / tot)*100 for i in sorted(eig_val_cov, reverse=True)]\n",
    "    cum_var_exp = np.cumsum(var_exp)\n",
    "\n",
    "    # plot explained variance by each PC (eigenvalues)\n",
    "    with plt.style.context(\"seaborn-paper\"):\n",
    "        with plt.style.context(\"seaborn-white\"):\n",
    "            plt.figure(figsize=(4, 3))\n",
    "            plt.bar(range(len(cov_mat)), \n",
    "                    var_exp, \n",
    "                    alpha=0.5, \n",
    "                    align='center',\n",
    "                    label='Individual explained variance',\n",
    "                    color='grey')\n",
    "            plt.step(range(len(cov_mat)), \n",
    "                     cum_var_exp, where='mid',\n",
    "                     label='Cumulative explained variance', \n",
    "                     color='k')\n",
    "            plt.axis([ -1, len(cov_mat)-1, 0, 100])\n",
    "            plt.ylabel('Explained variance (%)')\n",
    "            plt.xticks(np.arange(1+len(cov_mat)), \n",
    "                       ('1','2','3','4'))\n",
    "            plt.xlabel('Principal components')\n",
    "            plt.legend(loc='best')\n",
    "            \n",
    "    if pd.isnull(savepath)==False:\n",
    "        plt.savefig(savepath, dpi=300, bbox_inches='tight')\n",
    "    plt.show()\n",
    "    \n",
    "    # Make a list of (eigenvalue, eigenvector) tuples\n",
    "    # and sort the (eigenvalue, eigenvector) tuples from high to low\n",
    "    eig_pairs_cov = [(np.abs(eig_val_cov[i]), \n",
    "                      eig_vec_cov[:,i]) for i in range(len(eig_val_cov))]\n",
    "    eig_pairs_cov.sort()\n",
    "    eig_pairs_cov.reverse()\n",
    "    \n",
    "    # Construct the transformation matrix W from the eigenvalues that correspond to\n",
    "    # the k largest eigenvalues (here: k = 2)\n",
    "    matrix_w_cov = np.hstack((eig_pairs_cov[0][1].reshape(-1,1), \n",
    "                              eig_pairs_cov[1][1].reshape(-1,1), \n",
    "                              eig_pairs_cov[2][1].reshape(-1,1)))\n",
    "    \n",
    "    # Transform the data using matrix W\n",
    "    X_std_transf = matrix_w_cov.T.dot(X_std.T).T\n",
    "\n",
    "    # Plot the data\n",
    "    plt.subplots(figsize=(8,6))\n",
    "    cmap = plt.get_cmap('coolwarm')\n",
    "    plt.scatter(X_std_transf[:,0], \n",
    "                X_std_transf[:,1], \n",
    "                c=colorbar, \n",
    "                cmap=cmap,\n",
    "                s=50)\n",
    "    clb = plt.colorbar()\n",
    "    clb.set_label('$N_2 O$')\n",
    "    plt.xlabel('PC1')\n",
    "    plt.ylabel('PC2')\n",
    "#     plt.title('PCA based on the covariance matrix of standardized data')\n",
    "#     plt.savefig(path, dpi=200)\n",
    "#     plt.show()"
   ]
  },
  {
   "cell_type": "markdown",
   "metadata": {},
   "source": [
    "## PCA from sklearn and visualization with vectors"
   ]
  },
  {
   "cell_type": "code",
   "execution_count": null,
   "metadata": {
    "ExecuteTime": {
     "end_time": "2020-04-22T08:07:58.338912Z",
     "start_time": "2020-04-22T08:07:58.326602Z"
    }
   },
   "outputs": [],
   "source": [
    "def PCAskl(df, colorbar, path=r'PCAfigure', cbar='$N_2O$', marksize=50, savepath=None):\n",
    "    '''PCAskl(X_std, colorbar)\n",
    "    \n",
    "    Xstd: the matrix of elements to be analized, one column per variable\n",
    "    colorbar: is a vector of elements that can be used as rgb values\n",
    "    cbar: text for colorbar name\n",
    "    marksize= vector for sizes of circles\n",
    "    savepath= None (does nothing) or path ending with name of figure (saves the figure)\n",
    "    \n",
    "    '''\n",
    "\n",
    "    dat = (df - df.mean()) / (df.max() - df.min())\n",
    "    \n",
    "    n = len(dat.columns)\n",
    "\n",
    "    pca = PCA(n_components = n)\n",
    "    # defaults number of PCs to number of columns in imported data (ie number of\n",
    "    # features), but can be set to any integer less than or equal to that value\n",
    "\n",
    "    pca.fit(dat)\n",
    "\n",
    "    ## project data into PC space\n",
    "    # 0,1 denote PC1 and PC2; change values for other PCs\n",
    "    xvector = pca.components_[0] #PC1 # see 'prcomp(my_data)$rotation' in R\n",
    "    yvector = pca.components_[1] #PC2\n",
    "\n",
    "    xs = pca.transform(dat)[:,0] # see 'prcomp(my_data)$x' in R\n",
    "    ys = pca.transform(dat)[:,1]\n",
    "\n",
    "    # visualize projections\n",
    "    # Note: scale values for arrows and text are a bit inelegant as of now,\n",
    "    #       so feel free to play around with them\n",
    "\n",
    "    with plt.style.context(\"seaborn-paper\"):\n",
    "        with plt.style.context(\"seaborn-white\"):\n",
    "            fig, ax1 = plt.subplots(figsize=(3.3,3))\n",
    "\n",
    "            for i in range(len(xvector)):\n",
    "            # arrows project features (ie columns from csv) as vectors onto PC axes\n",
    "                plt.arrow(0, 0, xvector[i]*max(xs), yvector[i]*max(ys),\n",
    "                          color='r', \n",
    "                          width=0.0005, \n",
    "                          head_width=0.0025)\n",
    "                plt.text(xvector[i]*max(xs)*1.2, yvector[i]*max(ys)*1.2,\n",
    "                         list(dat.columns.values)[i], \n",
    "                         color='r')\n",
    "\n",
    "            cmap = plt.get_cmap('coolwarm')\n",
    "            \n",
    "    \n",
    "            plt.scatter(xs, ys, \n",
    "                        c=colorbar, \n",
    "                        cmap=cmap, \n",
    "                        s=marksize)\n",
    "#             plt.ylim(-0.8,1)\n",
    "            plt.xlabel('PC1')\n",
    "#             plt.ylabel('PC2')\n",
    "\n",
    "            clb = plt.colorbar()\n",
    "            clb.set_label(cbar)\n",
    "            ax1.spines['top'].set_visible(False);\n",
    "            ax1.spines['right'].set_visible(False);\n",
    "    if pd.isnull(savepath)==False:\n",
    "        plt.savefig(savepath, dpi=300, bbox_inches='tight')\n",
    "    plt.show()\n",
    "    \n",
    "    return(xs,ys)"
   ]
  },
  {
   "cell_type": "markdown",
   "metadata": {},
   "source": [
    "# Load data"
   ]
  },
  {
   "cell_type": "code",
   "execution_count": null,
   "metadata": {
    "ExecuteTime": {
     "end_time": "2020-04-22T08:07:58.964766Z",
     "start_time": "2020-04-22T08:07:58.945814Z"
    }
   },
   "outputs": [],
   "source": [
    "# Data loading from pickle\n",
    "df = pd.read_pickle(r'../data/data_PCA.txt') "
   ]
  },
  {
   "cell_type": "markdown",
   "metadata": {},
   "source": [
    "<font size=5> time series for the whole period for all variables"
   ]
  },
  {
   "cell_type": "code",
   "execution_count": null,
   "metadata": {
    "ExecuteTime": {
     "end_time": "2020-04-22T08:08:02.039758Z",
     "start_time": "2020-04-22T08:08:00.609595Z"
    }
   },
   "outputs": [],
   "source": [
    "with plt.style.context(\"seaborn-paper\"):\n",
    "    with plt.style.context(\"seaborn-white\"):\n",
    "\n",
    "        ax = df.plot(subplots=True,figsize=(16, 10),  style='o', sharex=True, legend=False, markersize=2);\n",
    "        ax[0].set_ylabel('$N_2O$ $(ppm)$')\n",
    "        ax[1].set_ylabel('$CO_2$ $(ppm)$')\n",
    "        ax[2].set_ylabel('$DO$ $(mg/l)$')\n",
    "        ax[3].set_ylabel('$NH_4$ $(mg/l)$')\n",
    "        ax[4].set_ylabel('$NO_3$ $(mg/l)$')\n",
    "        ax[5].set_ylabel('$Q_air$ $(m^3/h)$')\n",
    "        for i, a in enumerate(ax):\n",
    "            a.spines['top'].set_visible(False);\n",
    "            a.spines['right'].set_visible(False);\n",
    "# plt.savefig(r'C:\\Users\\Giacomo\\Desktop\\PhD UNIFI\\Thesis\\figures\\7_dataset.png', dpi=300, bbox_inches='tight')"
   ]
  },
  {
   "cell_type": "markdown",
   "metadata": {},
   "source": [
    "<font size=5> cleaned period"
   ]
  },
  {
   "cell_type": "code",
   "execution_count": null,
   "metadata": {
    "ExecuteTime": {
     "end_time": "2020-04-22T08:08:04.624840Z",
     "start_time": "2020-04-22T08:08:03.409126Z"
    },
    "scrolled": false
   },
   "outputs": [],
   "source": [
    "ax = df[df['NH_4']<6][df['CO2']>15000]['2012/08/21':'2012/08/25'].plot(subplots=True,figsize=(16, 10),  style='o', legend=False);\n",
    "ax[0].set_ylabel('$N_2O$ $(ppm)$')\n",
    "ax[1].set_ylabel('$CO_2$ $(ppm)$')\n",
    "ax[2].set_ylabel('$DO$ $(mg/l)$')\n",
    "ax[3].set_ylabel('$NH_4$ $(mg/l)$')\n",
    "ax[4].set_ylabel('$NO_3$ $(mg/l)$')\n",
    "ax[5].set_ylabel('$Q_air$ $(m^3/h)$')"
   ]
  },
  {
   "cell_type": "code",
   "execution_count": null,
   "metadata": {
    "ExecuteTime": {
     "end_time": "2020-04-22T08:08:04.633819Z",
     "start_time": "2020-04-22T08:08:04.625838Z"
    }
   },
   "outputs": [],
   "source": [
    "df_clean = df[df['NH_4']<6][df['CO2']>15000]"
   ]
  },
  {
   "cell_type": "code",
   "execution_count": null,
   "metadata": {
    "ExecuteTime": {
     "end_time": "2020-04-22T08:08:04.660784Z",
     "start_time": "2020-04-22T08:08:04.649804Z"
    }
   },
   "outputs": [],
   "source": [
    "df_clean_end = df[df['NH_4']<6][df['CO2']>15000]['2012/08/21':'2012/08/25']"
   ]
  },
  {
   "cell_type": "markdown",
   "metadata": {},
   "source": [
    "# Data preparation"
   ]
  },
  {
   "cell_type": "markdown",
   "metadata": {},
   "source": [
    "## scatterplot with all the data available and no filtering"
   ]
  },
  {
   "cell_type": "code",
   "execution_count": null,
   "metadata": {
    "ExecuteTime": {
     "end_time": "2020-04-22T08:08:11.412109Z",
     "start_time": "2020-04-22T08:08:06.497230Z"
    },
    "scrolled": false
   },
   "outputs": [],
   "source": [
    "scatter_matrix(df_clean_end, alpha=1, figsize=(12, 12), diagonal='kde');\n",
    "# plt.savefig('allVar_endAug12_scatter')"
   ]
  },
  {
   "cell_type": "markdown",
   "metadata": {},
   "source": [
    "## outlier removal with 95th percentile on the whole dataset grouping by each minute of the day"
   ]
  },
  {
   "cell_type": "code",
   "execution_count": null,
   "metadata": {
    "ExecuteTime": {
     "end_time": "2020-04-22T08:08:16.989443Z",
     "start_time": "2020-04-22T08:08:11.413105Z"
    },
    "scrolled": false
   },
   "outputs": [],
   "source": [
    "sns.pairplot(df_clean_end.groupby([df_clean_end.index.hour, \n",
    "                                   df_clean_end.index.minute]).quantile(0.95), diag_kind='kde')\n",
    "# plt.savefig('allVar_q95_scatter', dpi=200)`"
   ]
  },
  {
   "cell_type": "code",
   "execution_count": null,
   "metadata": {
    "ExecuteTime": {
     "end_time": "2020-04-22T08:08:17.221805Z",
     "start_time": "2020-04-22T08:08:16.991392Z"
    },
    "scrolled": false
   },
   "outputs": [],
   "source": [
    "ax1 = plt.scatter(df_clean_end['Qair_meas'].groupby([df_clean_end.index.hour, \n",
    "                                                     df_clean_end.index.minute]).quantile(0.95),\n",
    "                  df_clean_end['NH_4'].groupby([df_clean_end.index.hour, \n",
    "                                                df_clean_end.index.minute]).quantile(0.95),\n",
    "                  c=range(len(df_clean_end['Qair_meas'].groupby([df_clean_end.index.hour, \n",
    "                                                                 df_clean_end.index.minute]).quantile(0.95))),\n",
    "                  linewidth=0)\n",
    "ax1.axes.set_ylabel('$NH_4$ $mg/l$')\n",
    "ax1.axes.set_xlabel('$Q_air$ $m^3/h$')\n",
    "clb = plt.colorbar()\n",
    "clb.set_label('minutes of the day')\n",
    "\n",
    "# plt.savefig('scatterQairNH4', dpi=200)"
   ]
  },
  {
   "cell_type": "markdown",
   "metadata": {},
   "source": [
    "## visualization of 95th percentile results for each minute of the day"
   ]
  },
  {
   "cell_type": "code",
   "execution_count": null,
   "metadata": {
    "ExecuteTime": {
     "end_time": "2020-04-22T08:08:17.985660Z",
     "start_time": "2020-04-22T08:08:17.222794Z"
    },
    "scrolled": false
   },
   "outputs": [],
   "source": [
    "ax = df_clean_end.groupby([df_clean_end.index.hour, \n",
    "                           df_clean_end.index.minute]).quantile(0.95).plot(figsize=(12,8), \n",
    "                                                                           subplots=True,\n",
    "                                                                           legend=False);\n",
    "ax[0].set_ylabel('$N_2O$ $(ppm)$')\n",
    "ax[1].set_ylabel('$CO_2$ $(ppm)$')\n",
    "ax[2].set_ylabel('$DO$ $(mg/l)$')\n",
    "ax[3].set_ylabel('$NH_4$ $(mg/l)$')\n",
    "ax[4].set_ylabel('$NO_3$ $(mg/l)$')\n",
    "ax[5].set_ylabel('$Q_air$ $(m^3/h)$')\n",
    "ax[5].set_xlabel('$(hours, minutes)$')\n",
    "\n",
    "# plt.savefig('q95min', dpi=200)"
   ]
  },
  {
   "cell_type": "markdown",
   "metadata": {},
   "source": [
    "## per minute of the hour"
   ]
  },
  {
   "cell_type": "code",
   "execution_count": null,
   "metadata": {
    "ExecuteTime": {
     "end_time": "2020-04-22T08:08:19.022882Z",
     "start_time": "2020-04-22T08:08:17.986656Z"
    }
   },
   "outputs": [],
   "source": [
    "ax = df_clean_end.groupby(df_clean_end.index.minute).quantile(q=0.95).plot(figsize=(12,8), \n",
    "                                                                           subplots=True, \n",
    "                                                                           legend=False);\n",
    "ax[0].set_ylabel('$ppm$'), ax[0].legend(['$N_2O$'], loc=4)\n",
    "ax[1].set_ylabel('$ppm$'), ax[1].legend(['$CO_2$'])\n",
    "ax[2].set_ylabel('$mg/l$'), ax[2].legend(['$DO$'], loc=4)\n",
    "ax[3].set_ylabel('$mg/l$'), ax[3].legend(['$NH_4$'], loc=4)\n",
    "ax[4].set_ylabel('$mg/l$'), ax[4].legend(['$NO_3$'], loc=4)\n",
    "ax[5].set_ylabel('$m^3/h$'), ax[5].legend(['$Qair$'], loc=4), ax[5].set_xlabel('$hours$');\n",
    "# plt.savefig('allVar_q95')"
   ]
  },
  {
   "cell_type": "markdown",
   "metadata": {},
   "source": [
    "## per hour of the day"
   ]
  },
  {
   "cell_type": "markdown",
   "metadata": {},
   "source": [
    "<div class=\"alert alert-success\">\n",
    "    <b> EXERCISE: </b> group data and plot it per hour of the day\n",
    "</div>"
   ]
  },
  {
   "cell_type": "code",
   "execution_count": null,
   "metadata": {},
   "outputs": [],
   "source": []
  },
  {
   "cell_type": "markdown",
   "metadata": {},
   "source": [
    "<font size=5> define $df_q95$"
   ]
  },
  {
   "cell_type": "code",
   "execution_count": null,
   "metadata": {
    "ExecuteTime": {
     "end_time": "2020-04-22T08:08:23.012238Z",
     "start_time": "2020-04-22T08:08:23.001269Z"
    }
   },
   "outputs": [],
   "source": [
    "#df_q95 = df_clean_end.groupby(df_clean_end.index.minute).quantile(q=0.95) #typical hour\n",
    "#df_q95 = df_clean_end.groupby([df_clean_end.index.hour, df_clean_end.index.minute]).quantile(q=0.95) #typical day in minutes\n",
    "df_q95 = df_clean_end.groupby(df_clean_end.index.hour).quantile(q=0.95) #typical day in hours"
   ]
  },
  {
   "cell_type": "markdown",
   "metadata": {},
   "source": [
    "<font size=5> define a $df$ without $N_2O$ variable for hunting a PCA based model"
   ]
  },
  {
   "cell_type": "code",
   "execution_count": null,
   "metadata": {
    "ExecuteTime": {
     "end_time": "2020-04-22T08:08:23.765220Z",
     "start_time": "2020-04-22T08:08:23.761200Z"
    }
   },
   "outputs": [],
   "source": [
    "df_q95_NOn2o = df_q95.drop('N2O', 1)"
   ]
  },
  {
   "cell_type": "markdown",
   "metadata": {},
   "source": [
    "# PCA on cov mat for $df_q95$ without $N_2O$"
   ]
  },
  {
   "cell_type": "code",
   "execution_count": null,
   "metadata": {
    "ExecuteTime": {
     "end_time": "2020-04-22T08:08:24.614915Z",
     "start_time": "2020-04-22T08:08:24.592974Z"
    },
    "scrolled": true
   },
   "outputs": [],
   "source": [
    "df_q95_NOn2o.describe()"
   ]
  },
  {
   "cell_type": "code",
   "execution_count": null,
   "metadata": {
    "ExecuteTime": {
     "end_time": "2020-04-22T08:08:26.395150Z",
     "start_time": "2020-04-22T08:08:26.073052Z"
    },
    "scrolled": false
   },
   "outputs": [],
   "source": [
    "PCA_hommade(df_q95_NOn2o, df_q95['N2O'])"
   ]
  },
  {
   "cell_type": "code",
   "execution_count": null,
   "metadata": {
    "ExecuteTime": {
     "end_time": "2020-04-22T08:08:31.435690Z",
     "start_time": "2020-04-22T08:08:31.297030Z"
    },
    "scrolled": false
   },
   "outputs": [],
   "source": [
    "PCAskl(df_q95_NOn2o, df_q95['N2O'])"
   ]
  },
  {
   "cell_type": "markdown",
   "metadata": {},
   "source": [
    "<div class=\"alert alert-success\">\n",
    "    <b> EXERCISE: </b> make all the plots appearing with the same size\n",
    "</div>"
   ]
  },
  {
   "cell_type": "code",
   "execution_count": null,
   "metadata": {},
   "outputs": [],
   "source": []
  },
  {
   "cell_type": "markdown",
   "metadata": {},
   "source": [
    "<font size=5> In fact, it seems like just 2 PCs can be used since the low emission points are not distinguished either by the 3rd PC"
   ]
  },
  {
   "cell_type": "markdown",
   "metadata": {},
   "source": [
    "## additional visualization"
   ]
  },
  {
   "cell_type": "code",
   "execution_count": null,
   "metadata": {
    "ExecuteTime": {
     "end_time": "2020-04-22T08:09:55.226847Z",
     "start_time": "2020-04-22T08:09:39.768653Z"
    }
   },
   "outputs": [],
   "source": [
    "g = sns.PairGrid(df_q95)\n",
    "g.map_diag(sns.kdeplot)\n",
    "g.map_offdiag(sns.kdeplot, cmap=\"Blues_d\", n_levels=6);"
   ]
  },
  {
   "cell_type": "code",
   "execution_count": null,
   "metadata": {
    "ExecuteTime": {
     "end_time": "2020-04-22T08:09:57.852253Z",
     "start_time": "2020-04-22T08:09:57.720605Z"
    }
   },
   "outputs": [],
   "source": [
    "xs, ys = PCAskl(df_q95.drop(['CO2', 'Qair_meas'], 1), df_q95['N2O'], marksize=((df_q95['NH_4']/df_q95['NH_4'].min()))*50)"
   ]
  },
  {
   "cell_type": "markdown",
   "metadata": {},
   "source": [
    "# Clustering"
   ]
  },
  {
   "cell_type": "code",
   "execution_count": null,
   "metadata": {
    "ExecuteTime": {
     "end_time": "2020-04-22T08:10:01.865700Z",
     "start_time": "2020-04-22T08:10:01.768982Z"
    }
   },
   "outputs": [],
   "source": [
    "import numpy as np\n",
    "import matplotlib.pyplot as plt\n",
    "import seaborn as sns\n",
    "import sklearn.cluster as cluster\n",
    "import time"
   ]
  },
  {
   "cell_type": "code",
   "execution_count": null,
   "metadata": {
    "ExecuteTime": {
     "end_time": "2020-04-22T08:10:13.723951Z",
     "start_time": "2020-04-22T08:10:13.720998Z"
    }
   },
   "outputs": [],
   "source": [
    "data = np.column_stack((xs,ys))"
   ]
  },
  {
   "cell_type": "code",
   "execution_count": null,
   "metadata": {
    "ExecuteTime": {
     "end_time": "2020-04-22T08:10:14.524847Z",
     "start_time": "2020-04-22T08:10:14.496966Z"
    }
   },
   "outputs": [],
   "source": [
    "cluster.KMeans().fit_predict(data)"
   ]
  },
  {
   "cell_type": "code",
   "execution_count": null,
   "metadata": {
    "ExecuteTime": {
     "end_time": "2020-04-22T08:10:15.296742Z",
     "start_time": "2020-04-22T08:10:15.288796Z"
    }
   },
   "outputs": [],
   "source": [
    "plot_kwds = {'alpha' : 1, 's' : 50, 'linewidths':0}\n",
    "def plot_clusters(data, algorithm, args, kwds):\n",
    "\n",
    "    labels = algorithm(*args, **kwds).fit_predict(data)\n",
    "\n",
    "    with plt.style.context(\"seaborn-paper\"):\n",
    "        with plt.style.context(\"seaborn-white\"):\n",
    "            plt.figure(figsize=(3,2.5))\n",
    "            palette = sns.color_palette('muted', np.unique(labels).max() + 12)\n",
    "            colors = [palette[x] if x >= 0 else (0.0, 0.0, 0.0) for x in labels]\n",
    "            plt.scatter(data.T[0], data.T[1], c=colors, **plot_kwds)\n",
    "#             frame = plt.gca()\n",
    "#             frame.axes.get_yaxis().set_visible(False)\n",
    "            ax = plt.axes()\n",
    "            ax.spines['top'].set_visible(False);\n",
    "            ax.spines['right'].set_visible(False)\n",
    "            ax.set_ylabel('PC2');\n",
    "            ax.set_xlabel('PC1');"
   ]
  },
  {
   "cell_type": "code",
   "execution_count": null,
   "metadata": {
    "ExecuteTime": {
     "end_time": "2020-04-22T08:10:16.050724Z",
     "start_time": "2020-04-22T08:10:15.921072Z"
    }
   },
   "outputs": [],
   "source": [
    "xs, ys = PCAskl(df_q95.drop(['CO2', 'Qair_meas'], 1), df_q95['N2O'], marksize=((df_q95['NH_4']/df_q95['NH_4'].min()))*50)"
   ]
  },
  {
   "cell_type": "code",
   "execution_count": null,
   "metadata": {
    "ExecuteTime": {
     "end_time": "2020-04-22T08:14:24.584820Z",
     "start_time": "2020-04-22T08:14:24.489042Z"
    },
    "scrolled": true
   },
   "outputs": [],
   "source": [
    "plot_clusters(data, cluster.KMeans, (), {'n_clusters':3})"
   ]
  },
  {
   "cell_type": "markdown",
   "metadata": {},
   "source": [
    "<div class=\"alert alert-success\">\n",
    "    <b> EXERCISE: </b> try another clustering method\n",
    "</div>"
   ]
  },
  {
   "cell_type": "code",
   "execution_count": null,
   "metadata": {},
   "outputs": [],
   "source": []
  }
 ],
 "metadata": {
  "anaconda-cloud": {},
  "kernelspec": {
   "display_name": "Python 3",
   "language": "python",
   "name": "python3"
  },
  "language_info": {
   "codemirror_mode": {
    "name": "ipython",
    "version": 3
   },
   "file_extension": ".py",
   "mimetype": "text/x-python",
   "name": "python",
   "nbconvert_exporter": "python",
   "pygments_lexer": "ipython3",
   "version": "3.7.4"
  },
  "toc": {
   "base_numbering": 1,
   "nav_menu": {
    "height": "487px",
    "width": "253px"
   },
   "number_sections": true,
   "sideBar": true,
   "skip_h1_title": false,
   "title_cell": "Table of Contents",
   "title_sidebar": "Contents",
   "toc_cell": false,
   "toc_position": {
    "height": "684.512px",
    "left": "0px",
    "right": "1609.33px",
    "top": "109.453px",
    "width": "210px"
   },
   "toc_section_display": "block",
   "toc_window_display": true
  }
 },
 "nbformat": 4,
 "nbformat_minor": 1
}
