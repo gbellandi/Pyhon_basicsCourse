{
 "cells": [
  {
   "cell_type": "markdown",
   "metadata": {},
   "source": [
    "<b style=\"font-size:30px\"> Respirometry experiment </b>"
   ]
  },
  {
   "cell_type": "markdown",
   "metadata": {},
   "source": [
    "# Import modules"
   ]
  },
  {
   "cell_type": "code",
   "execution_count": null,
   "metadata": {
    "ExecuteTime": {
     "end_time": "2020-04-21T11:34:19.304294Z",
     "start_time": "2020-04-21T11:34:17.753174Z"
    }
   },
   "outputs": [],
   "source": [
    "import numpy as np\n",
    "import pandas as pd\n",
    "import matplotlib.pyplot as plt\n",
    "import seaborn as sns\n",
    "%matplotlib inline"
   ]
  },
  {
   "cell_type": "markdown",
   "metadata": {},
   "source": [
    "# Load data"
   ]
  },
  {
   "cell_type": "code",
   "execution_count": null,
   "metadata": {
    "ExecuteTime": {
     "end_time": "2020-04-21T09:34:05.369728Z",
     "start_time": "2020-04-21T09:34:03.407148Z"
    }
   },
   "outputs": [],
   "source": [
    "df = pd.read_excel('../data/Respirometric tests xls/Respirometry OUR heterotrophic growth blank.xlsx', \n",
    "                   sheet_name='Original data',\n",
    "                   usecols='A,B,D,I',\n",
    "#                  index_col=0,\n",
    "                   skiprows=8)"
   ]
  },
  {
   "cell_type": "code",
   "execution_count": null,
   "metadata": {},
   "outputs": [],
   "source": [
    "df.head()"
   ]
  },
  {
   "cell_type": "code",
   "execution_count": null,
   "metadata": {
    "ExecuteTime": {
     "end_time": "2020-04-21T09:34:06.261494Z",
     "start_time": "2020-04-21T09:34:06.248526Z"
    }
   },
   "outputs": [],
   "source": [
    "df.columns"
   ]
  },
  {
   "cell_type": "markdown",
   "metadata": {},
   "source": [
    "# adjust and refurbish your dataframe"
   ]
  },
  {
   "cell_type": "code",
   "execution_count": null,
   "metadata": {
    "ExecuteTime": {
     "end_time": "2020-04-21T09:34:07.393866Z",
     "start_time": "2020-04-21T09:34:07.384841Z"
    }
   },
   "outputs": [],
   "source": [
    "df[' Time'] = df[' Time'] / 60 # to hours"
   ]
  },
  {
   "cell_type": "code",
   "execution_count": null,
   "metadata": {
    "ExecuteTime": {
     "end_time": "2020-04-21T09:34:07.637709Z",
     "start_time": "2020-04-21T09:34:07.631743Z"
    }
   },
   "outputs": [],
   "source": [
    "df = df.set_index(' Time')"
   ]
  },
  {
   "cell_type": "code",
   "execution_count": null,
   "metadata": {
    "ExecuteTime": {
     "end_time": "2020-04-21T11:35:08.989271Z",
     "start_time": "2020-04-21T11:35:08.893211Z"
    }
   },
   "outputs": [],
   "source": [
    "df['OUR'].plot()"
   ]
  },
  {
   "cell_type": "code",
   "execution_count": null,
   "metadata": {
    "ExecuteTime": {
     "end_time": "2020-04-21T11:42:24.092259Z",
     "start_time": "2020-04-21T11:42:23.992382Z"
    }
   },
   "outputs": [],
   "source": [
    "df['OUR'].plot(marker='o')"
   ]
  },
  {
   "cell_type": "code",
   "execution_count": null,
   "metadata": {
    "ExecuteTime": {
     "end_time": "2020-04-21T12:09:19.324413Z",
     "start_time": "2020-04-21T12:09:19.217289Z"
    }
   },
   "outputs": [],
   "source": [
    "df['OUR'][12:17.1].plot(marker='o')"
   ]
  },
  {
   "cell_type": "markdown",
   "metadata": {},
   "source": [
    "# calculate your parameters mumax and bh"
   ]
  },
  {
   "cell_type": "markdown",
   "metadata": {},
   "source": [
    "## log OUR"
   ]
  },
  {
   "cell_type": "code",
   "execution_count": null,
   "metadata": {
    "ExecuteTime": {
     "end_time": "2020-04-21T14:14:28.597725Z",
     "start_time": "2020-04-21T14:14:28.590750Z"
    }
   },
   "outputs": [],
   "source": [
    "logOUR = np.log10(df['OUR'][12:16].dropna())"
   ]
  },
  {
   "cell_type": "code",
   "execution_count": null,
   "metadata": {
    "ExecuteTime": {
     "end_time": "2020-04-21T14:14:33.728659Z",
     "start_time": "2020-04-21T14:14:33.614925Z"
    }
   },
   "outputs": [],
   "source": [
    "logOUR.plot(marker='o');"
   ]
  },
  {
   "cell_type": "markdown",
   "metadata": {},
   "source": [
    "<div class=\"alert alert-success\">\n",
    "    <b> EXERCISE: </b> Do you remember how to use a rolling mean? Go! And plot it\n",
    "</div>"
   ]
  },
  {
   "cell_type": "code",
   "execution_count": null,
   "metadata": {},
   "outputs": [],
   "source": [
    "#.rolling().mean()... try composing this"
   ]
  },
  {
   "cell_type": "code",
   "execution_count": null,
   "metadata": {
    "ExecuteTime": {
     "end_time": "2020-04-21T14:10:56.188858Z",
     "start_time": "2020-04-21T14:10:56.180879Z"
    }
   },
   "outputs": [],
   "source": [
    "logOUR.dropna().rolling"
   ]
  },
  {
   "cell_type": "code",
   "execution_count": null,
   "metadata": {
    "ExecuteTime": {
     "end_time": "2020-04-21T14:10:56.675556Z",
     "start_time": "2020-04-21T14:10:56.670569Z"
    }
   },
   "outputs": [],
   "source": [
    "m, q = np.polyfit(np.array(logOUR.dropna().index), logOUR.dropna().values, 1)"
   ]
  },
  {
   "cell_type": "code",
   "execution_count": null,
   "metadata": {
    "ExecuteTime": {
     "end_time": "2020-04-21T14:10:57.347013Z",
     "start_time": "2020-04-21T14:10:57.342027Z"
    }
   },
   "outputs": [],
   "source": [
    "print(m, q)"
   ]
  },
  {
   "cell_type": "code",
   "execution_count": null,
   "metadata": {
    "ExecuteTime": {
     "end_time": "2020-04-21T14:11:33.697999Z",
     "start_time": "2020-04-21T14:11:33.594973Z"
    }
   },
   "outputs": [],
   "source": [
    "plt.plot(logOUR.dropna().index, logOUR.dropna().values, 'o')\n",
    "plt.plot(logOUR.dropna().index, a*logOUR.dropna().index + b, '-');"
   ]
  },
  {
   "cell_type": "markdown",
   "metadata": {},
   "source": [
    "$$ \\mu_{max} - b_H $$"
   ]
  },
  {
   "cell_type": "code",
   "execution_count": null,
   "metadata": {
    "ExecuteTime": {
     "end_time": "2020-04-21T14:11:34.592200Z",
     "start_time": "2020-04-21T14:11:34.588211Z"
    }
   },
   "outputs": [],
   "source": [
    "m * 24"
   ]
  },
  {
   "cell_type": "code",
   "execution_count": null,
   "metadata": {
    "ExecuteTime": {
     "end_time": "2020-04-21T14:11:34.884938Z",
     "start_time": "2020-04-21T14:11:34.878957Z"
    }
   },
   "outputs": [],
   "source": [
    "mumax = m*24 - 0.62\n",
    "mumax"
   ]
  },
  {
   "cell_type": "markdown",
   "metadata": {},
   "source": [
    "# with statsmodels"
   ]
  },
  {
   "cell_type": "markdown",
   "metadata": {},
   "source": [
    "source https://towardsdatascience.com/simple-and-multiple-linear-regression-in-python-c928425168f9"
   ]
  },
  {
   "cell_type": "code",
   "execution_count": null,
   "metadata": {
    "ExecuteTime": {
     "end_time": "2020-04-21T14:11:35.999896Z",
     "start_time": "2020-04-21T14:11:35.974967Z"
    }
   },
   "outputs": [],
   "source": [
    "import statsmodels.api as sm\n",
    "\n",
    "X = np.array(logOUR.dropna().index)\n",
    "y = np.array(logOUR.dropna().values)\n",
    "\n",
    "X = sm.add_constant(X) ## let's add an intercept (beta_0) to our model\n",
    "\n",
    "# Note the difference in argument order\n",
    "model = sm.OLS(y, X).fit() ## sm.OLS(output, input)\n",
    "predictions = model.predict(X)\n",
    "\n",
    "# Print out the statistics\n",
    "model.summary()"
   ]
  },
  {
   "cell_type": "code",
   "execution_count": null,
   "metadata": {},
   "outputs": [],
   "source": []
  },
  {
   "cell_type": "markdown",
   "metadata": {},
   "source": [
    "<div class=\"alert alert-success\">\n",
    "    <b> EXERCISE: </b> Complete the cell below and calculate the OUR yourself. Compare it with the one already present in the data\n",
    "</div>"
   ]
  },
  {
   "cell_type": "markdown",
   "metadata": {},
   "source": [
    "$$ OUR = k_La . (C_{sat} - C_t) - \\frac{dC}{dt} $$"
   ]
  },
  {
   "cell_type": "code",
   "execution_count": null,
   "metadata": {
    "ExecuteTime": {
     "end_time": "2020-04-21T09:34:03.012075Z",
     "start_time": "2020-04-21T09:34:03.008083Z"
    }
   },
   "outputs": [],
   "source": [
    "kla = 4. # 1/h\n",
    "Csat = 10. # mg/L"
   ]
  },
  {
   "cell_type": "code",
   "execution_count": null,
   "metadata": {},
   "outputs": [],
   "source": [
    "df['newOUR'] = kla*(Csat - df['DO Probe']) - "
   ]
  },
  {
   "cell_type": "code",
   "execution_count": null,
   "metadata": {},
   "outputs": [],
   "source": []
  },
  {
   "cell_type": "code",
   "execution_count": null,
   "metadata": {},
   "outputs": [],
   "source": []
  },
  {
   "cell_type": "code",
   "execution_count": null,
   "metadata": {},
   "outputs": [],
   "source": []
  },
  {
   "cell_type": "code",
   "execution_count": null,
   "metadata": {},
   "outputs": [],
   "source": []
  },
  {
   "cell_type": "code",
   "execution_count": null,
   "metadata": {},
   "outputs": [],
   "source": []
  }
 ],
 "metadata": {
  "kernelspec": {
   "display_name": "Python [conda env:.conda-data-analysis-course]",
   "language": "python",
   "name": "conda-env-.conda-data-analysis-course-py"
  },
  "language_info": {
   "codemirror_mode": {
    "name": "ipython",
    "version": 3
   },
   "file_extension": ".py",
   "mimetype": "text/x-python",
   "name": "python",
   "nbconvert_exporter": "python",
   "pygments_lexer": "ipython3",
   "version": "3.7.7"
  },
  "toc": {
   "base_numbering": 1,
   "nav_menu": {},
   "number_sections": true,
   "sideBar": true,
   "skip_h1_title": false,
   "title_cell": "Table of Contents",
   "title_sidebar": "Contents",
   "toc_cell": false,
   "toc_position": {},
   "toc_section_display": true,
   "toc_window_display": true
  }
 },
 "nbformat": 4,
 "nbformat_minor": 2
}
