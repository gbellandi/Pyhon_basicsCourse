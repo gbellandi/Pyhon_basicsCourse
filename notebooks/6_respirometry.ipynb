{
 "cells": [
  {
   "cell_type": "markdown",
   "metadata": {},
   "source": [
    "<b style=\"font-size:30px\"> Respirometry experiment </b>"
   ]
  },
  {
   "cell_type": "markdown",
   "metadata": {},
   "source": [
    "# Import modules"
   ]
  },
  {
   "cell_type": "code",
   "execution_count": 6,
   "metadata": {
    "ExecuteTime": {
     "end_time": "2020-04-22T09:37:21.408850Z",
     "start_time": "2020-04-22T09:37:21.401867Z"
    }
   },
   "outputs": [],
   "source": [
    "import numpy as np\n",
    "import pandas as pd\n",
    "import matplotlib.pyplot as plt\n",
    "import seaborn as sns\n",
    "%matplotlib inline"
   ]
  },
  {
   "cell_type": "markdown",
   "metadata": {},
   "source": [
    "# Load data"
   ]
  },
  {
   "cell_type": "code",
   "execution_count": 29,
   "metadata": {
    "ExecuteTime": {
     "end_time": "2020-04-22T09:44:14.483820Z",
     "start_time": "2020-04-22T09:44:11.982745Z"
    }
   },
   "outputs": [],
   "source": [
    "df = pd.read_excel('../data/Respirometric tests xls/Respirometry OUR heterotrophic growth blank.xlsx', \n",
    "                   sheet_name='Original data',\n",
    "                   usecols='A,B,D,I',\n",
    "#                  index_col=0,\n",
    "                   skiprows=8)"
   ]
  },
  {
   "cell_type": "code",
   "execution_count": 30,
   "metadata": {
    "ExecuteTime": {
     "end_time": "2020-04-22T09:44:15.559269Z",
     "start_time": "2020-04-22T09:44:15.551307Z"
    }
   },
   "outputs": [
    {
     "data": {
      "text/html": [
       "<div>\n",
       "<style scoped>\n",
       "    .dataframe tbody tr th:only-of-type {\n",
       "        vertical-align: middle;\n",
       "    }\n",
       "\n",
       "    .dataframe tbody tr th {\n",
       "        vertical-align: top;\n",
       "    }\n",
       "\n",
       "    .dataframe thead th {\n",
       "        text-align: right;\n",
       "    }\n",
       "</style>\n",
       "<table border=\"1\" class=\"dataframe\">\n",
       "  <thead>\n",
       "    <tr style=\"text-align: right;\">\n",
       "      <th></th>\n",
       "      <th>Time</th>\n",
       "      <th>pH Probe</th>\n",
       "      <th>DO Probe</th>\n",
       "      <th>OUR</th>\n",
       "    </tr>\n",
       "  </thead>\n",
       "  <tbody>\n",
       "    <tr>\n",
       "      <th>0</th>\n",
       "      <td>0.000000</td>\n",
       "      <td>7.953</td>\n",
       "      <td>6.09</td>\n",
       "      <td>NaN</td>\n",
       "    </tr>\n",
       "    <tr>\n",
       "      <th>1</th>\n",
       "      <td>0.097887</td>\n",
       "      <td>7.948</td>\n",
       "      <td>6.13</td>\n",
       "      <td>NaN</td>\n",
       "    </tr>\n",
       "    <tr>\n",
       "      <th>2</th>\n",
       "      <td>0.196953</td>\n",
       "      <td>7.949</td>\n",
       "      <td>6.10</td>\n",
       "      <td>NaN</td>\n",
       "    </tr>\n",
       "    <tr>\n",
       "      <th>3</th>\n",
       "      <td>0.294840</td>\n",
       "      <td>7.950</td>\n",
       "      <td>6.04</td>\n",
       "      <td>NaN</td>\n",
       "    </tr>\n",
       "    <tr>\n",
       "      <th>4</th>\n",
       "      <td>0.392727</td>\n",
       "      <td>7.951</td>\n",
       "      <td>6.02</td>\n",
       "      <td>NaN</td>\n",
       "    </tr>\n",
       "  </tbody>\n",
       "</table>\n",
       "</div>"
      ],
      "text/plain": [
       "       Time  pH Probe  DO Probe  OUR\n",
       "0  0.000000     7.953      6.09  NaN\n",
       "1  0.097887     7.948      6.13  NaN\n",
       "2  0.196953     7.949      6.10  NaN\n",
       "3  0.294840     7.950      6.04  NaN\n",
       "4  0.392727     7.951      6.02  NaN"
      ]
     },
     "execution_count": 30,
     "metadata": {},
     "output_type": "execute_result"
    }
   ],
   "source": [
    "df.head()"
   ]
  },
  {
   "cell_type": "code",
   "execution_count": 8,
   "metadata": {
    "ExecuteTime": {
     "end_time": "2020-04-22T09:37:35.257349Z",
     "start_time": "2020-04-22T09:37:35.251366Z"
    }
   },
   "outputs": [
    {
     "data": {
      "text/plain": [
       "Index(['pH Probe', 'DO Probe', 'OUR'], dtype='object')"
      ]
     },
     "execution_count": 8,
     "metadata": {},
     "output_type": "execute_result"
    }
   ],
   "source": [
    "df.columns"
   ]
  },
  {
   "cell_type": "markdown",
   "metadata": {},
   "source": [
    "# adjust and refurbish your dataframe"
   ]
  },
  {
   "cell_type": "code",
   "execution_count": 31,
   "metadata": {
    "ExecuteTime": {
     "end_time": "2020-04-22T09:44:37.444070Z",
     "start_time": "2020-04-22T09:44:37.439083Z"
    }
   },
   "outputs": [],
   "source": [
    "df[' Time'] = df[' Time'] / 60 # to hours"
   ]
  },
  {
   "cell_type": "code",
   "execution_count": 43,
   "metadata": {
    "ExecuteTime": {
     "end_time": "2020-04-22T09:53:23.058603Z",
     "start_time": "2020-04-22T09:53:23.053617Z"
    }
   },
   "outputs": [],
   "source": [
    "df = df.set_index(' Time')"
   ]
  },
  {
   "cell_type": "code",
   "execution_count": 44,
   "metadata": {
    "ExecuteTime": {
     "end_time": "2020-04-22T09:53:27.284702Z",
     "start_time": "2020-04-22T09:53:27.276699Z"
    }
   },
   "outputs": [
    {
     "data": {
      "text/html": [
       "<div>\n",
       "<style scoped>\n",
       "    .dataframe tbody tr th:only-of-type {\n",
       "        vertical-align: middle;\n",
       "    }\n",
       "\n",
       "    .dataframe tbody tr th {\n",
       "        vertical-align: top;\n",
       "    }\n",
       "\n",
       "    .dataframe thead th {\n",
       "        text-align: right;\n",
       "    }\n",
       "</style>\n",
       "<table border=\"1\" class=\"dataframe\">\n",
       "  <thead>\n",
       "    <tr style=\"text-align: right;\">\n",
       "      <th></th>\n",
       "      <th>pH Probe</th>\n",
       "      <th>DO Probe</th>\n",
       "      <th>OUR</th>\n",
       "    </tr>\n",
       "    <tr>\n",
       "      <th>Time</th>\n",
       "      <th></th>\n",
       "      <th></th>\n",
       "      <th></th>\n",
       "    </tr>\n",
       "  </thead>\n",
       "  <tbody>\n",
       "    <tr>\n",
       "      <th>0.000000</th>\n",
       "      <td>7.953</td>\n",
       "      <td>6.09</td>\n",
       "      <td>NaN</td>\n",
       "    </tr>\n",
       "    <tr>\n",
       "      <th>0.001631</th>\n",
       "      <td>7.948</td>\n",
       "      <td>6.13</td>\n",
       "      <td>NaN</td>\n",
       "    </tr>\n",
       "    <tr>\n",
       "      <th>0.003283</th>\n",
       "      <td>7.949</td>\n",
       "      <td>6.10</td>\n",
       "      <td>NaN</td>\n",
       "    </tr>\n",
       "    <tr>\n",
       "      <th>0.004914</th>\n",
       "      <td>7.950</td>\n",
       "      <td>6.04</td>\n",
       "      <td>NaN</td>\n",
       "    </tr>\n",
       "    <tr>\n",
       "      <th>0.006545</th>\n",
       "      <td>7.951</td>\n",
       "      <td>6.02</td>\n",
       "      <td>NaN</td>\n",
       "    </tr>\n",
       "  </tbody>\n",
       "</table>\n",
       "</div>"
      ],
      "text/plain": [
       "          pH Probe  DO Probe  OUR\n",
       " Time                            \n",
       "0.000000     7.953      6.09  NaN\n",
       "0.001631     7.948      6.13  NaN\n",
       "0.003283     7.949      6.10  NaN\n",
       "0.004914     7.950      6.04  NaN\n",
       "0.006545     7.951      6.02  NaN"
      ]
     },
     "execution_count": 44,
     "metadata": {},
     "output_type": "execute_result"
    }
   ],
   "source": [
    "df.head()"
   ]
  },
  {
   "cell_type": "code",
   "execution_count": 41,
   "metadata": {
    "ExecuteTime": {
     "end_time": "2020-04-22T09:53:03.034222Z",
     "start_time": "2020-04-22T09:53:03.030232Z"
    }
   },
   "outputs": [],
   "source": [
    "df = df.reset_index()"
   ]
  },
  {
   "cell_type": "code",
   "execution_count": 42,
   "metadata": {
    "ExecuteTime": {
     "end_time": "2020-04-22T09:53:08.119262Z",
     "start_time": "2020-04-22T09:53:08.108325Z"
    }
   },
   "outputs": [
    {
     "data": {
      "text/html": [
       "<div>\n",
       "<style scoped>\n",
       "    .dataframe tbody tr th:only-of-type {\n",
       "        vertical-align: middle;\n",
       "    }\n",
       "\n",
       "    .dataframe tbody tr th {\n",
       "        vertical-align: top;\n",
       "    }\n",
       "\n",
       "    .dataframe thead th {\n",
       "        text-align: right;\n",
       "    }\n",
       "</style>\n",
       "<table border=\"1\" class=\"dataframe\">\n",
       "  <thead>\n",
       "    <tr style=\"text-align: right;\">\n",
       "      <th></th>\n",
       "      <th>Time</th>\n",
       "      <th>pH Probe</th>\n",
       "      <th>DO Probe</th>\n",
       "      <th>OUR</th>\n",
       "    </tr>\n",
       "  </thead>\n",
       "  <tbody>\n",
       "    <tr>\n",
       "      <th>0</th>\n",
       "      <td>0.000000</td>\n",
       "      <td>7.953</td>\n",
       "      <td>6.09</td>\n",
       "      <td>NaN</td>\n",
       "    </tr>\n",
       "    <tr>\n",
       "      <th>1</th>\n",
       "      <td>0.001631</td>\n",
       "      <td>7.948</td>\n",
       "      <td>6.13</td>\n",
       "      <td>NaN</td>\n",
       "    </tr>\n",
       "    <tr>\n",
       "      <th>2</th>\n",
       "      <td>0.003283</td>\n",
       "      <td>7.949</td>\n",
       "      <td>6.10</td>\n",
       "      <td>NaN</td>\n",
       "    </tr>\n",
       "    <tr>\n",
       "      <th>3</th>\n",
       "      <td>0.004914</td>\n",
       "      <td>7.950</td>\n",
       "      <td>6.04</td>\n",
       "      <td>NaN</td>\n",
       "    </tr>\n",
       "    <tr>\n",
       "      <th>4</th>\n",
       "      <td>0.006545</td>\n",
       "      <td>7.951</td>\n",
       "      <td>6.02</td>\n",
       "      <td>NaN</td>\n",
       "    </tr>\n",
       "  </tbody>\n",
       "</table>\n",
       "</div>"
      ],
      "text/plain": [
       "       Time  pH Probe  DO Probe  OUR\n",
       "0  0.000000     7.953      6.09  NaN\n",
       "1  0.001631     7.948      6.13  NaN\n",
       "2  0.003283     7.949      6.10  NaN\n",
       "3  0.004914     7.950      6.04  NaN\n",
       "4  0.006545     7.951      6.02  NaN"
      ]
     },
     "execution_count": 42,
     "metadata": {},
     "output_type": "execute_result"
    }
   ],
   "source": [
    "df.head()"
   ]
  },
  {
   "cell_type": "code",
   "execution_count": 17,
   "metadata": {
    "ExecuteTime": {
     "end_time": "2020-04-22T09:40:35.385075Z",
     "start_time": "2020-04-22T09:40:35.254689Z"
    }
   },
   "outputs": [
    {
     "data": {
      "text/plain": [
       "<matplotlib.axes._subplots.AxesSubplot at 0xed02f0>"
      ]
     },
     "execution_count": 17,
     "metadata": {},
     "output_type": "execute_result"
    },
    {
     "data": {
      "image/png": "[encoded data removed]",
      "text/plain": [
       "<Figure size 432x288 with 1 Axes>"
      ]
     },
     "metadata": {
      "needs_background": "light"
     },
     "output_type": "display_data"
    }
   ],
   "source": [
    "df['DO Probe'].plot()"
   ]
  },
  {
   "cell_type": "code",
   "execution_count": 21,
   "metadata": {
    "ExecuteTime": {
     "end_time": "2020-04-22T09:40:59.901192Z",
     "start_time": "2020-04-22T09:40:59.766553Z"
    }
   },
   "outputs": [
    {
     "data": {
      "text/plain": [
       "<matplotlib.axes._subplots.AxesSubplot at 0xd23e410>"
      ]
     },
     "execution_count": 21,
     "metadata": {},
     "output_type": "execute_result"
    },
    {
     "data": {
      "image/png": "[encoded data removed]",
      "text/plain": [
       "<Figure size 432x288 with 1 Axes>"
      ]
     },
     "metadata": {
      "needs_background": "light"
     },
     "output_type": "display_data"
    }
   ],
   "source": [
    "df['OUR'].plot(marker='x', color='r')"
   ]
  },
  {
   "cell_type": "code",
   "execution_count": 25,
   "metadata": {
    "ExecuteTime": {
     "end_time": "2020-04-22T09:42:19.103889Z",
     "start_time": "2020-04-22T09:42:19.095911Z"
    }
   },
   "outputs": [
    {
     "data": {
      "text/plain": [
       "count    477.000000\n",
       "mean      23.166851\n",
       "std       29.097432\n",
       "min      -97.016645\n",
       "25%        8.559742\n",
       "50%       15.193307\n",
       "75%       28.414871\n",
       "max      128.258662\n",
       "Name: OUR, dtype: float64"
      ]
     },
     "execution_count": 25,
     "metadata": {},
     "output_type": "execute_result"
    }
   ],
   "source": [
    "df['OUR'].describe()"
   ]
  },
  {
   "cell_type": "code",
   "execution_count": 28,
   "metadata": {
    "ExecuteTime": {
     "end_time": "2020-04-22T09:43:51.019797Z",
     "start_time": "2020-04-22T09:43:50.862776Z"
    }
   },
   "outputs": [
    {
     "data": {
      "text/plain": [
       "<matplotlib.axes._subplots.AxesSubplot at 0xe534850>"
      ]
     },
     "execution_count": 28,
     "metadata": {},
     "output_type": "execute_result"
    },
    {
     "data": {
      "image/png": "[encoded data removed]",
      "text/plain": [
       "<Figure size 432x288 with 1 Axes>"
      ]
     },
     "metadata": {
      "needs_background": "light"
     },
     "output_type": "display_data"
    }
   ],
   "source": [
    "df['OUR'][10:17].plot(marker='o')"
   ]
  },
  {
   "cell_type": "markdown",
   "metadata": {},
   "source": [
    "# calculate your parameters mumax and bh"
   ]
  },
  {
   "cell_type": "markdown",
   "metadata": {},
   "source": [
    "## log OUR"
   ]
  },
  {
   "cell_type": "code",
   "execution_count": 35,
   "metadata": {
    "ExecuteTime": {
     "end_time": "2020-04-22T09:47:13.723600Z",
     "start_time": "2020-04-22T09:47:13.718613Z"
    }
   },
   "outputs": [],
   "source": [
    "logOUR = np.log10(df['OUR'][12:16].dropna())"
   ]
  },
  {
   "cell_type": "code",
   "execution_count": 37,
   "metadata": {
    "ExecuteTime": {
     "end_time": "2020-04-22T09:48:00.278409Z",
     "start_time": "2020-04-22T09:48:00.271428Z"
    }
   },
   "outputs": [
    {
     "data": {
      "text/plain": [
       " Time\n",
       "12.027853    1.245899\n",
       "12.057337    1.246863\n",
       "12.086821    1.308454\n",
       "12.116305    1.261549\n",
       "12.145789    1.251655\n",
       "               ...   \n",
       "15.823096    1.906664\n",
       "15.867322    1.901573\n",
       "15.911548    1.916466\n",
       "15.955774    1.901892\n",
       "16.000000    1.930733\n",
       "Name: OUR, Length: 116, dtype: float64"
      ]
     },
     "execution_count": 37,
     "metadata": {},
     "output_type": "execute_result"
    }
   ],
   "source": [
    "logOUR"
   ]
  },
  {
   "cell_type": "code",
   "execution_count": 36,
   "metadata": {
    "ExecuteTime": {
     "end_time": "2020-04-22T09:47:15.091930Z",
     "start_time": "2020-04-22T09:47:14.976269Z"
    }
   },
   "outputs": [
    {
     "data": {
      "image/png": "[encoded data removed]",
      "text/plain": [
       "<Figure size 432x288 with 1 Axes>"
      ]
     },
     "metadata": {
      "needs_background": "light"
     },
     "output_type": "display_data"
    }
   ],
   "source": [
    "logOUR.plot(marker='o');"
   ]
  },
  {
   "cell_type": "markdown",
   "metadata": {},
   "source": [
    "<div class=\"alert alert-success\">\n",
    "    <b> EXERCISE: </b> Do you remember how to use a rolling mean? Go! And plot it\n",
    "</div>"
   ]
  },
  {
   "cell_type": "code",
   "execution_count": 52,
   "metadata": {
    "ExecuteTime": {
     "end_time": "2020-04-22T09:57:02.235870Z",
     "start_time": "2020-04-22T09:57:02.109331Z"
    }
   },
   "outputs": [
    {
     "data": {
      "text/plain": [
       "<matplotlib.axes._subplots.AxesSubplot at 0xd072570>"
      ]
     },
     "execution_count": 52,
     "metadata": {},
     "output_type": "execute_result"
    },
    {
     "data": {
      "image/png": "[encoded data removed]",
      "text/plain": [
       "<Figure size 432x288 with 1 Axes>"
      ]
     },
     "metadata": {
      "needs_background": "light"
     },
     "output_type": "display_data"
    }
   ],
   "source": [
    "df['OUR'].dropna().rolling(5).mean().plot();"
   ]
  },
  {
   "cell_type": "code",
   "execution_count": 66,
   "metadata": {
    "ExecuteTime": {
     "end_time": "2020-04-22T10:01:26.005353Z",
     "start_time": "2020-04-22T10:01:25.997379Z"
    }
   },
   "outputs": [
    {
     "data": {
      "text/plain": [
       " Time\n",
       "12.000000          NaN\n",
       "12.001631          NaN\n",
       "12.003283          NaN\n",
       "12.004914          NaN\n",
       "12.006545          NaN\n",
       "               ...    \n",
       "12.992629    24.334149\n",
       "12.994260    24.334149\n",
       "12.995912    24.334149\n",
       "12.997543    24.334149\n",
       "12.999174    24.334149\n",
       "Name: OUR, Length: 611, dtype: float64"
      ]
     },
     "execution_count": 66,
     "metadata": {},
     "output_type": "execute_result"
    }
   ],
   "source": [
    "df['OUR'][12:13].fillna(method='ffill').rolling(3).mean()"
   ]
  },
  {
   "cell_type": "code",
   "execution_count": 69,
   "metadata": {
    "ExecuteTime": {
     "end_time": "2020-04-22T10:03:04.093804Z",
     "start_time": "2020-04-22T10:03:03.964126Z"
    }
   },
   "outputs": [
    {
     "data": {
      "text/plain": [
       "<matplotlib.axes._subplots.AxesSubplot at 0x108e9930>"
      ]
     },
     "execution_count": 69,
     "metadata": {},
     "output_type": "execute_result"
    },
    {
     "data": {
      "image/png": "[encoded data removed]",
      "text/plain": [
       "<Figure size 432x288 with 1 Axes>"
      ]
     },
     "metadata": {
      "needs_background": "light"
     },
     "output_type": "display_data"
    }
   ],
   "source": [
    "logOUR.plot(marker='o')"
   ]
  },
  {
   "cell_type": "code",
   "execution_count": 68,
   "metadata": {
    "ExecuteTime": {
     "end_time": "2020-04-22T10:02:47.953882Z",
     "start_time": "2020-04-22T10:02:47.813665Z"
    }
   },
   "outputs": [
    {
     "data": {
      "text/plain": [
       "<matplotlib.axes._subplots.AxesSubplot at 0x108a3fd0>"
      ]
     },
     "execution_count": 68,
     "metadata": {},
     "output_type": "execute_result"
    },
    {
     "data": {
      "image/png": "[encoded data removed]",
      "text/plain": [
       "<Figure size 432x288 with 1 Axes>"
      ]
     },
     "metadata": {
      "needs_background": "light"
     },
     "output_type": "display_data"
    }
   ],
   "source": [
    "logOUR.dropna().rolling(5).mean().plot(marker='o')"
   ]
  },
  {
   "cell_type": "code",
   "execution_count": 70,
   "metadata": {
    "ExecuteTime": {
     "end_time": "2020-04-22T10:04:34.973368Z",
     "start_time": "2020-04-22T10:04:34.956414Z"
    }
   },
   "outputs": [],
   "source": [
    "m, q = np.polyfit(np.array(logOUR.dropna().index), logOUR.dropna().values, 1)"
   ]
  },
  {
   "cell_type": "code",
   "execution_count": 71,
   "metadata": {
    "ExecuteTime": {
     "end_time": "2020-04-22T10:04:37.014522Z",
     "start_time": "2020-04-22T10:04:37.010532Z"
    }
   },
   "outputs": [
    {
     "name": "stdout",
     "output_type": "stream",
     "text": [
      "0.16862521896681246 -0.7844477382797949\n"
     ]
    }
   ],
   "source": [
    "print(m, q)"
   ]
  },
  {
   "cell_type": "code",
   "execution_count": 73,
   "metadata": {
    "ExecuteTime": {
     "end_time": "2020-04-22T10:05:09.458149Z",
     "start_time": "2020-04-22T10:05:09.330413Z"
    }
   },
   "outputs": [
    {
     "data": {
      "image/png": "[encoded data removed]",
      "text/plain": [
       "<Figure size 432x288 with 1 Axes>"
      ]
     },
     "metadata": {
      "needs_background": "light"
     },
     "output_type": "display_data"
    }
   ],
   "source": [
    "plt.plot(logOUR.dropna().index, logOUR.dropna().values, 'o')\n",
    "plt.plot(logOUR.dropna().index, m*logOUR.dropna().index + q, '-');"
   ]
  },
  {
   "cell_type": "code",
   "execution_count": 81,
   "metadata": {
    "ExecuteTime": {
     "end_time": "2020-04-22T10:10:10.896395Z",
     "start_time": "2020-04-22T10:10:10.890411Z"
    }
   },
   "outputs": [],
   "source": [
    "logOUR_smoothed = logOUR.rolling(5).mean().dropna()"
   ]
  },
  {
   "cell_type": "code",
   "execution_count": 82,
   "metadata": {
    "ExecuteTime": {
     "end_time": "2020-04-22T10:10:23.294526Z",
     "start_time": "2020-04-22T10:10:23.290538Z"
    }
   },
   "outputs": [],
   "source": [
    "m, q = np.polyfit(np.array(logOUR_smoothed.index), logOUR_smoothed.values, 1)\n"
   ]
  },
  {
   "cell_type": "markdown",
   "metadata": {},
   "source": [
    "$$ \\mu_{max} - b_H $$"
   ]
  },
  {
   "cell_type": "code",
   "execution_count": 83,
   "metadata": {
    "ExecuteTime": {
     "end_time": "2020-04-22T10:10:28.214875Z",
     "start_time": "2020-04-22T10:10:28.209887Z"
    }
   },
   "outputs": [
    {
     "data": {
      "text/plain": [
       "4.022684811639298"
      ]
     },
     "execution_count": 83,
     "metadata": {},
     "output_type": "execute_result"
    }
   ],
   "source": [
    "m * 24 # in d-1"
   ]
  },
  {
   "cell_type": "code",
   "execution_count": 85,
   "metadata": {
    "ExecuteTime": {
     "end_time": "2020-04-22T10:11:16.011432Z",
     "start_time": "2020-04-22T10:11:16.005450Z"
    }
   },
   "outputs": [
    {
     "data": {
      "text/plain": [
       "3.402684811639298"
      ]
     },
     "execution_count": 85,
     "metadata": {},
     "output_type": "execute_result"
    }
   ],
   "source": [
    "mumax = m*24 - 0.62 # d-1\n",
    "mumax"
   ]
  },
  {
   "cell_type": "markdown",
   "metadata": {},
   "source": [
    "# with statsmodels"
   ]
  },
  {
   "cell_type": "markdown",
   "metadata": {},
   "source": [
    "source https://towardsdatascience.com/simple-and-multiple-linear-regression-in-python-c928425168f9"
   ]
  },
  {
   "cell_type": "code",
   "execution_count": null,
   "metadata": {
    "ExecuteTime": {
     "end_time": "2020-04-21T14:11:35.999896Z",
     "start_time": "2020-04-21T14:11:35.974967Z"
    }
   },
   "outputs": [],
   "source": [
    "import statsmodels.api as sm\n",
    "\n",
    "X = np.array(logOUR.dropna().index)\n",
    "y = np.array(logOUR.dropna().values)\n",
    "\n",
    "X = sm.add_constant(X) ## let's add an intercept (beta_0) to our model\n",
    "\n",
    "# Note the difference in argument order\n",
    "model = sm.OLS(y, X).fit() ## sm.OLS(output, input)\n",
    "predictions = model.predict(X)\n",
    "\n",
    "# Print out the statistics\n",
    "model.summary()"
   ]
  },
  {
   "cell_type": "code",
   "execution_count": null,
   "metadata": {},
   "outputs": [],
   "source": []
  },
  {
   "cell_type": "markdown",
   "metadata": {},
   "source": [
    "<div class=\"alert alert-success\">\n",
    "    <b> EXERCISE: </b> Complete the cell below and calculate the OUR yourself. Compare it with the one already present in the data\n",
    "</div>"
   ]
  },
  {
   "cell_type": "markdown",
   "metadata": {},
   "source": [
    "$$ OUR = k_La . (C_{sat} - C_t) - \\frac{dC}{dt} $$"
   ]
  },
  {
   "cell_type": "code",
   "execution_count": null,
   "metadata": {
    "ExecuteTime": {
     "end_time": "2020-04-21T09:34:03.012075Z",
     "start_time": "2020-04-21T09:34:03.008083Z"
    }
   },
   "outputs": [],
   "source": [
    "kla = 4. # 1/h\n",
    "Csat = 10. # mg/L"
   ]
  },
  {
   "cell_type": "code",
   "execution_count": null,
   "metadata": {},
   "outputs": [],
   "source": [
    "df['newOUR'] = kla*(Csat - df['DO Probe']) - "
   ]
  },
  {
   "cell_type": "code",
   "execution_count": null,
   "metadata": {},
   "outputs": [],
   "source": []
  },
  {
   "cell_type": "code",
   "execution_count": null,
   "metadata": {},
   "outputs": [],
   "source": []
  },
  {
   "cell_type": "code",
   "execution_count": null,
   "metadata": {},
   "outputs": [],
   "source": []
  },
  {
   "cell_type": "code",
   "execution_count": null,
   "metadata": {},
   "outputs": [],
   "source": []
  },
  {
   "cell_type": "code",
   "execution_count": null,
   "metadata": {},
   "outputs": [],
   "source": []
  }
 ],
 "metadata": {
  "kernelspec": {
   "display_name": "Python [conda env:.conda-data-analysis-course]",
   "language": "python",
   "name": "conda-env-.conda-data-analysis-course-py"
  },
  "language_info": {
   "codemirror_mode": {
    "name": "ipython",
    "version": 3
   },
   "file_extension": ".py",
   "mimetype": "text/x-python",
   "name": "python",
   "nbconvert_exporter": "python",
   "pygments_lexer": "ipython3",
   "version": "3.7.7"
  },
  "toc": {
   "base_numbering": 1,
   "nav_menu": {},
   "number_sections": true,
   "sideBar": true,
   "skip_h1_title": false,
   "title_cell": "Table of Contents",
   "title_sidebar": "Contents",
   "toc_cell": false,
   "toc_position": {},
   "toc_section_display": true,
   "toc_window_display": true
  }
 },
 "nbformat": 4,
 "nbformat_minor": 2
}
