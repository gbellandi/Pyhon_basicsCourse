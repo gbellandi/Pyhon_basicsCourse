{
 "cells": [
  {
   "cell_type": "markdown",
   "metadata": {},
   "source": [
    "# The notebook"
   ]
  },
  {
   "cell_type": "markdown",
   "metadata": {},
   "source": [
    "A notebook is a collection of `cells` that can be executed in different ways"
   ]
  },
  {
   "cell_type": "markdown",
   "metadata": {},
   "source": [
    "## Code"
   ]
  },
  {
   "cell_type": "code",
   "execution_count": null,
   "metadata": {
    "ExecuteTime": {
     "end_time": "2020-04-21T09:15:44.405972Z",
     "start_time": "2020-04-21T09:15:44.397326Z"
    }
   },
   "outputs": [],
   "source": [
    "# Code cell, then we are using python\n",
    "print('Hello!')"
   ]
  },
  {
   "cell_type": "markdown",
   "metadata": {},
   "source": [
    "## Markdown"
   ]
  },
  {
   "cell_type": "markdown",
   "metadata": {
    "ExecuteTime": {
     "end_time": "2020-04-08T08:43:07.641686Z",
     "start_time": "2020-04-08T08:43:07.636700Z"
    }
   },
   "source": [
    "You can make text **bold** or *italic*, and many other things..."
   ]
  },
  {
   "cell_type": "markdown",
   "metadata": {},
   "source": [
    "* list\n",
    "* with\n",
    "* items\n",
    "\n",
    "[Link to interesting resources](https://www.youtube.com/watch?v=7-t6UDgPu9Y) or images: ![images](https://www.am-team.com/site/layout/img/logo@2x.png)\n",
    "\n",
    "> Blockquotes if you like them\n",
    "> This line is part of the same blockquote."
   ]
  },
  {
   "cell_type": "markdown",
   "metadata": {},
   "source": [
    "Mathematical formulas can also be incorporated (LaTeX)\n",
    "$$\\frac{dX}{dt}=X_{in} - k_1 .X$$\n",
    "$$\\frac{dO}{dt}=k_2 .(O_{sat}-O) - k_1 .O$$"
   ]
  },
  {
   "cell_type": "markdown",
   "metadata": {},
   "source": [
    "### HTML"
   ]
  },
  {
   "cell_type": "markdown",
   "metadata": {},
   "source": [
    "You can also use HTML commands, just check this cell:\n",
    "<h3> html-adapted titel with &#60;h3&#62; </h3> <p></p>\n",
    "<b> Bold text &#60;b&#62; </b> of <i>or italic &#60;i&#62; </i>"
   ]
  },
  {
   "cell_type": "markdown",
   "metadata": {},
   "source": [
    "## Essential tips for using notebooks"
   ]
  },
  {
   "cell_type": "markdown",
   "metadata": {
    "ExecuteTime": {
     "end_time": "2020-04-08T08:37:05.646943Z",
     "start_time": "2020-04-08T08:37:05.638995Z"
    }
   },
   "source": [
    "<big><center>To run a cell: push the start triangle in the menu or type **SHIFT + ENTER/RETURN**\n",
    "![](./img/Hit-Enter.jpg)"
   ]
  },
  {
   "cell_type": "markdown",
   "metadata": {},
   "source": [
    "* The **TAB** button is essential: It provides you all **possible actions** you can do after loading in a library *AND* it is used for **automatic autocompletion**:"
   ]
  },
  {
   "cell_type": "code",
   "execution_count": null,
   "metadata": {
    "ExecuteTime": {
     "end_time": "2020-04-20T13:10:39.779547Z",
     "start_time": "2020-04-20T13:10:39.776562Z"
    }
   },
   "outputs": [],
   "source": [
    "superlongvariablename = 3"
   ]
  },
  {
   "cell_type": "code",
   "execution_count": null,
   "metadata": {
    "ExecuteTime": {
     "end_time": "2020-04-20T13:11:43.920842Z",
     "start_time": "2020-04-20T13:11:43.909873Z"
    }
   },
   "outputs": [],
   "source": [
    "superlongvariablename"
   ]
  },
  {
   "cell_type": "code",
   "execution_count": null,
   "metadata": {},
   "outputs": [],
   "source": []
  },
  {
   "cell_type": "markdown",
   "metadata": {},
   "source": [
    "sup + TAB"
   ]
  },
  {
   "cell_type": "markdown",
   "metadata": {},
   "source": [
    "* The  **SHIFT-TAB** combination is ultra essential to get information/help about the current operation "
   ]
  },
  {
   "cell_type": "code",
   "execution_count": null,
   "metadata": {
    "ExecuteTime": {
     "end_time": "2020-04-20T13:13:56.557511Z",
     "start_time": "2020-04-20T13:13:56.552527Z"
    }
   },
   "outputs": [],
   "source": [
    "round(2.23445634,3)"
   ]
  },
  {
   "cell_type": "code",
   "execution_count": null,
   "metadata": {
    "ExecuteTime": {
     "end_time": "2020-04-20T13:14:30.147191Z",
     "start_time": "2020-04-20T13:14:30.142204Z"
    }
   },
   "outputs": [],
   "source": [
    "# alternatively\n",
    "round?"
   ]
  },
  {
   "cell_type": "markdown",
   "metadata": {},
   "source": [
    "<b> What is the difference with the double \"?\" ?"
   ]
  },
  {
   "cell_type": "code",
   "execution_count": null,
   "metadata": {
    "ExecuteTime": {
     "end_time": "2020-04-20T13:15:09.661143Z",
     "start_time": "2020-04-20T13:15:09.642196Z"
    }
   },
   "outputs": [],
   "source": [
    "import glob\n",
    "glob.glob??"
   ]
  },
  {
   "cell_type": "markdown",
   "metadata": {},
   "source": [
    "* NOTE: cells have an edit mode and a command mode"
   ]
  },
  {
   "cell_type": "markdown",
   "metadata": {},
   "source": [
    "* **A** creates a new cell **A**bove"
   ]
  },
  {
   "cell_type": "markdown",
   "metadata": {},
   "source": [
    "* **B** creates a new cell **B**elow"
   ]
  },
  {
   "cell_type": "markdown",
   "metadata": {},
   "source": [
    "<div class=\"alert alert-success\">\n",
    "    <b>Now try CTRL+SHIFT+P</b> \n",
    "</div>"
   ]
  },
  {
   "cell_type": "markdown",
   "metadata": {},
   "source": [
    "## Having troubles executing?"
   ]
  },
  {
   "cell_type": "markdown",
   "metadata": {},
   "source": [
    "<div class=\"alert alert-danger\">\n",
    "    <b>NOTE</b>: When, for any reason, a cell seem to enter an endless loop: \n",
    "    <ul>\n",
    "    <li> first try **Kernel** > **Interrupt** -> you're cell should stop running\n",
    "    <li> if no succes -> **Kernel** > **Restart** -> restart you're notebook\n",
    "    </ul>\n",
    "</div>"
   ]
  },
  {
   "cell_type": "markdown",
   "metadata": {},
   "source": [
    "## want to see some magic?"
   ]
  },
  {
   "cell_type": "code",
   "execution_count": null,
   "metadata": {
    "ExecuteTime": {
     "end_time": "2020-04-20T13:24:52.367083Z",
     "start_time": "2020-04-20T13:24:52.362095Z"
    }
   },
   "outputs": [],
   "source": [
    "# %%timeit\n",
    "\n",
    "mylist = range(1000)\n",
    "for i in mylist:\n",
    "    i = i**2"
   ]
  },
  {
   "cell_type": "code",
   "execution_count": null,
   "metadata": {
    "ExecuteTime": {
     "end_time": "2020-04-20T13:21:05.445531Z",
     "start_time": "2020-04-20T13:21:04.853118Z"
    }
   },
   "outputs": [],
   "source": [
    "import numpy as np"
   ]
  },
  {
   "cell_type": "code",
   "execution_count": null,
   "metadata": {
    "ExecuteTime": {
     "end_time": "2020-04-20T13:21:40.091828Z",
     "start_time": "2020-04-20T13:21:37.516889Z"
    }
   },
   "outputs": [],
   "source": [
    "%%timeit\n",
    "np.arange(1000)**2"
   ]
  },
  {
   "cell_type": "code",
   "execution_count": null,
   "metadata": {
    "ExecuteTime": {
     "end_time": "2020-04-20T13:22:56.889925Z",
     "start_time": "2020-04-20T13:22:56.884933Z"
    }
   },
   "outputs": [],
   "source": [
    "%lsmagic"
   ]
  },
  {
   "cell_type": "markdown",
   "metadata": {},
   "source": [
    "# Load packages and execute"
   ]
  },
  {
   "cell_type": "code",
   "execution_count": null,
   "metadata": {
    "ExecuteTime": {
     "end_time": "2020-04-20T13:30:35.439417Z",
     "start_time": "2020-04-20T13:30:35.435429Z"
    }
   },
   "outputs": [],
   "source": [
    "from IPython.display import Image\n",
    "Image(url='http://python.org/images/python-logo.gif')"
   ]
  },
  {
   "cell_type": "markdown",
   "metadata": {},
   "source": [
    "Importing packages is the first thing you do in python, you import those functionalities you need.\n",
    "\n",
    "Different importing options:\n",
    "\n",
    "* <span style=\"color:green\">import <i>package-name</i></span>  importing all functionalities as such\n",
    "* <span style=\"color:green\">from <i>package-name</i> import <i>specific function</i></span> importing a specific function or subset of the package\n",
    "* <span style=\"color:green\">from <i>package-name</i> import *  </span>   importing all definitions and actions of the package (sometimes better than option 1)\n",
    "* <span style=\"color:green\">import <i>package-name</i> as <i>short-package-name</i></span>    Very good way to keep a good insight in where you use what package"
   ]
  },
  {
   "cell_type": "code",
   "execution_count": null,
   "metadata": {
    "ExecuteTime": {
     "end_time": "2020-04-20T13:31:46.847386Z",
     "start_time": "2020-04-20T13:31:46.844394Z"
    }
   },
   "outputs": [],
   "source": [
    "import numpy as np"
   ]
  },
  {
   "cell_type": "code",
   "execution_count": null,
   "metadata": {
    "ExecuteTime": {
     "end_time": "2020-04-20T13:31:52.476043Z",
     "start_time": "2020-04-20T13:31:52.471057Z"
    }
   },
   "outputs": [],
   "source": [
    "np.arange(1,30,0.5)"
   ]
  },
  {
   "cell_type": "markdown",
   "metadata": {},
   "source": [
    "# Datatypes"
   ]
  },
  {
   "cell_type": "markdown",
   "metadata": {},
   "source": [
    "Python supports the following numerical, scalar types:\n",
    "* integer\n",
    "* floats\n",
    "* complex\n",
    "* boolean"
   ]
  },
  {
   "cell_type": "code",
   "execution_count": null,
   "metadata": {
    "ExecuteTime": {
     "end_time": "2020-04-20T13:33:04.285031Z",
     "start_time": "2020-04-20T13:33:04.281042Z"
    }
   },
   "outputs": [],
   "source": [
    "theinteger = 3\n",
    "print(type(theinteger))"
   ]
  },
  {
   "cell_type": "code",
   "execution_count": null,
   "metadata": {
    "ExecuteTime": {
     "end_time": "2020-04-20T13:33:58.862734Z",
     "start_time": "2020-04-20T13:33:58.857749Z"
    }
   },
   "outputs": [],
   "source": [
    "type(theinteger)"
   ]
  },
  {
   "cell_type": "code",
   "execution_count": null,
   "metadata": {
    "ExecuteTime": {
     "end_time": "2020-04-20T13:34:32.029051Z",
     "start_time": "2020-04-20T13:34:32.025062Z"
    }
   },
   "outputs": [],
   "source": [
    "theinteger"
   ]
  },
  {
   "cell_type": "code",
   "execution_count": null,
   "metadata": {
    "ExecuteTime": {
     "end_time": "2020-04-20T13:34:32.782540Z",
     "start_time": "2020-04-20T13:34:32.778551Z"
    }
   },
   "outputs": [],
   "source": [
    "# type casting: converting the integer to a float type\n",
    "float(theinteger)"
   ]
  },
  {
   "cell_type": "code",
   "execution_count": null,
   "metadata": {
    "ExecuteTime": {
     "end_time": "2020-04-20T13:34:42.182841Z",
     "start_time": "2020-04-20T13:34:42.177856Z"
    }
   },
   "outputs": [],
   "source": [
    "thefloat = 0.2\n",
    "type(thefloat)"
   ]
  },
  {
   "cell_type": "code",
   "execution_count": null,
   "metadata": {
    "ExecuteTime": {
     "end_time": "2020-04-20T13:35:03.594771Z",
     "start_time": "2020-04-20T13:35:03.588789Z"
    }
   },
   "outputs": [],
   "source": [
    "thecomplex = 1.5 + 0.5j\n",
    "# get the real or imaginary part of the complex number by using the functions\n",
    "# real and imag on the variable\n",
    "print(type(thecomplex), thecomplex.real, thecomplex.imag)"
   ]
  },
  {
   "cell_type": "code",
   "execution_count": null,
   "metadata": {
    "ExecuteTime": {
     "end_time": "2020-04-20T13:35:33.736120Z",
     "start_time": "2020-04-20T13:35:33.732132Z"
    }
   },
   "outputs": [],
   "source": [
    "type(thecomplex)"
   ]
  },
  {
   "cell_type": "code",
   "execution_count": null,
   "metadata": {
    "ExecuteTime": {
     "end_time": "2020-04-20T13:36:23.262015Z",
     "start_time": "2020-04-20T13:36:23.257028Z"
    }
   },
   "outputs": [],
   "source": [
    "thecomplex.imag"
   ]
  },
  {
   "cell_type": "code",
   "execution_count": null,
   "metadata": {
    "ExecuteTime": {
     "end_time": "2020-04-20T13:37:03.309873Z",
     "start_time": "2020-04-20T13:37:03.305884Z"
    }
   },
   "outputs": [],
   "source": [
    "3>4"
   ]
  },
  {
   "cell_type": "code",
   "execution_count": null,
   "metadata": {
    "ExecuteTime": {
     "end_time": "2020-04-20T13:37:19.729831Z",
     "start_time": "2020-04-20T13:37:19.725842Z"
    }
   },
   "outputs": [],
   "source": [
    "theboolean = (3 > 4)\n",
    "theboolean"
   ]
  },
  {
   "cell_type": "markdown",
   "metadata": {},
   "source": [
    "You can do basic calculations"
   ]
  },
  {
   "cell_type": "code",
   "execution_count": null,
   "metadata": {
    "ExecuteTime": {
     "end_time": "2020-04-20T13:37:27.838652Z",
     "start_time": "2020-04-20T13:37:27.834665Z"
    }
   },
   "outputs": [],
   "source": [
    "print(7 * 3.)\n",
    "print(2**10)\n",
    "print(8 % 3)"
   ]
  },
  {
   "cell_type": "markdown",
   "metadata": {},
   "source": [
    "**But careful!**"
   ]
  },
  {
   "cell_type": "code",
   "execution_count": null,
   "metadata": {
    "ExecuteTime": {
     "end_time": "2020-04-20T13:39:30.750471Z",
     "start_time": "2020-04-20T13:39:30.745487Z"
    },
    "scrolled": true
   },
   "outputs": [],
   "source": [
    "print(3/2)\n",
    "print(3/2.)\n",
    "print(3.//2.)  #integer division"
   ]
  },
  {
   "cell_type": "markdown",
   "metadata": {},
   "source": [
    "## Grouping datatypes"
   ]
  },
  {
   "cell_type": "markdown",
   "metadata": {},
   "source": [
    "### List"
   ]
  },
  {
   "cell_type": "markdown",
   "metadata": {},
   "source": [
    "A list is an ordered collection of objects, that may have different types. The list container supports slicing, appending, sorting ...\n",
    "\n",
    "Indexing starts at 0 (as in C, C++ or Java), not at 1 (as in Fortran or Matlab)!"
   ]
  },
  {
   "cell_type": "code",
   "execution_count": null,
   "metadata": {
    "ExecuteTime": {
     "end_time": "2020-04-20T13:58:55.078205Z",
     "start_time": "2020-04-20T13:58:55.074217Z"
    }
   },
   "outputs": [],
   "source": [
    "thelist = [2.,'aa', 0.2]"
   ]
  },
  {
   "cell_type": "code",
   "execution_count": null,
   "metadata": {
    "ExecuteTime": {
     "end_time": "2020-04-20T13:59:38.260549Z",
     "start_time": "2020-04-20T13:59:38.255562Z"
    }
   },
   "outputs": [],
   "source": [
    "# accessing individual object in the list\n",
    "thelist[1]"
   ]
  },
  {
   "cell_type": "code",
   "execution_count": null,
   "metadata": {
    "ExecuteTime": {
     "end_time": "2020-04-20T14:00:20.825946Z",
     "start_time": "2020-04-20T14:00:20.820960Z"
    }
   },
   "outputs": [],
   "source": [
    "# negative indices are used to count from the back\n",
    "thelist[-1]"
   ]
  },
  {
   "cell_type": "code",
   "execution_count": null,
   "metadata": {
    "ExecuteTime": {
     "end_time": "2020-04-20T14:00:29.627315Z",
     "start_time": "2020-04-20T14:00:29.622319Z"
    }
   },
   "outputs": [],
   "source": [
    "thelist = ['first', 'second', 'third', 'fourth', 'fifth']\n",
    "print(thelist[3:])\n",
    "print(thelist[:2])\n",
    "print(thelist[::2])"
   ]
  },
  {
   "cell_type": "code",
   "execution_count": null,
   "metadata": {
    "ExecuteTime": {
     "end_time": "2020-04-20T14:01:49.490609Z",
     "start_time": "2020-04-20T14:01:49.485625Z"
    }
   },
   "outputs": [],
   "source": [
    "thelist[3] = 'newFourth'\n",
    "print(thelist)\n",
    "thelist[1:3] = ['newSecond', 'newThird']\n",
    "print(thelist)"
   ]
  },
  {
   "cell_type": "code",
   "execution_count": null,
   "metadata": {
    "ExecuteTime": {
     "end_time": "2020-04-20T14:03:29.151472Z",
     "start_time": "2020-04-20T14:03:29.146486Z"
    }
   },
   "outputs": [],
   "source": [
    "# Appending\n",
    "thelist.append('pink')\n",
    "thelist"
   ]
  },
  {
   "cell_type": "code",
   "execution_count": null,
   "metadata": {
    "ExecuteTime": {
     "end_time": "2020-04-20T14:03:46.842430Z",
     "start_time": "2020-04-20T14:03:46.837445Z"
    }
   },
   "outputs": [],
   "source": [
    "# Removes the last element\n",
    "thelist.pop()\n",
    "thelist"
   ]
  },
  {
   "cell_type": "code",
   "execution_count": null,
   "metadata": {
    "ExecuteTime": {
     "end_time": "2020-04-20T14:04:05.011242Z",
     "start_time": "2020-04-20T14:04:05.005257Z"
    }
   },
   "outputs": [],
   "source": [
    "# Extends the list in-place\n",
    "thelist.extend(['pink', 'purple'])\n",
    "thelist"
   ]
  },
  {
   "cell_type": "code",
   "execution_count": null,
   "metadata": {
    "ExecuteTime": {
     "end_time": "2020-04-20T14:04:17.207312Z",
     "start_time": "2020-04-20T14:04:17.203324Z"
    }
   },
   "outputs": [],
   "source": [
    "# Reverse the list\n",
    "thelist.reverse()\n",
    "thelist"
   ]
  },
  {
   "cell_type": "code",
   "execution_count": null,
   "metadata": {
    "ExecuteTime": {
     "end_time": "2020-04-20T14:04:19.456956Z",
     "start_time": "2020-04-20T14:04:19.452955Z"
    }
   },
   "outputs": [],
   "source": [
    "# Remove the first occurence of an element\n",
    "thelist.remove('purple')\n",
    "thelist"
   ]
  },
  {
   "cell_type": "code",
   "execution_count": null,
   "metadata": {
    "ExecuteTime": {
     "end_time": "2020-04-20T14:04:35.763547Z",
     "start_time": "2020-04-20T14:04:35.756567Z"
    }
   },
   "outputs": [],
   "source": [
    "# Sort list\n",
    "thelist.sort()\n",
    "thelist"
   ]
  },
  {
   "cell_type": "markdown",
   "metadata": {},
   "source": [
    "### string"
   ]
  },
  {
   "cell_type": "markdown",
   "metadata": {},
   "source": [
    "You can slice strings just like variables"
   ]
  },
  {
   "cell_type": "code",
   "execution_count": null,
   "metadata": {
    "ExecuteTime": {
     "end_time": "2020-04-20T14:05:08.809773Z",
     "start_time": "2020-04-20T14:05:08.804788Z"
    }
   },
   "outputs": [],
   "source": [
    "a_string = \"hello\"\n",
    "print(a_string[0])\n",
    "print(a_string[1:5])\n",
    "print(a_string[-4:-1:2])"
   ]
  },
  {
   "cell_type": "markdown",
   "metadata": {},
   "source": [
    "You can mix data types in a printout"
   ]
  },
  {
   "cell_type": "code",
   "execution_count": null,
   "metadata": {
    "ExecuteTime": {
     "end_time": "2020-04-20T14:06:52.231984Z",
     "start_time": "2020-04-20T14:06:52.227993Z"
    }
   },
   "outputs": [],
   "source": [
    "print('An integer: %i; a float: %f; another string: %s' % (4, 0.0001, 'strong'))"
   ]
  },
  {
   "cell_type": "code",
   "execution_count": null,
   "metadata": {
    "ExecuteTime": {
     "end_time": "2020-04-20T14:09:24.945971Z",
     "start_time": "2020-04-20T14:09:24.941982Z"
    }
   },
   "outputs": [],
   "source": [
    "n_dataset_number = [1, 55, 32]\n",
    "for i in n_dataset_number:\n",
    "    sFilename = 'processing_of_dataset_%d.txt' % i\n",
    "    print(sFilename)"
   ]
  },
  {
   "cell_type": "markdown",
   "metadata": {},
   "source": [
    "### Dictionaries"
   ]
  },
  {
   "cell_type": "code",
   "execution_count": null,
   "metadata": {
    "ExecuteTime": {
     "end_time": "2020-04-20T14:10:47.273132Z",
     "start_time": "2020-04-20T14:10:47.268146Z"
    }
   },
   "outputs": [],
   "source": [
    "# Always key : value combinations, datatypes can be mixed\n",
    "hourly_wage = {'Jos':10, 'Frida': 9, 'Gaspard': '13', 23 : 3}\n",
    "hourly_wage"
   ]
  },
  {
   "cell_type": "code",
   "execution_count": null,
   "metadata": {
    "ExecuteTime": {
     "end_time": "2020-04-20T14:10:56.832291Z",
     "start_time": "2020-04-20T14:10:56.828304Z"
    }
   },
   "outputs": [],
   "source": [
    "hourly_wage.keys()"
   ]
  },
  {
   "cell_type": "code",
   "execution_count": null,
   "metadata": {
    "ExecuteTime": {
     "end_time": "2020-04-20T14:11:11.255715Z",
     "start_time": "2020-04-20T14:11:11.251726Z"
    }
   },
   "outputs": [],
   "source": [
    "hourly_wage.values()"
   ]
  },
  {
   "cell_type": "code",
   "execution_count": null,
   "metadata": {
    "ExecuteTime": {
     "end_time": "2020-04-20T14:11:27.101221Z",
     "start_time": "2020-04-20T14:11:27.096233Z"
    }
   },
   "outputs": [],
   "source": [
    "# or get it in a list\n",
    "hourly_wage.items()"
   ]
  },
  {
   "cell_type": "markdown",
   "metadata": {},
   "source": [
    "### Tuple"
   ]
  },
  {
   "cell_type": "markdown",
   "metadata": {},
   "source": [
    "This is basically a list which cannot be modified"
   ]
  },
  {
   "cell_type": "code",
   "execution_count": null,
   "metadata": {
    "ExecuteTime": {
     "end_time": "2020-04-20T14:12:07.839884Z",
     "start_time": "2020-04-20T14:12:07.832902Z"
    }
   },
   "outputs": [],
   "source": [
    "a_tuple = (2, 3, 'aa', [1, 2])\n",
    "a_tuple"
   ]
  },
  {
   "cell_type": "markdown",
   "metadata": {},
   "source": [
    "## Loops and controls"
   ]
  },
  {
   "cell_type": "code",
   "execution_count": null,
   "metadata": {
    "ExecuteTime": {
     "end_time": "2020-04-20T14:13:17.585151Z",
     "start_time": "2020-04-20T14:13:17.581163Z"
    }
   },
   "outputs": [],
   "source": [
    "an_int = 20\n",
    "if an_int == 1:\n",
    "    print(1)\n",
    "elif an_int == 2:\n",
    "     print(2)\n",
    "else:\n",
    "    print('A lot')"
   ]
  },
  {
   "cell_type": "code",
   "execution_count": null,
   "metadata": {
    "ExecuteTime": {
     "end_time": "2020-04-20T14:13:29.032012Z",
     "start_time": "2020-04-20T14:13:29.028022Z"
    }
   },
   "outputs": [],
   "source": [
    "adjectives = ('cool', 'powerful', 'readable', 'a snake?')\n",
    "\n",
    "for word in adjectives:\n",
    "    # remember string formatting?\n",
    "    print('Python is {}!'.format(word))"
   ]
  },
  {
   "cell_type": "code",
   "execution_count": null,
   "metadata": {
    "ExecuteTime": {
     "end_time": "2020-04-20T14:13:49.399534Z",
     "start_time": "2020-04-20T14:13:49.394546Z"
    }
   },
   "outputs": [],
   "source": [
    "aList = [1, 0, 2, 4]\n",
    "print('printing the inverse of the integers, excluding division by zero')\n",
    "for element in aList:\n",
    "    if element == 0:\n",
    "        continue\n",
    "    print(1. / element)"
   ]
  },
  {
   "cell_type": "code",
   "execution_count": null,
   "metadata": {
    "ExecuteTime": {
     "end_time": "2020-04-20T14:14:18.519338Z",
     "start_time": "2020-04-20T14:14:18.515359Z"
    }
   },
   "outputs": [],
   "source": [
    "word = 'supercalifragilistichespiralidoso'"
   ]
  },
  {
   "cell_type": "markdown",
   "metadata": {},
   "source": [
    "<div class=\"alert alert-success\">\n",
    "    <b>NOW count the 'i' in this word</b> \n",
    "</div>"
   ]
  },
  {
   "cell_type": "code",
   "execution_count": null,
   "metadata": {
    "ExecuteTime": {
     "end_time": "2020-04-20T14:20:45.918449Z",
     "start_time": "2020-04-20T14:20:45.913463Z"
    }
   },
   "outputs": [],
   "source": [
    "a = 0\n",
    "for i in word:\n",
    "    if i == 'i':\n",
    "        a = a+1\n",
    "print(a)"
   ]
  },
  {
   "cell_type": "code",
   "execution_count": null,
   "metadata": {
    "ExecuteTime": {
     "end_time": "2020-04-20T14:21:04.789772Z",
     "start_time": "2020-04-20T14:21:04.785782Z"
    }
   },
   "outputs": [],
   "source": [
    "mydictionary = {'unipi': 3, 'unifi': 2, 'polimi': 4, 'ugent': 5, 'unipa': 1}"
   ]
  },
  {
   "cell_type": "code",
   "execution_count": null,
   "metadata": {
    "ExecuteTime": {
     "end_time": "2020-04-20T14:21:19.942441Z",
     "start_time": "2020-04-20T14:21:19.938454Z"
    }
   },
   "outputs": [],
   "source": [
    "mydictionary"
   ]
  },
  {
   "cell_type": "markdown",
   "metadata": {},
   "source": [
    "<div class=\"alert alert-success\">\n",
    "    <b>EXERCISE</b>: Return the key of an item in the dictionary `mydictionary` if the value is provided (assume that the user is always providing a value that is part of the dictionary and all values only occur once).\n",
    "</div>"
   ]
  },
  {
   "cell_type": "code",
   "execution_count": null,
   "metadata": {
    "ExecuteTime": {
     "end_time": "2020-04-20T14:22:05.464353Z",
     "start_time": "2020-04-20T14:22:05.459368Z"
    }
   },
   "outputs": [],
   "source": [
    "mydictionary.keys()"
   ]
  },
  {
   "cell_type": "markdown",
   "metadata": {
    "ExecuteTime": {
     "end_time": "2020-04-14T16:06:31.699850Z",
     "start_time": "2020-04-14T16:06:31.693866Z"
    }
   },
   "source": [
    "<div class=\"alert alert-success\">\n",
    "    <b>EXERCISE</b>: Given the dictionary `mydictionary`, check if a key is already existing in the dictionary and print a message `already in dictionary`. Use 'polimi' as string to check for.\n",
    "</div>"
   ]
  },
  {
   "cell_type": "code",
   "execution_count": null,
   "metadata": {},
   "outputs": [],
   "source": []
  },
  {
   "cell_type": "markdown",
   "metadata": {},
   "source": [
    "# Numpy"
   ]
  },
  {
   "cell_type": "code",
   "execution_count": null,
   "metadata": {
    "ExecuteTime": {
     "end_time": "2020-04-20T14:28:28.762734Z",
     "start_time": "2020-04-20T14:28:28.754747Z"
    }
   },
   "outputs": [],
   "source": [
    "%matplotlib inline"
   ]
  },
  {
   "cell_type": "markdown",
   "metadata": {},
   "source": [
    "NumPy is the fundamental package for scientific computing with Python. Contains:\n",
    "\n",
    "* a powerful N-dimensional array/vector/matrix object\n",
    "* sophisticated (broadcasting) functions\n",
    "* function implementation in C/Fortran assuring good performance if vectorized\n",
    "* tools for integrating C/C++ and Fortran code\n",
    "* useful linear algebra, Fourier transform, and random number capabilities\n",
    "\n",
    "Also known as *array oriented computing*. The recommended convention to import numpy is:"
   ]
  },
  {
   "cell_type": "code",
   "execution_count": null,
   "metadata": {
    "ExecuteTime": {
     "end_time": "2020-04-20T14:23:52.779493Z",
     "start_time": "2020-04-20T14:23:52.776501Z"
    }
   },
   "outputs": [],
   "source": [
    "import numpy as np"
   ]
  },
  {
   "cell_type": "markdown",
   "metadata": {},
   "source": [
    "In the `numpy` package the terminology used for vectors, matrices and higher-dimensional data sets is *array*. Let's already load some other modules too.\n"
   ]
  },
  {
   "cell_type": "code",
   "execution_count": null,
   "metadata": {
    "ExecuteTime": {
     "end_time": "2020-04-20T14:24:25.820547Z",
     "start_time": "2020-04-20T14:24:20.841806Z"
    }
   },
   "outputs": [],
   "source": [
    "import matplotlib.pyplot as plt\n",
    "import seaborn as sns\n",
    "sns.set_style('darkgrid')"
   ]
  },
  {
   "cell_type": "markdown",
   "metadata": {},
   "source": [
    "Do you want to know the distribution of the sum of two dices?"
   ]
  },
  {
   "cell_type": "code",
   "execution_count": null,
   "metadata": {
    "ExecuteTime": {
     "end_time": "2020-04-20T14:28:54.405709Z",
     "start_time": "2020-04-20T14:28:54.129019Z"
    }
   },
   "outputs": [],
   "source": [
    "plt.plot()"
   ]
  },
  {
   "cell_type": "code",
   "execution_count": null,
   "metadata": {
    "ExecuteTime": {
     "end_time": "2020-04-20T14:43:34.772458Z",
     "start_time": "2020-04-20T14:43:34.767473Z"
    }
   },
   "outputs": [],
   "source": [
    "def mydices(throws):\n",
    "    \"\"\"\n",
    "    Function to create the distrrbution of the sum of two dices. This is updated\n",
    "    \n",
    "    Parameters\n",
    "    ----------\n",
    "    throws : int\n",
    "        Number of throws with the dices\n",
    "    \"\"\"\n",
    "    stone1 = np.random.uniform(1, 6, throws) \n",
    "    stone2 = np.random.uniform(1, 6, throws) \n",
    "    total = stone1 + stone2\n",
    "    return plt.hist(total, bins=50) # We use matplotlib to sho histogram"
   ]
  },
  {
   "cell_type": "code",
   "execution_count": null,
   "metadata": {
    "ExecuteTime": {
     "end_time": "2020-04-20T14:26:53.655418Z",
     "start_time": "2020-04-20T14:26:53.281419Z"
    }
   },
   "outputs": [],
   "source": [
    "mydices(100000)"
   ]
  },
  {
   "cell_type": "code",
   "execution_count": null,
   "metadata": {
    "ExecuteTime": {
     "end_time": "2020-04-20T14:27:02.445682Z",
     "start_time": "2020-04-20T14:27:01.836321Z"
    }
   },
   "outputs": [],
   "source": [
    "# random numbers (X, Y in 2 columns)\n",
    "Z = np.random.random((10,2))\n",
    "X, Y = Z[:,0], Z[:,1]\n",
    "\n",
    "# distance\n",
    "R = np.sqrt(X**2 + Y**2)\n",
    "# angle\n",
    "T = np.arctan2(Y, X) # Array of angles in radians\n",
    "Tdegree = T*180/(np.pi) # If you like degrees more\n",
    "\n",
    "# NEXT PART (now for illustration)\n",
    "#plot the cartesian coordinates\n",
    "plt.figure(figsize=(14, 6))\n",
    "ax1 = plt.subplot(121)\n",
    "ax1.plot(Z[:,0], Z[:,1], 'o')\n",
    "ax1.set_title(\"Cartesian\")\n",
    "#plot the polar coorsidnates\n",
    "ax2 = plt.subplot(122, polar=True)\n",
    "ax2.plot(T, R, 'o')\n",
    "ax2.set_title(\"Polar\")"
   ]
  },
  {
   "cell_type": "markdown",
   "metadata": {},
   "source": [
    "## `numpy` arrays"
   ]
  },
  {
   "cell_type": "code",
   "execution_count": null,
   "metadata": {
    "ExecuteTime": {
     "end_time": "2020-04-20T14:31:28.446119Z",
     "start_time": "2020-04-20T14:31:28.441134Z"
    }
   },
   "outputs": [],
   "source": [
    "# a vector: the argument to the array function is a Python list\n",
    "V = np.array([1, 2, 3, 4])\n",
    "V"
   ]
  },
  {
   "cell_type": "code",
   "execution_count": null,
   "metadata": {
    "ExecuteTime": {
     "end_time": "2020-04-20T14:32:23.429527Z",
     "start_time": "2020-04-20T14:32:23.423544Z"
    }
   },
   "outputs": [],
   "source": [
    "# a matrix: the argument to the array function is a nested Python list\n",
    "M = np.array([[1, 2], [3, 4]])\n",
    "M"
   ]
  },
  {
   "cell_type": "markdown",
   "metadata": {},
   "source": [
    "The `v` and `M` objects are both of the type `ndarray` that the `numpy` module provides."
   ]
  },
  {
   "cell_type": "code",
   "execution_count": null,
   "metadata": {
    "ExecuteTime": {
     "end_time": "2020-04-20T14:32:35.596539Z",
     "start_time": "2020-04-20T14:32:35.591565Z"
    }
   },
   "outputs": [],
   "source": [
    "type(V), type(M)"
   ]
  },
  {
   "cell_type": "code",
   "execution_count": null,
   "metadata": {
    "ExecuteTime": {
     "end_time": "2020-04-20T14:32:53.227854Z",
     "start_time": "2020-04-20T14:32:53.223865Z"
    }
   },
   "outputs": [],
   "source": [
    "V.shape"
   ]
  },
  {
   "cell_type": "code",
   "execution_count": null,
   "metadata": {
    "ExecuteTime": {
     "end_time": "2020-04-20T14:32:57.499678Z",
     "start_time": "2020-04-20T14:32:57.494692Z"
    }
   },
   "outputs": [],
   "source": [
    "V.size"
   ]
  },
  {
   "cell_type": "markdown",
   "metadata": {},
   "source": [
    "Using the `dtype` (data type) property of an `ndarray`, we can see what type the data of an array has (always fixed for each array, cfr. Matlab):"
   ]
  },
  {
   "cell_type": "code",
   "execution_count": null,
   "metadata": {
    "ExecuteTime": {
     "end_time": "2020-04-20T14:33:19.434913Z",
     "start_time": "2020-04-20T14:33:19.430915Z"
    }
   },
   "outputs": [],
   "source": [
    "V.dtype"
   ]
  },
  {
   "cell_type": "code",
   "execution_count": null,
   "metadata": {
    "ExecuteTime": {
     "end_time": "2020-04-20T14:33:38.809026Z",
     "start_time": "2020-04-20T14:33:38.751183Z"
    }
   },
   "outputs": [],
   "source": [
    "V[0] = 'a string'"
   ]
  },
  {
   "cell_type": "code",
   "execution_count": null,
   "metadata": {
    "ExecuteTime": {
     "end_time": "2020-04-20T14:33:58.820560Z",
     "start_time": "2020-04-20T14:33:58.815572Z"
    }
   },
   "outputs": [],
   "source": [
    "f = np.array(['Bonjour', 'Hello', 'Hallo',])\n",
    "f"
   ]
  },
  {
   "cell_type": "markdown",
   "metadata": {},
   "source": [
    "In case you can also define exactly which data type you're using"
   ]
  },
  {
   "cell_type": "code",
   "execution_count": null,
   "metadata": {
    "ExecuteTime": {
     "end_time": "2020-04-20T14:35:02.980891Z",
     "start_time": "2020-04-20T14:35:02.974906Z"
    }
   },
   "outputs": [],
   "source": [
    "M = np.array([[1, 2], [3, 4]], dtype=complex)  #np.float64, np.float, np.int64\n",
    "\n",
    "print(M, '\\n', M.dtype)"
   ]
  },
  {
   "cell_type": "markdown",
   "metadata": {},
   "source": [
    "You can build your N-dimensional array"
   ]
  },
  {
   "cell_type": "code",
   "execution_count": null,
   "metadata": {
    "ExecuteTime": {
     "end_time": "2020-04-20T14:35:15.888609Z",
     "start_time": "2020-04-20T14:35:15.880630Z"
    }
   },
   "outputs": [],
   "source": [
    "C = np.array([[[1], [2]], [[3], [4]]])\n",
    "print(C.shape)\n",
    "C"
   ]
  },
  {
   "cell_type": "code",
   "execution_count": null,
   "metadata": {
    "ExecuteTime": {
     "end_time": "2020-04-20T14:35:41.315423Z",
     "start_time": "2020-04-20T14:35:41.311433Z"
    }
   },
   "outputs": [],
   "source": [
    "C.ndim # number of dimensions"
   ]
  },
  {
   "cell_type": "markdown",
   "metadata": {},
   "source": [
    "### generate array"
   ]
  },
  {
   "cell_type": "code",
   "execution_count": null,
   "metadata": {
    "ExecuteTime": {
     "end_time": "2020-04-20T14:36:04.548571Z",
     "start_time": "2020-04-20T14:36:04.543585Z"
    }
   },
   "outputs": [],
   "source": [
    "# create a range\n",
    "x = np.arange(0, 10, 1) # arguments: start, stop, step\n",
    "x"
   ]
  },
  {
   "cell_type": "code",
   "execution_count": null,
   "metadata": {
    "ExecuteTime": {
     "end_time": "2020-04-20T14:36:19.085321Z",
     "start_time": "2020-04-20T14:36:19.078338Z"
    }
   },
   "outputs": [],
   "source": [
    "# using linspace, both end points ARE included\n",
    "np.linspace(0, 10, 25)"
   ]
  },
  {
   "cell_type": "code",
   "execution_count": null,
   "metadata": {
    "ExecuteTime": {
     "end_time": "2020-04-20T14:36:20.759117Z",
     "start_time": "2020-04-20T14:36:20.754131Z"
    }
   },
   "outputs": [],
   "source": [
    "np.logspace(0, 10, 10, base=np.e)"
   ]
  },
  {
   "cell_type": "code",
   "execution_count": null,
   "metadata": {
    "ExecuteTime": {
     "end_time": "2020-04-20T14:37:21.021104Z",
     "start_time": "2020-04-20T14:37:20.128154Z"
    }
   },
   "outputs": [],
   "source": [
    "plt.plot(np.logspace(0, 10, 10, base=np.e), np.random.random(10), 'x')\n",
    "plt.xscale('log')"
   ]
  },
  {
   "cell_type": "code",
   "execution_count": null,
   "metadata": {
    "ExecuteTime": {
     "end_time": "2020-04-20T14:37:47.148953Z",
     "start_time": "2020-04-20T14:37:47.143956Z"
    }
   },
   "outputs": [],
   "source": [
    "# uniform random numbers in [0,1]\n",
    "np.random.rand(5,5)"
   ]
  },
  {
   "cell_type": "code",
   "execution_count": null,
   "metadata": {
    "ExecuteTime": {
     "end_time": "2020-04-15T11:46:14.343139Z",
     "start_time": "2020-04-15T11:46:14.338154Z"
    }
   },
   "outputs": [],
   "source": [
    "# standard normal distributed random numbers\n",
    "np.random.randn(5,5)"
   ]
  },
  {
   "cell_type": "markdown",
   "metadata": {
    "ExecuteTime": {
     "end_time": "2020-04-14T16:06:31.699850Z",
     "start_time": "2020-04-14T16:06:31.693866Z"
    }
   },
   "source": [
    "<div class=\"alert alert-success\">\n",
    "    <b>EXERCISE:</b> Create a vector with values ranging from 10 to 49 with steps of 1\n",
    "</div>"
   ]
  },
  {
   "cell_type": "code",
   "execution_count": null,
   "metadata": {
    "ExecuteTime": {
     "end_time": "2020-04-20T14:45:18.089486Z",
     "start_time": "2020-04-20T14:45:18.085494Z"
    }
   },
   "outputs": [],
   "source": [
    "np.arange(10, 50, 1)"
   ]
  },
  {
   "cell_type": "markdown",
   "metadata": {
    "ExecuteTime": {
     "end_time": "2020-04-14T16:06:31.699850Z",
     "start_time": "2020-04-14T16:06:31.693866Z"
    }
   },
   "source": [
    "<div class=\"alert alert-success\">\n",
    "    <b>EXERCISE:</b> Create a 3x3 identity matrix (look into docs!)\n",
    "</div>"
   ]
  },
  {
   "cell_type": "code",
   "execution_count": null,
   "metadata": {
    "ExecuteTime": {
     "end_time": "2020-04-20T14:46:31.819379Z",
     "start_time": "2020-04-20T14:46:31.814383Z"
    }
   },
   "outputs": [],
   "source": [
    "np.identity(3)"
   ]
  },
  {
   "cell_type": "markdown",
   "metadata": {
    "ExecuteTime": {
     "end_time": "2020-04-14T16:06:31.699850Z",
     "start_time": "2020-04-14T16:06:31.693866Z"
    }
   },
   "source": [
    "<div class=\"alert alert-success\">\n",
    "    <b>EXERCISE</b>: Create a 3x3x3 array with random values\n",
    "</div>"
   ]
  },
  {
   "cell_type": "code",
   "execution_count": null,
   "metadata": {},
   "outputs": [],
   "source": []
  },
  {
   "cell_type": "markdown",
   "metadata": {},
   "source": [
    "## File handling"
   ]
  },
  {
   "cell_type": "code",
   "execution_count": null,
   "metadata": {
    "ExecuteTime": {
     "end_time": "2020-04-20T14:47:08.229368Z",
     "start_time": "2020-04-20T14:47:08.225379Z"
    }
   },
   "outputs": [],
   "source": [
    "a = np.random.random(40).reshape((20, 2))"
   ]
  },
  {
   "cell_type": "code",
   "execution_count": null,
   "metadata": {
    "ExecuteTime": {
     "end_time": "2020-04-20T14:47:10.381215Z",
     "start_time": "2020-04-20T14:47:10.375230Z"
    }
   },
   "outputs": [],
   "source": [
    "a"
   ]
  },
  {
   "cell_type": "code",
   "execution_count": null,
   "metadata": {
    "ExecuteTime": {
     "end_time": "2020-04-20T14:47:16.110599Z",
     "start_time": "2020-04-20T14:47:16.105616Z"
    }
   },
   "outputs": [],
   "source": [
    "np.savetxt(\"random-matrix.csv\", a, delimiter=\",\")"
   ]
  },
  {
   "cell_type": "code",
   "execution_count": null,
   "metadata": {
    "ExecuteTime": {
     "end_time": "2020-04-20T14:48:24.972115Z",
     "start_time": "2020-04-20T14:48:24.964137Z"
    }
   },
   "outputs": [],
   "source": [
    "a2 = np.genfromtxt(\"random-matrix.csv\", delimiter=',')\n",
    "a2"
   ]
  },
  {
   "cell_type": "markdown",
   "metadata": {},
   "source": [
    "## Indexing and slicing arrays"
   ]
  },
  {
   "cell_type": "markdown",
   "metadata": {},
   "source": [
    "With vectors"
   ]
  },
  {
   "cell_type": "code",
   "execution_count": null,
   "metadata": {
    "ExecuteTime": {
     "end_time": "2020-04-15T11:52:50.858266Z",
     "start_time": "2020-04-15T11:52:50.853279Z"
    }
   },
   "outputs": [],
   "source": [
    "V"
   ]
  },
  {
   "cell_type": "code",
   "execution_count": null,
   "metadata": {
    "ExecuteTime": {
     "end_time": "2020-04-15T11:52:51.086725Z",
     "start_time": "2020-04-15T11:52:51.081736Z"
    }
   },
   "outputs": [],
   "source": [
    "# V is a vector, and has only one dimension, taking one index\n",
    "V[0]"
   ]
  },
  {
   "cell_type": "code",
   "execution_count": null,
   "metadata": {
    "ExecuteTime": {
     "end_time": "2020-04-15T11:53:06.054453Z",
     "start_time": "2020-04-15T11:53:06.049466Z"
    }
   },
   "outputs": [],
   "source": [
    "V[-1:]"
   ]
  },
  {
   "cell_type": "code",
   "execution_count": null,
   "metadata": {
    "ExecuteTime": {
     "end_time": "2020-04-15T11:53:08.967044Z",
     "start_time": "2020-04-15T11:53:08.961061Z"
    }
   },
   "outputs": [],
   "source": [
    "a"
   ]
  },
  {
   "cell_type": "code",
   "execution_count": null,
   "metadata": {
    "ExecuteTime": {
     "end_time": "2020-04-15T11:53:39.493441Z",
     "start_time": "2020-04-15T11:53:39.487452Z"
    }
   },
   "outputs": [],
   "source": [
    "a.shape"
   ]
  },
  {
   "cell_type": "code",
   "execution_count": null,
   "metadata": {
    "ExecuteTime": {
     "end_time": "2020-04-15T11:53:49.585418Z",
     "start_time": "2020-04-15T11:53:49.580433Z"
    }
   },
   "outputs": [],
   "source": [
    "# a is a matrix, or a 2 dimensional array, taking two indices \n",
    "# the first dimension corresponds to rows, the second to columns.\n",
    "a[1, 1]"
   ]
  },
  {
   "cell_type": "code",
   "execution_count": null,
   "metadata": {
    "ExecuteTime": {
     "end_time": "2020-04-15T11:54:13.911407Z",
     "start_time": "2020-04-15T11:54:13.906365Z"
    }
   },
   "outputs": [],
   "source": [
    "a[1, :] # row 1"
   ]
  },
  {
   "cell_type": "code",
   "execution_count": null,
   "metadata": {
    "ExecuteTime": {
     "end_time": "2020-04-15T11:54:24.520338Z",
     "start_time": "2020-04-15T11:54:24.514354Z"
    }
   },
   "outputs": [],
   "source": [
    "a[:, 1] # column 1"
   ]
  },
  {
   "cell_type": "code",
   "execution_count": null,
   "metadata": {
    "ExecuteTime": {
     "end_time": "2020-04-15T11:55:12.184172Z",
     "start_time": "2020-04-15T11:55:12.178188Z"
    }
   },
   "outputs": [],
   "source": [
    "a[1:5, 1] # slicing!"
   ]
  },
  {
   "cell_type": "code",
   "execution_count": null,
   "metadata": {
    "ExecuteTime": {
     "end_time": "2020-04-15T11:56:20.094161Z",
     "start_time": "2020-04-15T11:56:20.089173Z"
    }
   },
   "outputs": [],
   "source": [
    "a[::2]"
   ]
  },
  {
   "cell_type": "code",
   "execution_count": null,
   "metadata": {
    "ExecuteTime": {
     "end_time": "2020-04-15T11:56:42.579511Z",
     "start_time": "2020-04-15T11:56:42.574524Z"
    }
   },
   "outputs": [],
   "source": [
    "a[-3:] # the last three elements"
   ]
  },
  {
   "cell_type": "markdown",
   "metadata": {
    "ExecuteTime": {
     "end_time": "2020-04-14T16:06:31.699850Z",
     "start_time": "2020-04-14T16:06:31.693866Z"
    }
   },
   "source": [
    "<div class=\"alert alert-success\">\n",
    "    <b>EXERCISE</b>: Create a null vector of size 10 but the fifth value must be <b>1</b>\n",
    "</div>"
   ]
  },
  {
   "cell_type": "code",
   "execution_count": null,
   "metadata": {},
   "outputs": [],
   "source": []
  },
  {
   "cell_type": "markdown",
   "metadata": {},
   "source": [
    "An array can also be passed as index (**Fancy indexing!**)"
   ]
  },
  {
   "cell_type": "code",
   "execution_count": null,
   "metadata": {
    "ExecuteTime": {
     "end_time": "2020-04-15T11:59:59.825761Z",
     "start_time": "2020-04-15T11:59:59.820774Z"
    }
   },
   "outputs": [],
   "source": [
    "row_indices = [1, 2, 3]\n",
    "a[row_indices]"
   ]
  },
  {
   "cell_type": "code",
   "execution_count": null,
   "metadata": {
    "ExecuteTime": {
     "end_time": "2020-04-15T12:00:37.517884Z",
     "start_time": "2020-04-15T12:00:37.512707Z"
    }
   },
   "outputs": [],
   "source": [
    "B = np.array([n for n in range(5)])  #range is pure python\n",
    "B"
   ]
  },
  {
   "cell_type": "markdown",
   "metadata": {
    "ExecuteTime": {
     "end_time": "2020-04-14T16:06:31.699850Z",
     "start_time": "2020-04-14T16:06:31.693866Z"
    }
   },
   "source": [
    "<div class=\"alert alert-success\">\n",
    "    <b>EXERCISE</b>: Make the above shorter with numpy\n",
    "</div>"
   ]
  },
  {
   "cell_type": "code",
   "execution_count": null,
   "metadata": {},
   "outputs": [],
   "source": []
  },
  {
   "cell_type": "markdown",
   "metadata": {},
   "source": [
    "Often a mask is also something useful for smart indexing"
   ]
  },
  {
   "cell_type": "code",
   "execution_count": null,
   "metadata": {
    "ExecuteTime": {
     "end_time": "2020-04-15T12:03:06.199202Z",
     "start_time": "2020-04-15T12:03:06.193216Z"
    }
   },
   "outputs": [],
   "source": [
    "row_mask = np.array([True, False, True, False, False, True, False, True, False, False, \n",
    "                    True, False, True, False, False, True, False, True, False, False])\n",
    "a[row_mask]"
   ]
  },
  {
   "cell_type": "code",
   "execution_count": null,
   "metadata": {
    "ExecuteTime": {
     "end_time": "2020-04-15T12:03:45.543861Z",
     "start_time": "2020-04-15T12:03:45.537877Z"
    }
   },
   "outputs": [],
   "source": [
    "a[a > 0.3]"
   ]
  },
  {
   "cell_type": "markdown",
   "metadata": {},
   "source": [
    "Swapping rows"
   ]
  },
  {
   "cell_type": "code",
   "execution_count": null,
   "metadata": {
    "ExecuteTime": {
     "end_time": "2020-04-15T12:05:32.008026Z",
     "start_time": "2020-04-15T12:05:32.003039Z"
    }
   },
   "outputs": [],
   "source": [
    "#SWAP\n",
    "a[[0, 1]] = a[[1, 0]]\n",
    "a"
   ]
  },
  {
   "cell_type": "markdown",
   "metadata": {
    "ExecuteTime": {
     "end_time": "2020-04-14T16:06:31.699850Z",
     "start_time": "2020-04-14T16:06:31.693866Z"
    }
   },
   "source": [
    "<div class=\"alert alert-success\">\n",
    "    <b>EXERCISE</b>: Change all even rows into zero-values\n",
    "</div>"
   ]
  },
  {
   "cell_type": "code",
   "execution_count": null,
   "metadata": {},
   "outputs": [],
   "source": []
  },
  {
   "cell_type": "markdown",
   "metadata": {},
   "source": [
    "## Array operations"
   ]
  },
  {
   "cell_type": "code",
   "execution_count": null,
   "metadata": {
    "ExecuteTime": {
     "end_time": "2020-04-15T12:14:58.397249Z",
     "start_time": "2020-04-15T12:14:58.393261Z"
    }
   },
   "outputs": [],
   "source": [
    "v1 = np.arange(0, 5)"
   ]
  },
  {
   "cell_type": "code",
   "execution_count": null,
   "metadata": {
    "ExecuteTime": {
     "end_time": "2020-04-15T12:15:01.572806Z",
     "start_time": "2020-04-15T12:15:01.567819Z"
    }
   },
   "outputs": [],
   "source": [
    "v1"
   ]
  },
  {
   "cell_type": "code",
   "execution_count": null,
   "metadata": {
    "ExecuteTime": {
     "end_time": "2020-04-15T12:15:13.556255Z",
     "start_time": "2020-04-15T12:15:13.552269Z"
    }
   },
   "outputs": [],
   "source": [
    "v1 * 2"
   ]
  },
  {
   "cell_type": "code",
   "execution_count": null,
   "metadata": {
    "ExecuteTime": {
     "end_time": "2020-04-15T12:15:18.334509Z",
     "start_time": "2020-04-15T12:15:18.328526Z"
    }
   },
   "outputs": [],
   "source": [
    "v1 + 2"
   ]
  },
  {
   "cell_type": "code",
   "execution_count": null,
   "metadata": {
    "ExecuteTime": {
     "end_time": "2020-04-15T12:15:32.069957Z",
     "start_time": "2020-04-15T12:15:32.063973Z"
    }
   },
   "outputs": [],
   "source": [
    "A = np.arange(25).reshape(5,5)\n",
    "A * 2"
   ]
  },
  {
   "cell_type": "code",
   "execution_count": null,
   "metadata": {
    "ExecuteTime": {
     "end_time": "2020-04-15T12:15:45.149410Z",
     "start_time": "2020-04-15T12:15:45.144423Z"
    }
   },
   "outputs": [],
   "source": [
    "A * A # element-wise multiplication"
   ]
  },
  {
   "cell_type": "code",
   "execution_count": null,
   "metadata": {
    "ExecuteTime": {
     "end_time": "2020-04-15T12:15:52.711185Z",
     "start_time": "2020-04-15T12:15:52.705202Z"
    }
   },
   "outputs": [],
   "source": [
    "A * v1"
   ]
  },
  {
   "cell_type": "markdown",
   "metadata": {},
   "source": [
    "Remember the speed difference with pure python?"
   ]
  },
  {
   "cell_type": "code",
   "execution_count": null,
   "metadata": {
    "ExecuteTime": {
     "end_time": "2020-04-15T12:16:22.929533Z",
     "start_time": "2020-04-15T12:16:11.568373Z"
    }
   },
   "outputs": [],
   "source": [
    "a = np.arange(10000)\n",
    "%timeit a + 1  \n",
    "\n",
    "l = range(10000)\n",
    "%timeit [i+1 for i in l] "
   ]
  },
  {
   "cell_type": "code",
   "execution_count": null,
   "metadata": {
    "ExecuteTime": {
     "end_time": "2020-04-15T12:19:00.349828Z",
     "start_time": "2020-04-15T12:19:00.344837Z"
    }
   },
   "outputs": [],
   "source": [
    "x, y = np.arange(5), np.arange(5).reshape((5, 1)) # a row and a column array"
   ]
  },
  {
   "cell_type": "code",
   "execution_count": null,
   "metadata": {
    "ExecuteTime": {
     "end_time": "2020-04-20T14:41:07.306810Z",
     "start_time": "2020-04-20T14:41:07.295839Z"
    }
   },
   "outputs": [],
   "source": [
    "distance = np.sqrt(x ** 2 + y ** 2)\n",
    "distance"
   ]
  },
  {
   "cell_type": "code",
   "execution_count": null,
   "metadata": {
    "ExecuteTime": {
     "end_time": "2020-04-20T14:41:08.233813Z",
     "start_time": "2020-04-20T14:41:08.223836Z"
    }
   },
   "outputs": [],
   "source": [
    "#let's put this in a figure:\n",
    "plt.pcolor(distance)    \n",
    "plt.colorbar()  "
   ]
  },
  {
   "cell_type": "markdown",
   "metadata": {},
   "source": [
    "## Calculations"
   ]
  },
  {
   "cell_type": "code",
   "execution_count": null,
   "metadata": {
    "ExecuteTime": {
     "end_time": "2020-04-15T12:25:44.452743Z",
     "start_time": "2020-04-15T12:25:44.448754Z"
    }
   },
   "outputs": [],
   "source": [
    "a = np.random.random(40)"
   ]
  },
  {
   "cell_type": "code",
   "execution_count": null,
   "metadata": {
    "ExecuteTime": {
     "end_time": "2020-04-15T12:22:25.627473Z",
     "start_time": "2020-04-15T12:22:25.622487Z"
    }
   },
   "outputs": [],
   "source": [
    "a"
   ]
  },
  {
   "cell_type": "code",
   "execution_count": null,
   "metadata": {
    "ExecuteTime": {
     "end_time": "2020-04-15T12:24:17.426459Z",
     "start_time": "2020-04-15T12:24:17.414488Z"
    }
   },
   "outputs": [],
   "source": [
    "print('Mean value is', np.mean(a))\n",
    "print('Median value is',  np.median(a))\n",
    "print('Std is', np.std(a))\n",
    "print('Variance is', np.var(a))\n",
    "print('Min is', a.min())\n",
    "print('Element of minimum value is', a.argmin())\n",
    "print('Max is', a.max())\n",
    "print('Sum is', np.sum(a))\n",
    "print('Prod', np.prod(a))\n",
    "print('Cumsum is', np.cumsum(a)[-1])\n",
    "print('CumProd of 5 first elements is', np.cumprod(a)[4])\n",
    "print('Unique values in this array are:', np.unique(np.random.random_integers(1,6,10)))\n",
    "print('85% Percentile value is: ', np.percentile(a, 85))"
   ]
  },
  {
   "cell_type": "code",
   "execution_count": null,
   "metadata": {
    "ExecuteTime": {
     "end_time": "2020-04-15T12:30:36.573401Z",
     "start_time": "2020-04-15T12:30:36.569412Z"
    }
   },
   "outputs": [],
   "source": [
    "b = np.random.uniform(3, 40, (5,5))"
   ]
  },
  {
   "cell_type": "code",
   "execution_count": null,
   "metadata": {
    "ExecuteTime": {
     "end_time": "2020-04-15T12:30:37.347302Z",
     "start_time": "2020-04-15T12:30:37.342302Z"
    }
   },
   "outputs": [],
   "source": [
    "b"
   ]
  },
  {
   "cell_type": "code",
   "execution_count": null,
   "metadata": {
    "ExecuteTime": {
     "end_time": "2020-04-15T12:30:38.994928Z",
     "start_time": "2020-04-15T12:30:38.989941Z"
    }
   },
   "outputs": [],
   "source": [
    "b.max()"
   ]
  },
  {
   "cell_type": "code",
   "execution_count": null,
   "metadata": {
    "ExecuteTime": {
     "end_time": "2020-04-15T12:30:40.003229Z",
     "start_time": "2020-04-15T12:30:39.998243Z"
    }
   },
   "outputs": [],
   "source": [
    "b.max(axis=1)"
   ]
  },
  {
   "cell_type": "markdown",
   "metadata": {
    "ExecuteTime": {
     "end_time": "2020-04-14T16:06:31.699850Z",
     "start_time": "2020-04-14T16:06:31.693866Z"
    }
   },
   "source": [
    "<div class=\"alert alert-success\">\n",
    "    <b>EXERCISE</b>: Rescale the 5x5 matrix to values between 0 and 1:\n",
    "</div>"
   ]
  },
  {
   "cell_type": "code",
   "execution_count": null,
   "metadata": {},
   "outputs": [],
   "source": []
  },
  {
   "cell_type": "markdown",
   "metadata": {},
   "source": [
    "There are many more functions, e.g. reshaping, resizing, repeating, concatenating, ..."
   ]
  },
  {
   "cell_type": "markdown",
   "metadata": {},
   "source": [
    "## View and copy"
   ]
  },
  {
   "cell_type": "code",
   "execution_count": null,
   "metadata": {
    "ExecuteTime": {
     "end_time": "2020-04-15T12:34:55.774269Z",
     "start_time": "2020-04-15T12:34:55.768281Z"
    }
   },
   "outputs": [],
   "source": [
    "A = np.array([[1, 2], [3, 4]])\n",
    "A"
   ]
  },
  {
   "cell_type": "code",
   "execution_count": null,
   "metadata": {
    "ExecuteTime": {
     "end_time": "2020-04-15T12:35:04.650511Z",
     "start_time": "2020-04-15T12:35:04.646517Z"
    }
   },
   "outputs": [],
   "source": [
    "# now B is referring to the same array data as A \n",
    "B = A "
   ]
  },
  {
   "cell_type": "markdown",
   "metadata": {},
   "source": [
    "This makes python very efficient in memory usage, but important to remember what we're doing"
   ]
  },
  {
   "cell_type": "code",
   "execution_count": null,
   "metadata": {
    "ExecuteTime": {
     "end_time": "2020-04-15T12:35:53.379143Z",
     "start_time": "2020-04-15T12:35:53.374152Z"
    }
   },
   "outputs": [],
   "source": [
    "# changing B affects A\n",
    "B[0,0] = 10\n",
    "\n",
    "B"
   ]
  },
  {
   "cell_type": "markdown",
   "metadata": {},
   "source": [
    "To avoid this, we can make a copy"
   ]
  },
  {
   "cell_type": "code",
   "execution_count": null,
   "metadata": {},
   "outputs": [],
   "source": [
    "B = np.copy(A)"
   ]
  },
  {
   "cell_type": "code",
   "execution_count": null,
   "metadata": {
    "ExecuteTime": {
     "end_time": "2020-04-15T12:36:42.595886Z",
     "start_time": "2020-04-15T12:36:42.590898Z"
    }
   },
   "outputs": [],
   "source": [
    "# now, if we modify B, A is not affected\n",
    "B[0,0] = -5\n",
    "\n",
    "B"
   ]
  },
  {
   "cell_type": "markdown",
   "metadata": {},
   "source": [
    "## Fitting functions"
   ]
  },
  {
   "cell_type": "code",
   "execution_count": null,
   "metadata": {
    "ExecuteTime": {
     "end_time": "2020-04-20T14:49:54.427083Z",
     "start_time": "2020-04-20T14:49:54.132987Z"
    }
   },
   "outputs": [],
   "source": [
    "b_data = np.genfromtxt(\"../data/bogota_part_dataset.csv\", skip_header=3, delimiter=',')\n",
    "plt.scatter(b_data[:,2], b_data[:,3])"
   ]
  },
  {
   "cell_type": "code",
   "execution_count": null,
   "metadata": {
    "ExecuteTime": {
     "end_time": "2020-04-20T14:51:15.878241Z",
     "start_time": "2020-04-20T14:51:15.869267Z"
    }
   },
   "outputs": [],
   "source": [
    "x, y = b_data[:,1], b_data[:,3] \n",
    "t = np.polyfit(x, y, 2) # fit a 2nd degree polynomial to the data, result is x**2 + 2x + 3\n",
    "t"
   ]
  },
  {
   "cell_type": "code",
   "execution_count": null,
   "metadata": {
    "ExecuteTime": {
     "end_time": "2020-04-20T14:51:16.738143Z",
     "start_time": "2020-04-20T14:51:16.417315Z"
    }
   },
   "outputs": [],
   "source": [
    "x.sort()\n",
    "plt.plot(x, y, 'o')\n",
    "plt.plot(x, t[0]*x**2 + t[1]*x + t[2], '-')"
   ]
  },
  {
   "cell_type": "markdown",
   "metadata": {
    "ExecuteTime": {
     "end_time": "2020-04-14T16:06:31.699850Z",
     "start_time": "2020-04-14T16:06:31.693866Z"
    }
   },
   "source": [
    "<div class=\"alert alert-success\">\n",
    "    <b>EXERCISE</b>: Make a fourth order fit between the fourth and fifth column.\n",
    "</div>"
   ]
  },
  {
   "cell_type": "code",
   "execution_count": null,
   "metadata": {
    "ExecuteTime": {
     "end_time": "2020-04-20T14:52:18.137658Z",
     "start_time": "2020-04-20T14:52:18.132671Z"
    }
   },
   "outputs": [],
   "source": [
    "b_data[:, 4]"
   ]
  },
  {
   "cell_type": "code",
   "execution_count": null,
   "metadata": {
    "ExecuteTime": {
     "end_time": "2020-04-20T14:54:49.241220Z",
     "start_time": "2020-04-20T14:54:49.236233Z"
    }
   },
   "outputs": [],
   "source": [
    "x = b_data[:, 3]\n",
    "y = b_data[:, 4]\n",
    "\n",
    "t = np.polyfit(x, y, 4) # fit a 2nd degree polynomial to the data, result is x**2 + 2x + 3\n",
    "t"
   ]
  },
  {
   "cell_type": "code",
   "execution_count": null,
   "metadata": {
    "ExecuteTime": {
     "end_time": "2020-04-20T14:56:48.758115Z",
     "start_time": "2020-04-20T14:56:48.454416Z"
    }
   },
   "outputs": [],
   "source": [
    "x.sort()\n",
    "plt.plot(x, y, 'o')\n",
    "plt.plot(x, t[0]*x**4 +t[1]*x**3 +t[2]*x**2 + t[3]*x + t[4], '-')"
   ]
  },
  {
   "cell_type": "markdown",
   "metadata": {},
   "source": [
    "## Advanced DA functions"
   ]
  },
  {
   "cell_type": "code",
   "execution_count": null,
   "metadata": {
    "ExecuteTime": {
     "end_time": "2020-04-20T14:57:49.584725Z",
     "start_time": "2020-04-20T14:57:49.579738Z"
    }
   },
   "outputs": [],
   "source": [
    "def moving_average(a, n=3) :\n",
    "    ret = np.cumsum(a, dtype=float)\n",
    "    ret[n:] = ret[n:] - ret[:-n]\n",
    "    return ret[n - 1:] / n"
   ]
  },
  {
   "cell_type": "code",
   "execution_count": null,
   "metadata": {
    "ExecuteTime": {
     "end_time": "2020-04-20T14:57:49.759969Z",
     "start_time": "2020-04-20T14:57:49.751992Z"
    }
   },
   "outputs": [],
   "source": [
    "moving_average(b_data[:,3], 5)"
   ]
  },
  {
   "cell_type": "markdown",
   "metadata": {},
   "source": [
    "More efficient and already existing functions of this type can be used with **pandas**"
   ]
  },
  {
   "cell_type": "markdown",
   "metadata": {},
   "source": [
    "**Interesting reading**\n",
    "* http://numpy.scipy.org\n",
    "* http://scipy.org/Tentative_NumPy_Tutorial\n",
    "* http://scipy.org/NumPy_for_Matlab_Users - A Numpy guide for MATLAB users.\n",
    "* http://wiki.scipy.org/Numpy_Example_List\n",
    "* http://wiki.scipy.org/Cookbook"
   ]
  },
  {
   "cell_type": "markdown",
   "metadata": {},
   "source": [
    "**Sources**\n",
    "* http://scipy-lectures.github.io/intro/numpy/index.html\n",
    "* http://www.labri.fr/perso/nrougier/teaching/numpy.100/index.html\n",
    "* https://github.com/stijnvanhoey\n",
    "* https://github.com/jorisvandenbossche"
   ]
  },
  {
   "cell_type": "markdown",
   "metadata": {},
   "source": [
    "# Pandas"
   ]
  },
  {
   "cell_type": "markdown",
   "metadata": {},
   "source": [
    "For data-intensive work in Python the [Pandas](http://pandas.pydata.org) library has become essential.\n",
    "\n",
    "* Pandas can be thought of as NumPy arrays with labels for rows and columns, and better support for heterogeneous data types, but it's also much, much more than that.\n",
    "* Pandas can also be thought of as `R`'s `data.frame` in Python.\n",
    "* Powerful for working with missing data, working with time series data, for reading and writing your data, for reshaping, grouping, merging your data, ...\n",
    "\n",
    "It's documentation: http://pandas.pydata.org/pandas-docs/stable/"
   ]
  },
  {
   "cell_type": "code",
   "execution_count": null,
   "metadata": {
    "ExecuteTime": {
     "end_time": "2020-04-20T14:59:16.046573Z",
     "start_time": "2020-04-20T14:59:16.043582Z"
    }
   },
   "outputs": [],
   "source": [
    "import pandas as pd"
   ]
  },
  {
   "cell_type": "code",
   "execution_count": null,
   "metadata": {
    "ExecuteTime": {
     "end_time": "2020-04-20T14:59:18.589014Z",
     "start_time": "2020-04-20T14:59:18.581035Z"
    }
   },
   "outputs": [],
   "source": [
    "my_series = pd.Series([0.1, 0.2, 0.3, 0.4])\n",
    "my_series"
   ]
  },
  {
   "cell_type": "markdown",
   "metadata": {},
   "source": [
    "The series has a built-in concept of an **index**, which by default is the numbers *0* through *N - 1*"
   ]
  },
  {
   "cell_type": "code",
   "execution_count": null,
   "metadata": {
    "ExecuteTime": {
     "end_time": "2020-04-20T14:59:27.292879Z",
     "start_time": "2020-04-20T14:59:27.286895Z"
    }
   },
   "outputs": [],
   "source": [
    "my_series.index"
   ]
  },
  {
   "cell_type": "code",
   "execution_count": null,
   "metadata": {
    "ExecuteTime": {
     "end_time": "2020-04-20T14:59:34.767827Z",
     "start_time": "2020-04-20T14:59:34.762840Z"
    }
   },
   "outputs": [],
   "source": [
    "my_series.values"
   ]
  },
  {
   "cell_type": "markdown",
   "metadata": {},
   "source": [
    "But the index can be anything"
   ]
  },
  {
   "cell_type": "code",
   "execution_count": null,
   "metadata": {
    "ExecuteTime": {
     "end_time": "2020-04-20T14:59:49.469796Z",
     "start_time": "2020-04-20T14:59:49.459823Z"
    }
   },
   "outputs": [],
   "source": [
    "my_series2 = pd.Series(np.arange(4), index=['a', 'b', 'c', 'd'])\n",
    "my_series2"
   ]
  },
  {
   "cell_type": "code",
   "execution_count": null,
   "metadata": {
    "ExecuteTime": {
     "end_time": "2020-04-20T15:00:26.560379Z",
     "start_time": "2020-04-20T15:00:26.555393Z"
    }
   },
   "outputs": [],
   "source": [
    "my_series2.values"
   ]
  },
  {
   "cell_type": "code",
   "execution_count": null,
   "metadata": {
    "ExecuteTime": {
     "end_time": "2020-04-20T15:00:35.757309Z",
     "start_time": "2020-04-20T15:00:35.749328Z"
    }
   },
   "outputs": [],
   "source": [
    "pop_dict = {'California': 38.3,\n",
    "            'Texas': 26.4,\n",
    "            'New York': 19.7,\n",
    "            'Florida': 19.6,\n",
    "            'Illinois': 12.9}\n",
    "populations = pd.Series(pop_dict)\n",
    "populations"
   ]
  },
  {
   "cell_type": "code",
   "execution_count": null,
   "metadata": {
    "ExecuteTime": {
     "end_time": "2020-04-20T15:00:55.560185Z",
     "start_time": "2020-04-20T15:00:55.555189Z"
    }
   },
   "outputs": [],
   "source": [
    "populations['California']"
   ]
  },
  {
   "cell_type": "code",
   "execution_count": null,
   "metadata": {
    "ExecuteTime": {
     "end_time": "2020-04-20T15:01:05.128223Z",
     "start_time": "2020-04-20T15:01:05.122242Z"
    }
   },
   "outputs": [],
   "source": [
    "populations['Texas':]"
   ]
  },
  {
   "cell_type": "code",
   "execution_count": null,
   "metadata": {
    "ExecuteTime": {
     "end_time": "2020-04-20T15:01:09.344302Z",
     "start_time": "2020-04-20T15:01:09.339311Z"
    }
   },
   "outputs": [],
   "source": [
    "populations[populations > 20]"
   ]
  },
  {
   "cell_type": "code",
   "execution_count": null,
   "metadata": {
    "ExecuteTime": {
     "end_time": "2020-04-20T15:01:58.956252Z",
     "start_time": "2020-04-20T15:01:58.950269Z"
    }
   },
   "outputs": [],
   "source": [
    "populations.mean()"
   ]
  },
  {
   "cell_type": "markdown",
   "metadata": {},
   "source": [
    "## Dataframes"
   ]
  },
  {
   "cell_type": "code",
   "execution_count": null,
   "metadata": {
    "ExecuteTime": {
     "end_time": "2020-04-20T15:02:08.978783Z",
     "start_time": "2020-04-20T15:02:08.961829Z"
    }
   },
   "outputs": [],
   "source": [
    "data = {'state': ['California', 'Texas', 'New York', 'Florida', 'Illinois'],\n",
    "        'population': [38.3, 19.6, 12.9, 19.7, 26.4],\n",
    "        'area':[424, 696, 141, 170, 150]}\n",
    "states = pd.DataFrame(data)\n",
    "states"
   ]
  },
  {
   "cell_type": "code",
   "execution_count": null,
   "metadata": {
    "ExecuteTime": {
     "end_time": "2020-04-20T15:02:16.678221Z",
     "start_time": "2020-04-20T15:02:16.674231Z"
    }
   },
   "outputs": [],
   "source": [
    "states.index"
   ]
  },
  {
   "cell_type": "code",
   "execution_count": null,
   "metadata": {
    "ExecuteTime": {
     "end_time": "2020-04-20T15:02:17.281033Z",
     "start_time": "2020-04-20T15:02:17.276047Z"
    }
   },
   "outputs": [],
   "source": [
    "states.columns"
   ]
  },
  {
   "cell_type": "code",
   "execution_count": null,
   "metadata": {
    "ExecuteTime": {
     "end_time": "2020-04-20T15:02:23.977120Z",
     "start_time": "2020-04-20T15:02:23.972134Z"
    }
   },
   "outputs": [],
   "source": [
    "states.dtypes"
   ]
  },
  {
   "cell_type": "code",
   "execution_count": null,
   "metadata": {
    "ExecuteTime": {
     "end_time": "2020-04-20T15:02:28.505440Z",
     "start_time": "2020-04-20T15:02:28.497430Z"
    }
   },
   "outputs": [],
   "source": [
    "states.info()"
   ]
  },
  {
   "cell_type": "markdown",
   "metadata": {},
   "source": [
    "Check the difference in calling the column as Dataframe,..."
   ]
  },
  {
   "cell_type": "code",
   "execution_count": null,
   "metadata": {
    "ExecuteTime": {
     "end_time": "2020-04-20T15:03:27.294314Z",
     "start_time": "2020-04-20T15:03:27.289322Z"
    }
   },
   "outputs": [],
   "source": [
    "states['area']"
   ]
  },
  {
   "cell_type": "markdown",
   "metadata": {},
   "source": [
    "... or its values"
   ]
  },
  {
   "cell_type": "code",
   "execution_count": null,
   "metadata": {
    "ExecuteTime": {
     "end_time": "2020-04-20T15:03:29.418696Z",
     "start_time": "2020-04-20T15:03:29.409721Z"
    }
   },
   "outputs": [],
   "source": [
    "states[['area']]"
   ]
  },
  {
   "cell_type": "code",
   "execution_count": null,
   "metadata": {
    "ExecuteTime": {
     "end_time": "2020-04-20T15:03:35.515662Z",
     "start_time": "2020-04-20T15:03:35.506684Z"
    }
   },
   "outputs": [],
   "source": [
    "states[['area', 'population']]"
   ]
  },
  {
   "cell_type": "markdown",
   "metadata": {},
   "source": [
    "Any column can be made as index"
   ]
  },
  {
   "cell_type": "code",
   "execution_count": null,
   "metadata": {
    "ExecuteTime": {
     "end_time": "2020-04-20T15:03:43.026774Z",
     "start_time": "2020-04-20T15:03:43.017808Z"
    }
   },
   "outputs": [],
   "source": [
    "states = states.set_index('state')\n",
    "states"
   ]
  },
  {
   "cell_type": "code",
   "execution_count": null,
   "metadata": {
    "ExecuteTime": {
     "end_time": "2020-04-20T15:04:02.728838Z",
     "start_time": "2020-04-20T15:04:02.722855Z"
    }
   },
   "outputs": [],
   "source": [
    "states['area']"
   ]
  },
  {
   "cell_type": "code",
   "execution_count": null,
   "metadata": {},
   "outputs": [],
   "source": []
  },
  {
   "cell_type": "markdown",
   "metadata": {},
   "source": [
    "Columns can be added easily"
   ]
  },
  {
   "cell_type": "code",
   "execution_count": null,
   "metadata": {
    "ExecuteTime": {
     "end_time": "2020-04-20T15:04:15.279796Z",
     "start_time": "2020-04-20T15:04:15.265834Z"
    }
   },
   "outputs": [],
   "source": [
    "states['density'] = states['population'] / states['area']\n",
    "states"
   ]
  },
  {
   "cell_type": "markdown",
   "metadata": {},
   "source": [
    "And masking can be used as well"
   ]
  },
  {
   "cell_type": "code",
   "execution_count": null,
   "metadata": {
    "ExecuteTime": {
     "end_time": "2020-04-20T15:04:36.418608Z",
     "start_time": "2020-04-20T15:04:36.409633Z"
    }
   },
   "outputs": [],
   "source": [
    "states[states['density'] > 0.1]"
   ]
  },
  {
   "cell_type": "markdown",
   "metadata": {},
   "source": [
    "Sorting"
   ]
  },
  {
   "cell_type": "code",
   "execution_count": null,
   "metadata": {
    "ExecuteTime": {
     "end_time": "2020-04-20T15:05:07.124138Z",
     "start_time": "2020-04-20T15:05:07.115162Z"
    }
   },
   "outputs": [],
   "source": [
    "states.sort_values(by='area', ascending=True)"
   ]
  },
  {
   "cell_type": "markdown",
   "metadata": {},
   "source": [
    "A Dataframe can be easily described with main stats"
   ]
  },
  {
   "cell_type": "code",
   "execution_count": null,
   "metadata": {
    "ExecuteTime": {
     "end_time": "2020-04-20T15:05:14.517348Z",
     "start_time": "2020-04-20T15:05:14.493412Z"
    }
   },
   "outputs": [],
   "source": [
    "states.describe()"
   ]
  },
  {
   "cell_type": "code",
   "execution_count": null,
   "metadata": {
    "ExecuteTime": {
     "end_time": "2020-04-20T15:05:41.477925Z",
     "start_time": "2020-04-20T15:05:41.035105Z"
    }
   },
   "outputs": [],
   "source": [
    "states.plot()"
   ]
  },
  {
   "cell_type": "code",
   "execution_count": null,
   "metadata": {
    "ExecuteTime": {
     "end_time": "2020-04-20T15:06:01.153794Z",
     "start_time": "2020-04-20T15:06:00.587231Z"
    }
   },
   "outputs": [],
   "source": [
    "states.plot(subplots=True);"
   ]
  },
  {
   "cell_type": "code",
   "execution_count": null,
   "metadata": {
    "ExecuteTime": {
     "end_time": "2020-04-20T15:06:12.522095Z",
     "start_time": "2020-04-20T15:06:12.336593Z"
    }
   },
   "outputs": [],
   "source": [
    "states['population'].plot(kind='bar')"
   ]
  },
  {
   "cell_type": "code",
   "execution_count": null,
   "metadata": {
    "ExecuteTime": {
     "end_time": "2020-04-20T15:06:24.398355Z",
     "start_time": "2020-04-20T15:06:24.114115Z"
    }
   },
   "outputs": [],
   "source": [
    "states.plot(kind='scatter', x='population', y='area')"
   ]
  },
  {
   "cell_type": "code",
   "execution_count": null,
   "metadata": {
    "ExecuteTime": {
     "end_time": "2020-04-20T15:06:34.539949Z",
     "start_time": "2020-04-20T15:06:34.276654Z"
    }
   },
   "outputs": [],
   "source": [
    "states.plot(kind='box')"
   ]
  },
  {
   "cell_type": "markdown",
   "metadata": {
    "ExecuteTime": {
     "end_time": "2020-04-14T16:06:31.699850Z",
     "start_time": "2020-04-14T16:06:31.693866Z"
    }
   },
   "source": [
    "<div class=\"alert alert-success\">\n",
    "    <b>EXERCISE</b>: select the area and the population column of those states where the density is larger than 0.1\n",
    "</div>"
   ]
  },
  {
   "cell_type": "code",
   "execution_count": null,
   "metadata": {},
   "outputs": [],
   "source": []
  },
  {
   "cell_type": "markdown",
   "metadata": {
    "ExecuteTime": {
     "end_time": "2020-04-14T16:06:31.699850Z",
     "start_time": "2020-04-14T16:06:31.693866Z"
    }
   },
   "source": [
    "<div class=\"alert alert-success\">\n",
    "    <b>EXERCISE</b>: add a column 'density_ratio' with the ratio of the density to the mean density\n",
    "</div>"
   ]
  },
  {
   "cell_type": "code",
   "execution_count": null,
   "metadata": {},
   "outputs": [],
   "source": []
  },
  {
   "cell_type": "markdown",
   "metadata": {},
   "source": [
    "## Data import/export"
   ]
  },
  {
   "cell_type": "markdown",
   "metadata": {},
   "source": [
    "A wide range of input/output formats are natively supported by pandas:\n",
    "\n",
    "* CSV, text\n",
    "* SQL database\n",
    "* Excel\n",
    "* HDF5\n",
    "* json\n",
    "* html\n",
    "* pickle\n",
    "* ..."
   ]
  },
  {
   "cell_type": "markdown",
   "metadata": {},
   "source": [
    "## Other features\n",
    "\n",
    "* Working with missing data (`.dropna()`, `pd.isnull()`)\n",
    "* Merging and joining (`concat`, `join`)\n",
    "* Grouping: `groupby` functionality\n",
    "* Reshaping (`stack`, `pivot`)\n",
    "* Time series manipulation (resampling, timezones, ..)\n",
    "* Easy plotting"
   ]
  },
  {
   "cell_type": "code",
   "execution_count": null,
   "metadata": {},
   "outputs": [],
   "source": []
  }
 ],
 "metadata": {
  "kernelspec": {
   "display_name": "Python 3",
   "language": "python",
   "name": "python3"
  },
  "language_info": {
   "codemirror_mode": {
    "name": "ipython",
    "version": 3
   },
   "file_extension": ".py",
   "mimetype": "text/x-python",
   "name": "python",
   "nbconvert_exporter": "python",
   "pygments_lexer": "ipython3",
   "version": "3.7.4"
  },
  "toc": {
   "base_numbering": 1,
   "nav_menu": {},
   "number_sections": true,
   "sideBar": true,
   "skip_h1_title": false,
   "title_cell": "Table of Contents",
   "title_sidebar": "Contents",
   "toc_cell": false,
   "toc_position": {},
   "toc_section_display": true,
   "toc_window_display": true
  }
 },
 "nbformat": 4,
 "nbformat_minor": 2
}
