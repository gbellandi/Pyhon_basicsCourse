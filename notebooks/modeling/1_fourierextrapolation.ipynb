{
 "cells": [
  {
   "cell_type": "code",
   "execution_count": null,
   "metadata": {
    "ExecuteTime": {
     "end_time": "2020-04-20T08:49:59.341375Z",
     "start_time": "2020-04-20T08:49:55.198154Z"
    }
   },
   "outputs": [],
   "source": [
    "import pandas as pd\n",
    "import numpy as np\n",
    "import matplotlib.pyplot as plt\n",
    "from sklearn.preprocessing import StandardScaler\n",
    "import itertools\n",
    "from sklearn.metrics import mean_squared_error\n",
    "import statsmodels.api as sm # statiscs module for time serie s analysis\n",
    "\n",
    "from datetime import datetime, timedelta\n",
    "import time\n",
    "import matplotlib.dates as mdates\n",
    "\n",
    "# plotting modules\n",
    "import seaborn as sns\n",
    "import os\n",
    "from IPython.display import Image\n",
    "\n",
    "%matplotlib inline"
   ]
  },
  {
   "cell_type": "markdown",
   "metadata": {},
   "source": [
    "# Data loading"
   ]
  },
  {
   "cell_type": "markdown",
   "metadata": {},
   "source": [
    "<div class=\"alert alert-success\">\n",
    "    <b>EXERCISE</b>: read in the data/FlowData.csv in an appropriate form (check the file format)\n",
    "</div>"
   ]
  },
  {
   "cell_type": "code",
   "execution_count": null,
   "metadata": {
    "ExecuteTime": {
     "end_time": "2020-04-20T09:04:28.793313Z",
     "start_time": "2020-04-20T09:04:28.616625Z"
    }
   },
   "outputs": [],
   "source": []
  },
  {
   "cell_type": "markdown",
   "metadata": {},
   "source": [
    "<div class=\"alert alert-success\">\n",
    "    <b>EXERCISE</b>: make the index a datetime index\n",
    "</div>"
   ]
  },
  {
   "cell_type": "code",
   "execution_count": null,
   "metadata": {},
   "outputs": [],
   "source": []
  },
  {
   "cell_type": "markdown",
   "metadata": {},
   "source": [
    "<div class=\"alert alert-success\">\n",
    "    <b>EXERCISE</b>: isolate the L06_347 station and plot it for the month of Feb 212\n",
    "</div>"
   ]
  },
  {
   "cell_type": "code",
   "execution_count": null,
   "metadata": {
    "ExecuteTime": {
     "end_time": "2020-04-20T09:23:04.564032Z",
     "start_time": "2020-04-20T09:23:04.561041Z"
    }
   },
   "outputs": [],
   "source": [
    "# tip df['2012...']"
   ]
  },
  {
   "cell_type": "markdown",
   "metadata": {},
   "source": [
    "# Forecast fft"
   ]
  },
  {
   "cell_type": "markdown",
   "metadata": {},
   "source": [
    "adjusted from https://gist.github.com/tartakynov/83f3cd8f44208a1856ce"
   ]
  },
  {
   "cell_type": "code",
   "execution_count": null,
   "metadata": {
    "ExecuteTime": {
     "end_time": "2020-04-20T09:41:36.416145Z",
     "start_time": "2020-04-20T09:41:36.405174Z"
    }
   },
   "outputs": [],
   "source": [
    "import pylab as pl\n",
    "from numpy import fft\n",
    "    \n",
    "def fourierExtrapolation(x, n_predict):\n",
    "    n = x.size\n",
    "    n_harm = 1000                     # number of harmonics in model\n",
    "    t = np.arange(0, n)\n",
    "    p = np.polyfit(t, x, 1)         # find linear trend in x\n",
    "    x_notrend = x - p[0] * t        # detrended x\n",
    "    x_freqdom = fft.fft(x_notrend)  # detrended x in frequency domain\n",
    "    f = fft.fftfreq(n)              # frequencies\n",
    "    indexes = list(range(n))\n",
    "    # sort indexes by frequency, lower -> higher\n",
    "    indexes.sort(key = lambda i: np.absolute(f[i]))\n",
    " \n",
    "    t = np.arange(0, n + n_predict)\n",
    "    restored_sig = np.zeros(t.size)\n",
    "    for i in indexes[:1 + n_harm * 2]:\n",
    "        ampli = np.absolute(x_freqdom[i]) / n   # amplitude\n",
    "        phase = np.angle(x_freqdom[i])          # phase\n",
    "        restored_sig += ampli * np.cos(2 * np.pi * f[i] * t + phase)\n",
    "    return( restored_sig + p[0] * t)\n",
    "    \n",
    "def main(x, n_predict):\n",
    "    ''' n_predict = number of data points to predict (int)'''\n",
    "    extrapolation = fourierExtrapolation(x, n_predict)\n",
    "    pl.plot(np.arange(0, x.size), x, 'b', label = 'x', linewidth = 3)\n",
    "    pl.plot(np.arange(0, extrapolation.size), extrapolation, 'r', label = 'extrapolation')\n",
    "    pl.legend()\n",
    "    pl.show()\n",
    "    return(extrapolation)\n",
    "    \n",
    "#     return(extrapolation)"
   ]
  },
  {
   "cell_type": "markdown",
   "metadata": {},
   "source": [
    "<div class=\"alert alert-success\">\n",
    "    <b>EXERCISE</b>: look for correlations with other variables using a scatterplot.\n",
    "    \n",
    "    tip: you might want to use from pandas.plotting import scatter_matrix\n",
    "</div>"
   ]
  },
  {
   "cell_type": "code",
   "execution_count": null,
   "metadata": {
    "ExecuteTime": {
     "end_time": "2020-04-20T09:23:54.010640Z",
     "start_time": "2020-04-20T09:23:52.178361Z"
    }
   },
   "outputs": [],
   "source": [
    "plt.scatter(df.resample('H').mean(), df.resample('H').mean(), sub)"
   ]
  },
  {
   "cell_type": "code",
   "execution_count": null,
   "metadata": {
    "ExecuteTime": {
     "end_time": "2020-04-20T09:36:34.094941Z",
     "start_time": "2020-04-20T09:35:41.506698Z"
    }
   },
   "outputs": [],
   "source": [
    "scatter_matrix(df);"
   ]
  },
  {
   "cell_type": "code",
   "execution_count": null,
   "metadata": {
    "ExecuteTime": {
     "end_time": "2020-04-20T09:10:45.402113Z",
     "start_time": "2020-04-20T09:10:45.140814Z"
    }
   },
   "outputs": [],
   "source": [
    "df['2013']['L06_347'].resample('H').mean().plot(marker='.')\n",
    "sum(df['2013']['L06_347'].resample('H').mean(), df['2013']['L06_347'].resample('H').mean()).plot(marker='.', secondary_y=True)\n",
    "# .plot(marker='.', secondary_y=True)"
   ]
  },
  {
   "cell_type": "code",
   "execution_count": null,
   "metadata": {},
   "outputs": [],
   "source": []
  },
  {
   "cell_type": "code",
   "execution_count": null,
   "metadata": {
    "ExecuteTime": {
     "end_time": "2020-04-20T09:14:15.967107Z",
     "start_time": "2020-04-20T09:14:15.851281Z"
    },
    "scrolled": true
   },
   "outputs": [],
   "source": [
    "extap = main(df['2013']['L06_347'].resample('H').mean(), n_predict=20)"
   ]
  },
  {
   "cell_type": "markdown",
   "metadata": {},
   "source": [
    "<div class=\"alert alert-success\">\n",
    "    <b>EXERCISE</b>: modify the **main** function so that the number of harmonics is an input variable\n",
    "</div>"
   ]
  },
  {
   "cell_type": "code",
   "execution_count": null,
   "metadata": {
    "ExecuteTime": {
     "end_time": "2020-04-20T09:41:13.397081Z",
     "start_time": "2020-04-20T09:41:13.238697Z"
    },
    "scrolled": true
   },
   "outputs": [],
   "source": [
    "main(df['2012-02']['L06_347'], n_predict=1000, n_harm=10)"
   ]
  },
  {
   "cell_type": "code",
   "execution_count": null,
   "metadata": {},
   "outputs": [],
   "source": []
  }
 ],
 "metadata": {
  "anaconda-cloud": {},
  "kernelspec": {
   "display_name": "Python 3",
   "language": "python",
   "name": "python3"
  },
  "language_info": {
   "codemirror_mode": {
    "name": "ipython",
    "version": 3
   },
   "file_extension": ".py",
   "mimetype": "text/x-python",
   "name": "python",
   "nbconvert_exporter": "python",
   "pygments_lexer": "ipython3",
   "version": "3.7.4"
  },
  "toc": {
   "base_numbering": 1,
   "nav_menu": {
    "height": "13px",
    "width": "251px"
   },
   "number_sections": true,
   "sideBar": true,
   "skip_h1_title": false,
   "title_cell": "Table of Contents",
   "title_sidebar": "Contents",
   "toc_cell": false,
   "toc_position": {
    "height": "777.667px",
    "left": "0px",
    "right": "1495.53px",
    "top": "132.667px",
    "width": "211.938px"
   },
   "toc_section_display": "block",
   "toc_window_display": true
  }
 },
 "nbformat": 4,
 "nbformat_minor": 1
}
