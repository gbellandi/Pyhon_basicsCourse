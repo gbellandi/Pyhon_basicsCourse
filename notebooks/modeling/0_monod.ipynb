{
 "cells": [
  {
   "cell_type": "code",
   "execution_count": null,
   "metadata": {
    "ExecuteTime": {
     "end_time": "2020-04-30T06:32:10.679011Z",
     "start_time": "2020-04-30T06:32:09.958700Z"
    }
   },
   "outputs": [],
   "source": [
    "import numpy as np\n",
    "from scipy import integrate\n",
    "from matplotlib.pylab import *\n",
    "import pandas as pd\n",
    "# from sklearn import preprocessing"
   ]
  },
  {
   "cell_type": "markdown",
   "metadata": {},
   "source": [
    "source https://learnche.org/3E4/Assignment_6_-_2010_-_Solutions"
   ]
  },
  {
   "cell_type": "markdown",
   "metadata": {},
   "source": [
    "# Model definition"
   ]
  },
  {
   "cell_type": "code",
   "execution_count": null,
   "metadata": {
    "ExecuteTime": {
     "end_time": "2020-04-30T06:32:10.726300Z",
     "start_time": "2020-04-30T06:32:10.715332Z"
    }
   },
   "outputs": [],
   "source": [
    "def dy_dt(t, y):\n",
    "    \"\"\" \n",
    "    y1 = dN/dt\n",
    "    y2 = dB/dt\n",
    "    \n",
    "    INPUTS:    \n",
    "        t: time \n",
    "        y: the time varying concentrations: N and B\n",
    "    \"\"\"\n",
    "    \n",
    "    V = 1600.0   # m^3    \n",
    "    \n",
    "    mu_max = 5.0 # 1/day\n",
    "    K = 20.0     #g/m^3\n",
    "    Y_B = 0.8    # effiency\n",
    "    F = 5000.0   # m^3/day\n",
    "    F = 5000 + 900*sin(2*np.pi/24*t -np.pi/5) # m^3/day\n",
    "    \n",
    "    N_in = 150.\n",
    "#     # Change these time values, depending on the question\n",
    "#     if t >= 75 and t <= 85:\n",
    "#         N_in = 150.0\n",
    "#     else:\n",
    "#         N_in = 100.0 # g/m^3\n",
    "            \n",
    "    N = y[0]\n",
    "    B = y[1]\n",
    "    y = np.zeros((2,1))\n",
    "    y[0] = F/V*(N_in - N) - (1/Y_B)*(mu_max*N/(K+N)) * B\n",
    "    y[1] = -B*F/V + (mu_max*N/(K+N)) * B \n",
    "    return(y)"
   ]
  },
  {
   "cell_type": "code",
   "execution_count": null,
   "metadata": {
    "ExecuteTime": {
     "end_time": "2020-04-30T06:32:11.521186Z",
     "start_time": "2020-04-30T06:32:11.517197Z"
    }
   },
   "outputs": [],
   "source": [
    "Y_B = 0.5"
   ]
  },
  {
   "cell_type": "code",
   "execution_count": null,
   "metadata": {
    "ExecuteTime": {
     "end_time": "2020-04-30T06:32:11.843210Z",
     "start_time": "2020-04-30T06:32:11.690399Z"
    }
   },
   "outputs": [],
   "source": [
    "r = integrate.ode(dy_dt).set_integrator('vode', method='bdf')\n",
    "\n",
    "# Part 2: steady-state\n",
    "ICs = [33.33333333333,  53.3333333333]\n",
    "t_0 = 0.0\n",
    "r.set_initial_value(ICs, t_0)\n",
    "t_final = 20\n",
    "dt = 0.1\n",
    "\n",
    "# Create vectors to store the solutions \n",
    "n_steps = np.floor((t_final - t_0)/dt) + 1\n",
    "time = np.zeros(int(n_steps))\n",
    "N = np.zeros(int(n_steps))\n",
    "B = np.zeros(int(n_steps))\n",
    "N[0], B[0] = ICs\n",
    "k = 1\n",
    "\n",
    "while r.successful() and r.t < t_final:\n",
    "    r.integrate(r.t + dt)\n",
    "    time[k] = r.t\n",
    "\n",
    "    N[k] = r.y[0]\n",
    "    B[k] = r.y[1]\n",
    "    k += 1\n",
    "\n",
    "# Clear figure window from previous simulation\n",
    "clf()\n",
    "plot(time, N, 'r', label='Nutrient level')\n",
    "plot(time, B, 'k', label='Biomass level')\n",
    "# legend(loc='best')\n",
    "grid('on')"
   ]
  },
  {
   "cell_type": "markdown",
   "metadata": {
    "ExecuteTime": {
     "end_time": "2020-04-22T07:35:21.343037Z",
     "start_time": "2020-04-22T07:35:21.337091Z"
    }
   },
   "source": [
    "<div class=\"alert alert-success\">\n",
    "    <b>EXERCISE</b>: how can I run the model with different values of Y_B? Make Y_B modifiable\n",
    "</div>"
   ]
  },
  {
   "cell_type": "code",
   "execution_count": null,
   "metadata": {},
   "outputs": [],
   "source": []
  },
  {
   "cell_type": "markdown",
   "metadata": {
    "ExecuteTime": {
     "end_time": "2020-04-22T07:53:09.174428Z",
     "start_time": "2020-04-22T07:53:09.171439Z"
    }
   },
   "source": [
    "# Model calibration"
   ]
  },
  {
   "cell_type": "code",
   "execution_count": null,
   "metadata": {
    "ExecuteTime": {
     "end_time": "2020-04-22T10:43:31.848457Z",
     "start_time": "2020-04-22T10:43:31.845466Z"
    }
   },
   "outputs": [],
   "source": [
    "# let's give Y_B different values\n",
    "parset = [0.2, 0.25, 0.8, 0.9, 0.3]"
   ]
  },
  {
   "cell_type": "code",
   "execution_count": null,
   "metadata": {
    "ExecuteTime": {
     "end_time": "2020-04-22T10:43:35.031131Z",
     "start_time": "2020-04-22T10:43:35.017168Z"
    }
   },
   "outputs": [],
   "source": [
    "def biomodel():\n",
    "    \n",
    "    r = integrate.ode(dy_dt).set_integrator('vode', method='bdf')\n",
    "\n",
    "    # Part 2: steady-state\n",
    "    ICs = [33.33333333333,  53.3333333333]\n",
    "    t_0 = 0.0\n",
    "    r.set_initial_value(ICs, t_0)\n",
    "    t_final = 20\n",
    "    dt = 0.1\n",
    "\n",
    "\n",
    "    # Create vectors to store the solutions \n",
    "    n_steps = np.floor((t_final - t_0)/dt) + 1\n",
    "    time = np.zeros(int(n_steps))\n",
    "    N = np.zeros(int(n_steps))\n",
    "    B = np.zeros(int(n_steps))\n",
    "    N[0], B[0] = ICs\n",
    "    k = 1\n",
    "\n",
    "    while r.successful() and r.t < t_final:\n",
    "        r.integrate(r.t + dt)\n",
    "        time[k] = r.t\n",
    "\n",
    "        N[k] = r.y[0]\n",
    "        B[k] = r.y[1]\n",
    "        k += 1\n",
    "\n",
    "    # Clear figure window from previous simulation\n",
    "#     clf()\n",
    "    plot(time, N, 'r', label='Nutrient level')\n",
    "    plot(time, B, 'k', label='Biomass level')\n",
    "    legend(loc='best')\n",
    "    grid('on')\n",
    "    \n",
    "    return(N)"
   ]
  },
  {
   "cell_type": "code",
   "execution_count": null,
   "metadata": {
    "ExecuteTime": {
     "end_time": "2020-04-22T10:43:36.499008Z",
     "start_time": "2020-04-22T10:43:36.494023Z"
    }
   },
   "outputs": [],
   "source": [
    "for i in parset:\n",
    "    print(i)"
   ]
  },
  {
   "cell_type": "code",
   "execution_count": null,
   "metadata": {
    "ExecuteTime": {
     "end_time": "2020-04-22T10:43:53.552480Z",
     "start_time": "2020-04-22T10:43:53.311048Z"
    }
   },
   "outputs": [],
   "source": [
    "pos = 1\n",
    "N_mod = pd.DataFrame()\n",
    "\n",
    "for i in parset:\n",
    "    Y_B = i\n",
    "    N_mod[pos] = biomodel()\n",
    "    pos = pos+1"
   ]
  },
  {
   "cell_type": "code",
   "execution_count": null,
   "metadata": {
    "ExecuteTime": {
     "end_time": "2020-04-22T10:37:58.153881Z",
     "start_time": "2020-04-22T10:37:58.139918Z"
    },
    "scrolled": false
   },
   "outputs": [],
   "source": [
    "N_mod"
   ]
  },
  {
   "cell_type": "markdown",
   "metadata": {
    "ExecuteTime": {
     "end_time": "2020-04-22T07:35:21.343037Z",
     "start_time": "2020-04-22T07:35:21.337091Z"
    }
   },
   "source": [
    "<div class=\"alert alert-success\">\n",
    "    <b>EXERCISE</b>: randomly sample Y_B\n",
    "</div>"
   ]
  },
  {
   "cell_type": "code",
   "execution_count": null,
   "metadata": {
    "ExecuteTime": {
     "end_time": "2020-04-22T10:42:57.311772Z",
     "start_time": "2020-04-22T10:42:57.306787Z"
    }
   },
   "outputs": [],
   "source": [
    "np.random.rand(5)"
   ]
  },
  {
   "cell_type": "markdown",
   "metadata": {},
   "source": [
    "## measured values"
   ]
  },
  {
   "cell_type": "code",
   "execution_count": null,
   "metadata": {
    "ExecuteTime": {
     "end_time": "2020-04-22T10:45:00.148058Z",
     "start_time": "2020-04-22T10:45:00.143071Z"
    }
   },
   "outputs": [],
   "source": [
    "N_meas = 30 + 10*sin(2*np.pi/24*np.arange(0, t_final+dt, dt) -np.pi/5)"
   ]
  },
  {
   "cell_type": "code",
   "execution_count": null,
   "metadata": {
    "ExecuteTime": {
     "end_time": "2020-04-22T10:45:00.469670Z",
     "start_time": "2020-04-22T10:45:00.326993Z"
    }
   },
   "outputs": [],
   "source": [
    "plt.plot(N_meas);"
   ]
  },
  {
   "cell_type": "markdown",
   "metadata": {},
   "source": [
    "## compare measured and modeled values "
   ]
  },
  {
   "cell_type": "code",
   "execution_count": null,
   "metadata": {
    "ExecuteTime": {
     "end_time": "2020-04-22T10:46:11.336180Z",
     "start_time": "2020-04-22T10:46:11.187499Z"
    }
   },
   "outputs": [],
   "source": [
    "fig, ax = plt.subplots()\n",
    "ax.plot(N_meas, 'rx')\n",
    "ax.plot(N_mod);"
   ]
  },
  {
   "cell_type": "code",
   "execution_count": null,
   "metadata": {
    "ExecuteTime": {
     "end_time": "2020-04-22T10:47:09.830209Z",
     "start_time": "2020-04-22T10:47:09.824194Z"
    }
   },
   "outputs": [],
   "source": [
    "N_mod[1]"
   ]
  },
  {
   "cell_type": "code",
   "execution_count": null,
   "metadata": {
    "ExecuteTime": {
     "end_time": "2020-04-22T10:47:28.856422Z",
     "start_time": "2020-04-22T10:47:28.853427Z"
    }
   },
   "outputs": [],
   "source": [
    "N_mod.shape"
   ]
  },
  {
   "cell_type": "code",
   "execution_count": null,
   "metadata": {
    "ExecuteTime": {
     "end_time": "2020-04-22T10:47:14.325119Z",
     "start_time": "2020-04-22T10:47:14.320132Z"
    }
   },
   "outputs": [],
   "source": [
    "N_meas.shape"
   ]
  },
  {
   "cell_type": "code",
   "execution_count": null,
   "metadata": {
    "ExecuteTime": {
     "end_time": "2020-04-22T10:47:50.551397Z",
     "start_time": "2020-04-22T10:47:50.535427Z"
    }
   },
   "outputs": [],
   "source": [
    "residuals = N_mod[1] - N_meas"
   ]
  },
  {
   "cell_type": "code",
   "execution_count": null,
   "metadata": {
    "ExecuteTime": {
     "end_time": "2020-04-22T10:48:03.056100Z",
     "start_time": "2020-04-22T10:48:02.890995Z"
    }
   },
   "outputs": [],
   "source": [
    "residuals.plot()"
   ]
  },
  {
   "cell_type": "code",
   "execution_count": null,
   "metadata": {
    "ExecuteTime": {
     "end_time": "2020-04-22T10:48:56.368346Z",
     "start_time": "2020-04-22T10:48:56.360368Z"
    }
   },
   "outputs": [],
   "source": [
    "np.mean([np.abs(residuals)]) # MAE mean absolute error"
   ]
  },
  {
   "cell_type": "code",
   "execution_count": null,
   "metadata": {
    "ExecuteTime": {
     "end_time": "2020-04-22T10:49:29.552395Z",
     "start_time": "2020-04-22T10:49:29.547409Z"
    }
   },
   "outputs": [],
   "source": [
    "np.mean([np.sqrt(residuals**2)]) ### RMSE (root mean sq error)"
   ]
  },
  {
   "cell_type": "code",
   "execution_count": null,
   "metadata": {
    "ExecuteTime": {
     "end_time": "2020-04-22T10:49:33.899663Z",
     "start_time": "2020-04-22T10:49:33.893694Z"
    }
   },
   "outputs": [],
   "source": [
    "np.mean([(residuals**2)]) # MSE (mean sq error) range: [0, inf] optimum: 0"
   ]
  },
  {
   "cell_type": "markdown",
   "metadata": {},
   "source": [
    "## multi-parameter estimation"
   ]
  },
  {
   "cell_type": "markdown",
   "metadata": {},
   "source": [
    "### define parameter space and values"
   ]
  },
  {
   "cell_type": "code",
   "execution_count": null,
   "metadata": {
    "ExecuteTime": {
     "end_time": "2020-04-22T10:53:13.140305Z",
     "start_time": "2020-04-22T10:53:12.549878Z"
    }
   },
   "outputs": [],
   "source": [
    "from SALib.sample import saltelli, latin\n",
    "import seaborn as sns"
   ]
  },
  {
   "cell_type": "code",
   "execution_count": null,
   "metadata": {
    "ExecuteTime": {
     "end_time": "2020-04-22T11:02:59.416328Z",
     "start_time": "2020-04-22T11:02:59.406360Z"
    }
   },
   "outputs": [],
   "source": [
    "## here we define the domain of each parameter we want to vary\n",
    "problem = {\n",
    "  'num_vars': 3,\n",
    "  'names': ['Y_B', 'K', 'mu_max'],\n",
    "  'bounds': [[0.1, 0.99], [10, 30], [1, 7]]}\n",
    "\n",
    "# Generate samples\n",
    "param_values = latin.sample(problem, 100) #calc_second_order=False)\n",
    "param_values = pd.DataFrame(param_values, columns=problem['names']) "
   ]
  },
  {
   "cell_type": "code",
   "execution_count": null,
   "metadata": {
    "ExecuteTime": {
     "end_time": "2020-04-22T11:03:00.039651Z",
     "start_time": "2020-04-22T11:03:00.028636Z"
    }
   },
   "outputs": [],
   "source": [
    "param_values.head()"
   ]
  },
  {
   "cell_type": "code",
   "execution_count": null,
   "metadata": {
    "ExecuteTime": {
     "end_time": "2020-04-22T10:55:14.953265Z",
     "start_time": "2020-04-22T10:55:13.406744Z"
    }
   },
   "outputs": [],
   "source": [
    "sns.pairplot(param_values[problem['names']], height=1); # plotting only the sampled ones"
   ]
  },
  {
   "cell_type": "code",
   "execution_count": null,
   "metadata": {},
   "outputs": [],
   "source": []
  },
  {
   "cell_type": "markdown",
   "metadata": {},
   "source": [
    "### re-define model undefining the target parameters"
   ]
  },
  {
   "cell_type": "code",
   "execution_count": null,
   "metadata": {
    "ExecuteTime": {
     "end_time": "2020-04-22T11:03:01.414122Z",
     "start_time": "2020-04-22T11:03:01.406141Z"
    }
   },
   "outputs": [],
   "source": [
    "def dy_dt(t, y):\n",
    "    \"\"\" \n",
    "    y1 = dN/dt\n",
    "    y2 = dB/dt\n",
    "    \n",
    "    INPUTS:    \n",
    "        t: time \n",
    "        y: the time varying concentrations: N and B\n",
    "    \"\"\"\n",
    "    \n",
    "    V = 1600.0   # m^3    \n",
    "    \n",
    "    F = 5000 + 900*sin(2*np.pi/24*t -np.pi/5) # m^3/day\n",
    "    \n",
    "    # Change these time values, depending on the question\n",
    "    if t >= 75 and t <= 85:\n",
    "        N_in = 150.0\n",
    "    else:\n",
    "        N_in = 100.0 # g/m^3\n",
    "            \n",
    "    N = y[0]\n",
    "    B = y[1]\n",
    "    y = np.zeros((2,1))\n",
    "    y[0] = F/V*(N_in - N) - (1/Y_B)*(mu_max*N/(K+N)) * B\n",
    "    y[1] = -B*F/V + (mu_max*N/(K+N)) * B \n",
    "    return(y)"
   ]
  },
  {
   "cell_type": "code",
   "execution_count": null,
   "metadata": {
    "ExecuteTime": {
     "end_time": "2020-04-22T11:04:18.871950Z",
     "start_time": "2020-04-22T11:04:05.312781Z"
    }
   },
   "outputs": [],
   "source": [
    "N_mod = pd.DataFrame()\n",
    "\n",
    "for row in param_values.index:\n",
    "    Y_B = param_values['Y_B'][row]\n",
    "    K = param_values['K'][row]\n",
    "    mu_max = param_values['mu_max'][row]\n",
    "    \n",
    "    N_mod[row] = biomodel()"
   ]
  },
  {
   "cell_type": "code",
   "execution_count": null,
   "metadata": {
    "ExecuteTime": {
     "end_time": "2020-04-22T11:05:06.461370Z",
     "start_time": "2020-04-22T11:05:06.419484Z"
    }
   },
   "outputs": [],
   "source": [
    "N_mod"
   ]
  },
  {
   "cell_type": "markdown",
   "metadata": {},
   "source": [
    "### multi-parametric and multi-metric model evaluation"
   ]
  },
  {
   "cell_type": "code",
   "execution_count": null,
   "metadata": {
    "ExecuteTime": {
     "end_time": "2020-04-22T11:05:49.982675Z",
     "start_time": "2020-04-22T11:05:49.977680Z"
    }
   },
   "outputs": [],
   "source": [
    "def calc_metrics3(modelled, observed):\n",
    "    \"\"\"\n",
    "    Calucates metrics of comparison between modelled and observed variables\n",
    "    \n",
    "    -------\n",
    "    Prameters\n",
    "    \n",
    "    modelled: array of floats or time serie\n",
    "    observed: array of floats or time serie\n",
    "    \"\"\"\n",
    "    \n",
    "    residuals = np.abs(modelled - observed)\n",
    "    df = pd.DataFrame({'MAE': np.mean([np.abs(residuals)]), ### MAE (mean absolute error) range: [0, inf] optimum: 0\n",
    "                      'RMSE': np.mean([np.sqrt(residuals**2)]), ### RMSE (root mean sq error)\n",
    "                      'MSE': np.mean([(residuals**2)]), ### MSE (mean sq error) range: [0, inf] optimum: 0\n",
    "#                       'RRMSE': np.mean([np.sqrt((residuals**2))])/np.mean(observed), ### RRMSE (relative root mean sq error)\n",
    "#                       'SSE': np.sum(residuals**2), ### SSE (sum of sq errors) range: [0, inf] optimum: 0\n",
    "#                       'AMRE': np.mean([np.abs(residuals/observed)]), ### AMRE (abs mean relative error [from MREin pystran]) range: [-inf, inf] optimum: 0\n",
    "#                       'MARE': np.mean([(np.abs(residuals)/observed)]), ### MARE (mean abs relative error) range: [0, inf] optimum: 0\n",
    "#                       'SARE': (np.abs(residuals)/observed).sum(axis=0), ### SARE (sum of abs relative error) range: [0, inf] optimum: 0\n",
    "#                       'MeAPE': np.median([(np.abs(residuals)*100./observed)]), ### MeAPE (median of absolute prediction error) range: [0, inf] optimum: 0\n",
    "#                       'MSRE': np.mean([((residuals/observed)**2)]), ### MSRE (mean sq relative error) range: [0, inf] optimum: 0\n",
    "                      'RVE': np.sum([residuals])/np.sum([observed])}, ### RVE (relative vol error) range: [-inf, inf] optimum: 0\n",
    "                      index=[0])\n",
    "    return df"
   ]
  },
  {
   "cell_type": "code",
   "execution_count": null,
   "metadata": {
    "ExecuteTime": {
     "end_time": "2020-04-22T11:06:06.675623Z",
     "start_time": "2020-04-22T11:06:06.664653Z"
    }
   },
   "outputs": [],
   "source": [
    "calc_metrics3(N_mod[0], N_meas)"
   ]
  },
  {
   "cell_type": "markdown",
   "metadata": {},
   "source": [
    "<div class=\"alert alert-success\">\n",
    "    <b>EXERCISE</b>: run the cell below, why doesn't work?! fix it\n",
    "</div>"
   ]
  },
  {
   "cell_type": "code",
   "execution_count": null,
   "metadata": {
    "ExecuteTime": {
     "end_time": "2020-04-22T11:06:51.151499Z",
     "start_time": "2020-04-22T11:06:50.929930Z"
    }
   },
   "outputs": [],
   "source": [
    "# scores_martix = pd.DataFrame()\n",
    "\n",
    "for scenario in N_mod:\n",
    "    a = calc_metrics3(N_mod[scenario], N_meas)\n",
    "    a.index = [scenario]\n",
    "    scores_martix = pd.concat([scores_martix, a], axis=0, ignore_index=False)"
   ]
  },
  {
   "cell_type": "code",
   "execution_count": null,
   "metadata": {
    "ExecuteTime": {
     "end_time": "2020-04-22T11:06:52.111673Z",
     "start_time": "2020-04-22T11:06:52.097754Z"
    }
   },
   "outputs": [],
   "source": [
    "scores_martix"
   ]
  },
  {
   "cell_type": "markdown",
   "metadata": {},
   "source": [
    "## put order into all these metrics' numbers"
   ]
  },
  {
   "cell_type": "code",
   "execution_count": null,
   "metadata": {
    "ExecuteTime": {
     "end_time": "2020-04-22T11:09:14.626790Z",
     "start_time": "2020-04-22T11:09:14.413747Z"
    }
   },
   "outputs": [],
   "source": [
    "from sklearn import preprocessing"
   ]
  },
  {
   "cell_type": "code",
   "execution_count": null,
   "metadata": {
    "ExecuteTime": {
     "end_time": "2020-04-22T11:09:31.610640Z",
     "start_time": "2020-04-22T11:09:31.595685Z"
    }
   },
   "outputs": [],
   "source": [
    "min_max_scaler = preprocessing.MinMaxScaler()\n",
    "x_scaled = pd.DataFrame(min_max_scaler.fit_transform(scores_martix), columns=scores_martix.columns)\n",
    "x_scaled['sum'] = x_scaled.sum(axis=1)\n",
    "x_scaled['scenario'] = scores_martix.index\n",
    "x_scaled = x_scaled.set_index(x_scaled['sum'], drop=False).sort_index()"
   ]
  },
  {
   "cell_type": "code",
   "execution_count": null,
   "metadata": {
    "ExecuteTime": {
     "end_time": "2020-04-22T11:09:33.060695Z",
     "start_time": "2020-04-22T11:09:33.042743Z"
    }
   },
   "outputs": [],
   "source": [
    "x_scaled"
   ]
  },
  {
   "cell_type": "markdown",
   "metadata": {},
   "source": [
    "### visualization!"
   ]
  },
  {
   "cell_type": "code",
   "execution_count": null,
   "metadata": {
    "ExecuteTime": {
     "end_time": "2020-04-22T11:10:08.185678Z",
     "start_time": "2020-04-22T11:10:07.585111Z"
    }
   },
   "outputs": [],
   "source": [
    "fig, ax1 = plt.subplots(figsize=(20, 10))\n",
    "sns.heatmap(x_scaled.drop(['scenario', 'sum'], axis=1)[:100], # plotting only the 12 metrics and the best 50 scenarios\n",
    "            ax=ax1, annot=False, cmap=\"YlGnBu\");"
   ]
  },
  {
   "cell_type": "markdown",
   "metadata": {},
   "source": [
    "### the top 10 scenarios"
   ]
  },
  {
   "cell_type": "code",
   "execution_count": null,
   "metadata": {
    "ExecuteTime": {
     "end_time": "2020-04-22T11:10:26.462154Z",
     "start_time": "2020-04-22T11:10:26.458161Z"
    }
   },
   "outputs": [],
   "source": [
    "x_scaled['scenario'].head(10)"
   ]
  },
  {
   "cell_type": "code",
   "execution_count": null,
   "metadata": {
    "ExecuteTime": {
     "end_time": "2020-04-22T11:10:27.119061Z",
     "start_time": "2020-04-22T11:10:27.108123Z"
    }
   },
   "outputs": [],
   "source": [
    "param_values.iloc[x_scaled['scenario'].head(10)]"
   ]
  },
  {
   "cell_type": "markdown",
   "metadata": {},
   "source": [
    "<div class=\"alert alert-success\">\n",
    "    <b>EXERCISE</b>: Plot the best modeled results with the measured data\n",
    "</div>"
   ]
  },
  {
   "cell_type": "code",
   "execution_count": null,
   "metadata": {},
   "outputs": [],
   "source": []
  },
  {
   "cell_type": "code",
   "execution_count": null,
   "metadata": {
    "ExecuteTime": {
     "end_time": "2020-04-22T11:12:02.334003Z",
     "start_time": "2020-04-22T11:12:02.176455Z"
    }
   },
   "outputs": [],
   "source": [
    "fig, ax = plt.subplots()\n",
    "ax.plot(N_mod[x_scaled['scenario'].head(3)])\n",
    "ax.plot(N_meas, 'x')"
   ]
  },
  {
   "cell_type": "markdown",
   "metadata": {},
   "source": [
    "### How do my parameters distribute?"
   ]
  },
  {
   "cell_type": "code",
   "execution_count": null,
   "metadata": {
    "ExecuteTime": {
     "end_time": "2020-04-22T11:10:59.834344Z",
     "start_time": "2020-04-22T11:10:59.820377Z"
    }
   },
   "outputs": [],
   "source": [
    "threshold = 10\n",
    "good = param_values[problem['names']].loc[x_scaled['scenario'].head(threshold).values[:]]\n",
    "bad = param_values[problem['names']].loc[x_scaled['scenario'].tail(threshold*2).values[:]]\n",
    "good['color'] = 'good'\n",
    "bad['color'] = 'bad'\n",
    "good_bad_nh = pd.concat([good, bad])"
   ]
  },
  {
   "cell_type": "code",
   "execution_count": null,
   "metadata": {
    "ExecuteTime": {
     "end_time": "2020-04-22T11:11:03.240527Z",
     "start_time": "2020-04-22T11:11:00.287127Z"
    }
   },
   "outputs": [],
   "source": [
    "sns.pairplot(good_bad_nh, hue='color');"
   ]
  },
  {
   "cell_type": "code",
   "execution_count": null,
   "metadata": {},
   "outputs": [],
   "source": []
  }
 ],
 "metadata": {
  "kernelspec": {
   "display_name": "Python 3",
   "language": "python",
   "name": "python3"
  },
  "language_info": {
   "codemirror_mode": {
    "name": "ipython",
    "version": 3
   },
   "file_extension": ".py",
   "mimetype": "text/x-python",
   "name": "python",
   "nbconvert_exporter": "python",
   "pygments_lexer": "ipython3",
   "version": "3.7.4"
  },
  "toc": {
   "base_numbering": 1,
   "nav_menu": {},
   "number_sections": true,
   "sideBar": true,
   "skip_h1_title": false,
   "title_cell": "Table of Contents",
   "title_sidebar": "Contents",
   "toc_cell": false,
   "toc_position": {},
   "toc_section_display": true,
   "toc_window_display": true
  }
 },
 "nbformat": 4,
 "nbformat_minor": 2
}
