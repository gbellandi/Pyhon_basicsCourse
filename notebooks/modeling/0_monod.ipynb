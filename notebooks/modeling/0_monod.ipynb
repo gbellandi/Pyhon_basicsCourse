{
 "cells": [
  {
   "cell_type": "code",
   "execution_count": 5,
   "metadata": {
    "ExecuteTime": {
     "end_time": "2020-04-17T12:53:23.622775Z",
     "start_time": "2020-04-17T12:53:23.618787Z"
    }
   },
   "outputs": [],
   "source": [
    "import numpy as np\n",
    "from scipy import integrate\n",
    "from matplotlib.pylab import *"
   ]
  },
  {
   "cell_type": "markdown",
   "metadata": {},
   "source": [
    "source https://learnche.org/3E4/Assignment_6_-_2010_-_Solutions"
   ]
  },
  {
   "cell_type": "code",
   "execution_count": 112,
   "metadata": {
    "ExecuteTime": {
     "end_time": "2020-04-17T13:36:03.781484Z",
     "start_time": "2020-04-17T13:36:03.774504Z"
    }
   },
   "outputs": [],
   "source": [
    "def dy_dt(t, y):\n",
    "    \"\"\" \n",
    "    y1 = dN/dt\n",
    "    y2 = dB/dt\n",
    "    \n",
    "    INPUTS:    \n",
    "        t: time \n",
    "        y: the time varying concentrations: N and B\n",
    "    \"\"\"\n",
    "    \n",
    "    V = 1600.0   # m^3    \n",
    "    Y_B = 0.8    # efficiency\n",
    "    mu_max = 5.0 # 1/day\n",
    "    K = 20.0     #g/m^3\n",
    "    N_in = 100.0 #g/m^3\n",
    "    \n",
    "    F = 50.0   # m^3/day\n",
    "#     F = 5000 + 900*sin(2*np.pi/24*t -np.pi/5) # m^3/day\n",
    "    \n",
    "#     # Change these time values\n",
    "#     if t >= 75 and t <= 85:\n",
    "#         N_in = 150.0\n",
    "#     else:\n",
    "#         N_in = 100.0 # g/m^3\n",
    "            \n",
    "    N = y[0]\n",
    "    B = y[1]\n",
    "    y = np.zeros((2,1))\n",
    "    y[0] = F/V*(N_in - N) - (1/Y_B)*(mu_max*N/(K+N)) * B\n",
    "    y[1] = -B*F/V + (mu_max*N/(K+N)) * B \n",
    "    return(y)"
   ]
  },
  {
   "cell_type": "code",
   "execution_count": 113,
   "metadata": {
    "ExecuteTime": {
     "end_time": "2020-04-17T13:36:04.012088Z",
     "start_time": "2020-04-17T13:36:04.008099Z"
    }
   },
   "outputs": [],
   "source": [
    "Y_B = [0.9, 0.5, 0.3]"
   ]
  },
  {
   "cell_type": "code",
   "execution_count": 114,
   "metadata": {
    "ExecuteTime": {
     "end_time": "2020-04-17T13:36:04.437963Z",
     "start_time": "2020-04-17T13:36:04.225522Z"
    }
   },
   "outputs": [
    {
     "data": {
      "image/png": "[encoded data removed]",
      "text/plain": [
       "<Figure size 432x288 with 1 Axes>"
      ]
     },
     "metadata": {
      "needs_background": "light"
     },
     "output_type": "display_data"
    }
   ],
   "source": [
    "r = integrate.ode(dy_dt).set_integrator('vode', method='bdf')\n",
    "\n",
    "# Part 1:\n",
    "ICs = [100.0, 20.0]\n",
    "\n",
    "# Part 2: use the steady-state solution\n",
    "ICs = [33.33333333333,  53.3333333333]\n",
    "t_0 = 0.0\n",
    "r.set_initial_value(ICs, t_0)\n",
    "t_final = 20.0\n",
    "dt = 0.1\n",
    "\n",
    "# Create vectors to store the solutions in; \n",
    "#     add extra space for intial condition\n",
    "n_steps = np.floor((t_final - t_0)/dt) + 1\n",
    "time = np.zeros(int(n_steps))\n",
    "N = np.zeros(int(n_steps))\n",
    "B = np.zeros(int(n_steps))\n",
    "N[0], B[0] = ICs\n",
    "k = 1\n",
    "\n",
    "while r.successful() and r.t < t_final:\n",
    "    r.integrate(r.t + dt)\n",
    "    time[k] = r.t\n",
    "\n",
    "    N[k] = r.y[0]\n",
    "    B[k] = r.y[1]\n",
    "    k += 1\n",
    "\n",
    "# Clear figure window from previous simulation\n",
    "clf()\n",
    "plot(time, N, 'r', label='Nutrient level')\n",
    "plot(time, B, 'k', label='Biomass level')\n",
    "legend(loc='best')\n",
    "grid('on')"
   ]
  },
  {
   "cell_type": "code",
   "execution_count": 51,
   "metadata": {
    "ExecuteTime": {
     "end_time": "2020-04-17T13:15:36.365695Z",
     "start_time": "2020-04-17T13:15:36.360710Z"
    }
   },
   "outputs": [
    {
     "data": {
      "text/plain": [
       "array([[262.5 ],\n",
       "       [ -3.75]])"
      ]
     },
     "execution_count": 51,
     "metadata": {},
     "output_type": "execute_result"
    }
   ],
   "source": [
    "dy_dt(t,y)"
   ]
  },
  {
   "cell_type": "code",
   "execution_count": 107,
   "metadata": {
    "ExecuteTime": {
     "end_time": "2020-04-17T13:32:43.070020Z",
     "start_time": "2020-04-17T13:32:43.064037Z"
    }
   },
   "outputs": [],
   "source": [
    "while r.successful() and r.t < t_final:\n",
    "    r.integrate(r.t + dt)\n",
    "    time[k] = r.t\n",
    "\n",
    "    N[k] = r.y[0]\n",
    "    B[k] = r.y[1]\n",
    "    k += 1"
   ]
  },
  {
   "cell_type": "code",
   "execution_count": 108,
   "metadata": {
    "ExecuteTime": {
     "end_time": "2020-04-17T13:32:50.620236Z",
     "start_time": "2020-04-17T13:32:50.612252Z"
    }
   },
   "outputs": [
    {
     "data": {
      "text/plain": [
       "array([33.33333333, 13.47643025,  2.44513015,  0.34941887,  0.14501722,\n",
       "        0.12742166,  0.12592521,  0.12579809,  0.12578722,  0.12578625,\n",
       "        0.12578619,  0.12578611,  0.12578616,  0.12578634,  0.12578622,\n",
       "        0.12578618,  0.12578618,  0.12578615,  0.12578615,  0.12578616,\n",
       "        0.12578616,  0.12578616,  0.12578615,  0.12578616,  0.12578615,\n",
       "        0.12578617,  0.12578617,  0.12578617,  0.12578616,  0.12578616,\n",
       "        0.12578617,  0.12578616,  0.12578617,  0.12578616,  0.12578618,\n",
       "        0.12578617,  0.12578617,  0.12578616,  0.12578616,  0.12578616,\n",
       "        0.12578616,  0.12578616,  0.12578617,  0.12578617,  0.12578617,\n",
       "        0.12578616,  0.12578616,  0.12578616,  0.12578617,  0.12578616,\n",
       "        0.12578617,  0.12578616,  0.12578617,  0.12578616,  0.12578616,\n",
       "        0.12578617,  0.12578616,  0.12578617,  0.12578616,  0.12578616,\n",
       "        0.12578616,  0.12578617,  0.12578616,  0.12578617,  0.12578617,\n",
       "        0.12578615,  0.12578616,  0.12578616,  0.12578616,  0.12578616,\n",
       "        0.12578617,  0.12578616,  0.12578618,  0.12578617,  0.12578618,\n",
       "        0.12578617,  0.12578617,  0.12578616,  0.12578617,  0.12578618,\n",
       "        0.12578617,  0.12578616,  0.12578616,  0.12578616,  0.12578616,\n",
       "        0.12578616,  0.12578616,  0.12578617,  0.12578616,  0.12578616,\n",
       "        0.12578615,  0.12578616,  0.12578616,  0.12578616,  0.12578616,\n",
       "        0.12578616,  0.12578616,  0.12578615,  0.12578617,  0.12578617,\n",
       "        0.12578617,  0.12578616,  0.12578616,  0.12578617,  0.12578616,\n",
       "        0.12578617,  0.12578616,  0.12578617,  0.12578616,  0.12578616,\n",
       "        0.12578617,  0.12578616,  0.12578617,  0.12578615,  0.12578617,\n",
       "        0.12578616,  0.12578617,  0.12578616,  0.12578616,  0.12578617,\n",
       "        0.12578616,  0.12578617,  0.12578616,  0.12578616,  0.12578616,\n",
       "        0.12578616,  0.12578616,  0.12578616,  0.12578617,  0.12578616,\n",
       "        0.12578617,  0.12578616,  0.12578617,  0.12578616,  0.12578617,\n",
       "        0.12578616,  0.12578617,  0.12578617,  0.12578617,  0.12578616,\n",
       "        0.12578616,  0.12578616,  0.12578616,  0.12578616,  0.12578614,\n",
       "        0.12578617,  0.12578616,  0.12578616,  0.12578615,  0.12578616,\n",
       "        0.12578616,  0.12578616,  0.12578616,  0.12578617,  0.12578616,\n",
       "        0.12578616,  0.12578615,  0.12578616,  0.12578615,  0.12578616,\n",
       "        0.12578616,  0.12578616,  0.12578616,  0.12578616,  0.12578616,\n",
       "        0.12578616,  0.12578617,  0.12578617,  0.12578617,  0.12578617,\n",
       "        0.12578616,  0.12578616,  0.12578616,  0.12578616,  0.12578616,\n",
       "        0.12578615,  0.12578617,  0.12578615,  0.12578616,  0.12578616,\n",
       "        0.12578617,  0.12578616,  0.12578616,  0.12578617,  0.12578616,\n",
       "        0.12578617,  0.12578615,  0.12578616,  0.12578615,  0.12578617,\n",
       "        0.12578616,  0.12578616,  0.12578617,  0.12578616,  0.12578617,\n",
       "        0.12578616,  0.12578617,  0.12578615,  0.12578616,  0.12578616,\n",
       "        0.12578616])"
      ]
     },
     "execution_count": 108,
     "metadata": {},
     "output_type": "execute_result"
    }
   ],
   "source": [
    "N"
   ]
  },
  {
   "cell_type": "code",
   "execution_count": null,
   "metadata": {},
   "outputs": [],
   "source": []
  }
 ],
 "metadata": {
  "kernelspec": {
   "display_name": "Python 3",
   "language": "python",
   "name": "python3"
  },
  "language_info": {
   "codemirror_mode": {
    "name": "ipython",
    "version": 3
   },
   "file_extension": ".py",
   "mimetype": "text/x-python",
   "name": "python",
   "nbconvert_exporter": "python",
   "pygments_lexer": "ipython3",
   "version": "3.7.4"
  },
  "toc": {
   "base_numbering": 1,
   "nav_menu": {},
   "number_sections": true,
   "sideBar": true,
   "skip_h1_title": false,
   "title_cell": "Table of Contents",
   "title_sidebar": "Contents",
   "toc_cell": false,
   "toc_position": {},
   "toc_section_display": true,
   "toc_window_display": false
  }
 },
 "nbformat": 4,
 "nbformat_minor": 2
}
