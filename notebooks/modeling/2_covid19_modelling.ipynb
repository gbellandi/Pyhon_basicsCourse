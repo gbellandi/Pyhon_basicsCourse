{
 "cells": [
  {
   "cell_type": "markdown",
   "metadata": {},
   "source": [
    "Click the button above to load the interactive widgets"
   ]
  },
  {
   "cell_type": "code",
   "execution_count": null,
   "metadata": {
    "ExecuteTime": {
     "end_time": "2020-04-22T06:20:39.358539Z",
     "start_time": "2020-04-22T06:20:37.819680Z"
    }
   },
   "outputs": [],
   "source": [
    "import pandas as pd\n",
    "import numpy as np\n",
    "from scipy.integrate import odeint\n",
    "import matplotlib.pyplot as plt\n",
    "from datetime import datetime,timedelta\n",
    "from sklearn.metrics import mean_squared_error\n",
    "from scipy.optimize import curve_fit, fsolve\n",
    "\n",
    "from IPython.display import Image\n",
    "from ipywidgets import interact\n",
    "from ipywidgets import fixed, ToggleButtons, IntSlider, FloatSlider, Dropdown, SelectMultiple, Layout\n",
    "\n",
    "from pandas.tseries.offsets import Week\n",
    "%matplotlib inline"
   ]
  },
  {
   "cell_type": "markdown",
   "metadata": {},
   "source": [
    "<b> Preface </b>\n",
    "    \n",
    "    Here are being condensed few simple models and data visualization tools that capture my attention in literature. The idea is to play around with it and understand how important is to limit social contact in this period, and also the importance of modelling for understanding and timely actions."
   ]
  },
  {
   "cell_type": "markdown",
   "metadata": {},
   "source": [
    "# Load data from JHU"
   ]
  },
  {
   "cell_type": "code",
   "execution_count": null,
   "metadata": {
    "ExecuteTime": {
     "end_time": "2020-04-22T06:20:40.791693Z",
     "start_time": "2020-04-22T06:20:40.787739Z"
    }
   },
   "outputs": [],
   "source": [
    "def loadData(fileName):\n",
    "    data = pd.read_csv(baseURL + fileName) \\\n",
    "             .drop(['Lat', 'Long'], axis=1) #\\\n",
    "#              .melt(id_vars=['Province/State', 'Country/Region'], \n",
    "#                  var_name='date', value_name=columnName) \\\n",
    "#              .astype({'date':'datetime64[ns]', columnName:'Int64'}, \n",
    "#                  errors='ignore')\n",
    "    data['Province/State'].fillna('<all>', inplace=True)\n",
    "#     data[columnName].fillna(0, inplace=True)\n",
    "    return data"
   ]
  },
  {
   "cell_type": "code",
   "execution_count": null,
   "metadata": {
    "ExecuteTime": {
     "end_time": "2020-04-22T06:20:41.117189Z",
     "start_time": "2020-04-22T06:20:41.113198Z"
    }
   },
   "outputs": [],
   "source": [
    "baseURL = \"https://raw.githubusercontent.com/CSSEGISandData/COVID-19/master/csse_covid_19_data/csse_covid_19_time_series/\""
   ]
  },
  {
   "cell_type": "code",
   "execution_count": null,
   "metadata": {
    "ExecuteTime": {
     "end_time": "2020-04-22T06:20:41.982370Z",
     "start_time": "2020-04-22T06:20:41.724868Z"
    }
   },
   "outputs": [],
   "source": [
    "Confirmed = loadData(\"time_series_covid19_confirmed_global.csv\")"
   ]
  },
  {
   "cell_type": "markdown",
   "metadata": {},
   "source": [
    "# Structure dataset"
   ]
  },
  {
   "cell_type": "code",
   "execution_count": null,
   "metadata": {
    "ExecuteTime": {
     "end_time": "2020-04-22T06:20:43.539045Z",
     "start_time": "2020-04-22T06:20:43.520063Z"
    }
   },
   "outputs": [],
   "source": [
    "# grouping by country\n",
    "Confirmed = Confirmed.groupby(['Country/Region']).sum()"
   ]
  },
  {
   "cell_type": "code",
   "execution_count": null,
   "metadata": {
    "ExecuteTime": {
     "end_time": "2020-04-22T06:20:44.863099Z",
     "start_time": "2020-04-22T06:20:44.859109Z"
    }
   },
   "outputs": [],
   "source": [
    "Confirmed = Confirmed.T"
   ]
  },
  {
   "cell_type": "code",
   "execution_count": null,
   "metadata": {
    "ExecuteTime": {
     "end_time": "2020-04-22T06:20:45.585166Z",
     "start_time": "2020-04-22T06:20:45.571203Z"
    }
   },
   "outputs": [],
   "source": [
    "Confirmed.index = pd.to_datetime(Confirmed.index)"
   ]
  },
  {
   "cell_type": "markdown",
   "metadata": {
    "heading_collapsed": true
   },
   "source": [
    "# Logistic model"
   ]
  },
  {
   "cell_type": "markdown",
   "metadata": {
    "hidden": true
   },
   "source": [
    "Inspired by https://towardsdatascience.com/covid-19-infection-in-italy-mathematical-models-and-predictions-7784b4d7dd8d)"
   ]
  },
  {
   "cell_type": "code",
   "execution_count": null,
   "metadata": {
    "ExecuteTime": {
     "end_time": "2020-04-22T06:20:49.718102Z",
     "start_time": "2020-04-22T06:20:49.715147Z"
    },
    "hidden": true
   },
   "outputs": [],
   "source": [
    "def logistic_model(x,a,b,c):\n",
    "    return c/(1+np.exp(-(x-b)/a))"
   ]
  },
  {
   "cell_type": "code",
   "execution_count": null,
   "metadata": {
    "ExecuteTime": {
     "end_time": "2020-04-22T06:22:28.858772Z",
     "start_time": "2020-04-22T06:22:28.850830Z"
    },
    "hidden": true
   },
   "outputs": [],
   "source": [
    "def logistic_covid(covid19_df, country):\n",
    "    \"\"\"\n",
    "    df: dataframe of covid19 data with nations as columns and timestamp as index\n",
    "    country: string\n",
    "    \n",
    "    \"\"\"\n",
    "    df = covid19_df[country]\n",
    "    \n",
    "    x = list(df.reset_index().index)\n",
    "    y = list(df.values)\n",
    "    \n",
    "#     Real data\n",
    "    plt.scatter(x, y, label=\"Real data\", color=\"red\")\n",
    "    \n",
    "#     fit data\n",
    "    fit = curve_fit(logistic_model, x, y,p0=[50,100,2000000])\n",
    "    errors = [np.sqrt(fit[1][i][i]) for i in [0,1,2]]\n",
    "\n",
    "    a = fit[0][0]\n",
    "    b = fit[0][1]\n",
    "    c = fit[0][2]\n",
    "\n",
    "#     print('Infection speed '+str(round(a)))\n",
    "    print('Maximum infections occurred on '+str(pd.to_datetime(df.index[0]) + pd.to_timedelta(round(b), unit='D')))\n",
    "    print('Total predicted infections '+str(round(c))+ ' +-'+str(round(errors[2])))\n",
    "\n",
    "    sol = int(fsolve(lambda x : logistic_model(x,a,b,c) - int(c),b))\n",
    "    pred_x = list(range(max(x),sol))\n",
    "\n",
    "    # Mdel data\n",
    "    plt.plot(x+pred_x, [logistic_model(i,fit[0][0],fit[0][1],fit[0][2]) for i in x+pred_x], label=\"Logistic model\");"
   ]
  },
  {
   "cell_type": "markdown",
   "metadata": {
    "heading_collapsed": true
   },
   "source": [
    "# Run logistic model"
   ]
  },
  {
   "cell_type": "markdown",
   "metadata": {
    "hidden": true
   },
   "source": [
    "Fitting a logistic model on total cases of a country. Select the country and check the predicted peak of infections and total population"
   ]
  },
  {
   "cell_type": "code",
   "execution_count": null,
   "metadata": {
    "ExecuteTime": {
     "end_time": "2020-04-22T06:23:46.826621Z",
     "start_time": "2020-04-22T06:23:46.522410Z"
    },
    "hidden": true
   },
   "outputs": [],
   "source": [
    "Confirmed['Italy'].plot(marker='o', color='r');"
   ]
  },
  {
   "cell_type": "code",
   "execution_count": null,
   "metadata": {
    "ExecuteTime": {
     "end_time": "2020-04-22T06:22:30.364311Z",
     "start_time": "2020-04-22T06:22:30.243666Z"
    },
    "hidden": true
   },
   "outputs": [],
   "source": [
    "logistic_covid(Confirmed, 'Italy')"
   ]
  },
  {
   "cell_type": "code",
   "execution_count": null,
   "metadata": {
    "ExecuteTime": {
     "end_time": "2020-04-14T15:09:29.419850Z",
     "start_time": "2020-04-14T15:09:29.056236Z"
    },
    "hidden": true
   },
   "outputs": [],
   "source": [
    "interact(logistic_covid, \n",
    "         covid19_df = fixed(Confirmed),\n",
    "         country = Dropdown(options=list(Confirmed.columns), value='Italy'));"
   ]
  },
  {
   "cell_type": "markdown",
   "metadata": {},
   "source": [
    "# SIR Model definition"
   ]
  },
  {
   "cell_type": "markdown",
   "metadata": {},
   "source": [
    "Inspired by https://www.linkedin.com/pulse/covid-19-from-model-prediction-predictive-control-ingmar-nopens/"
   ]
  },
  {
   "cell_type": "code",
   "execution_count": null,
   "metadata": {
    "ExecuteTime": {
     "end_time": "2020-04-22T06:24:46.973059Z",
     "start_time": "2020-04-22T06:24:46.968074Z"
    }
   },
   "outputs": [],
   "source": [
    "def model_der(variables, t, beta, gamma):\n",
    "\n",
    "    S = variables[0]\n",
    "    I = variables[1]\n",
    "    R = variables[2]\n",
    "    \n",
    "    S_new = -beta*I*S \n",
    "    I_new = beta*I*S - gamma*I\n",
    "    R_new = gamma*I\n",
    "    return [S_new, I_new, R_new]"
   ]
  },
  {
   "cell_type": "code",
   "execution_count": null,
   "metadata": {
    "ExecuteTime": {
     "end_time": "2020-04-22T06:24:47.176514Z",
     "start_time": "2020-04-22T06:24:47.168536Z"
    }
   },
   "outputs": [],
   "source": [
    "def SIRmodel_logbeta2(timesteps, S_0, I_0, R_0, log10_beta, gamma, measured_cases, country, returnDataFrame=True, plotFig=True):\n",
    "    \"\"\"\n",
    "    implementation of SIR population model\n",
    "    \n",
    "    Parameters\n",
    "    -----------\n",
    "    timesteps : np.array\n",
    "    country: string\n",
    "    log10_beta: float <0\n",
    "    gamma: float\n",
    "    \n",
    "    \"\"\"\n",
    "    \n",
    "    modeloutput = odeint(model_der, [S_0, I_0, R_0], timesteps, args=(10**(log10_beta), gamma));\n",
    "    modeloutput = pd.DataFrame(modeloutput, columns=['S','I','R'], index=timesteps)\n",
    "    \n",
    "    modeloutput.index = pd.date_range(start='1/20/2020', periods=len(timesteps))\n",
    "    \n",
    "    if plotFig:\n",
    "        fig, axes = plt.subplots(1,1, figsize=(10,8))\n",
    "        axes.set_xlabel('time')\n",
    "        axes.set_ylabel('Population')\n",
    "\n",
    "        axes.plot(measured_cases[country], 'rx')\n",
    "        axes.plot(modeloutput);\n",
    "#         measured_cases[country].plot(axes=axes)\n",
    "        \n",
    "    if returnDataFrame:\n",
    "        return modeloutput "
   ]
  },
  {
   "cell_type": "markdown",
   "metadata": {},
   "source": [
    "# Run SIR model"
   ]
  },
  {
   "cell_type": "code",
   "execution_count": null,
   "metadata": {},
   "outputs": [],
   "source": [
    "SIRmodel_logbeta2(timesteps=)"
   ]
  },
  {
   "cell_type": "markdown",
   "metadata": {},
   "source": [
    "Try to fir the SIR model to the cases of a specific country and compare it to the logistic model"
   ]
  },
  {
   "cell_type": "code",
   "execution_count": null,
   "metadata": {
    "ExecuteTime": {
     "end_time": "2020-04-14T16:08:52.536815Z",
     "start_time": "2020-04-14T16:08:52.133923Z"
    }
   },
   "outputs": [],
   "source": [
    "interact(SIRmodel_logbeta2, \n",
    "         timesteps=fixed(np.arange(0., 1000, 1)), country = Dropdown(options=list(Confirmed.columns), value='US'), \n",
    "         measured_cases = fixed(Confirmed),\n",
    "         S_0=FloatSlider(value=500000, min=Confirmed.max().mean(), max=5*Confirmed.max().max(), step=1000,\n",
    "                           continuous_update=False, description='Affected population', style = {'description_width': 'initial'}, \n",
    "                           layout=Layout(width='50%', height='30px')), \n",
    "         I_0=fixed(1), R_0=fixed(0),\n",
    "         log10_beta=FloatSlider(value=-6.3, min=-8, max=-5, step=0.001, continuous_update=True, readout_format='.2e',\n",
    "                               description='log10(infection rate)', style = {'description_width': 'initial'}, \n",
    "                                layout=Layout(width='50%', height='30px')),\n",
    "         gamma=FloatSlider(value=0.06, min=0, max=0.06, step=0.001, description='Recovery rate', style = {'description_width': 'initial'}, \n",
    "                           layout=Layout(width='50%', height='30px')),          \n",
    "         continuous_update=False, readout_format='.2e', returnDataFrame=fixed(False), plotFig=fixed(True));"
   ]
  },
  {
   "cell_type": "markdown",
   "metadata": {},
   "source": [
    "# LogLog visualization (when are we on our way out of pandemic)"
   ]
  },
  {
   "cell_type": "markdown",
   "metadata": {},
   "source": [
    "Inspired by https://t.co/q2AtUQBX5P?amp=1"
   ]
  },
  {
   "cell_type": "code",
   "execution_count": null,
   "metadata": {
    "ExecuteTime": {
     "end_time": "2020-04-22T06:26:10.220805Z",
     "start_time": "2020-04-22T06:26:10.210869Z"
    }
   },
   "outputs": [],
   "source": [
    "Confirmedweeklyrates = (Confirmed - Confirmed.shift(1, freq=Week()).reindex(Confirmed.index)).fillna(value=0)"
   ]
  },
  {
   "cell_type": "code",
   "execution_count": null,
   "metadata": {
    "ExecuteTime": {
     "end_time": "2020-04-22T06:27:36.227383Z",
     "start_time": "2020-04-22T06:27:36.220432Z"
    }
   },
   "outputs": [],
   "source": [
    "def plot_infectionrate(Confirmedweeklyrates, country, return_plot = True, return_df=False):\n",
    "    \"\"\"\n",
    "    Confirmedweeklyrates: rate of infection adjusted from JHU\n",
    "    country: list of coutries\n",
    "    \"\"\"\n",
    "    country = list(country)\n",
    "    res = Confirmedweeklyrates[country]\n",
    "    if return_plot is True:\n",
    "        res.plot(figsize=(10,5))\n",
    "    if return_df is True:\n",
    "        return(res);"
   ]
  },
  {
   "cell_type": "code",
   "execution_count": null,
   "metadata": {
    "ExecuteTime": {
     "end_time": "2020-04-22T06:26:12.250566Z",
     "start_time": "2020-04-22T06:26:12.242618Z"
    }
   },
   "outputs": [],
   "source": [
    "def loglog_covid(Confirmedweeklyrates, countries):\n",
    "    \"\"\"\n",
    "    Confirmed: df adjustedc from JHU\n",
    "    countries: list in columns of Confirmed\n",
    "    \n",
    "    \"\"\"\n",
    "    fig, axes = plt.subplots(figsize=(15,8))\n",
    "    \n",
    "    df = Confirmedweeklyrates[list(countries)]\n",
    "\n",
    "    axes.loglog(Confirmed.sum(axis=1), df.values, 'o')\n",
    "    axes.legend(countries)\n",
    "    axes.set_title('Loglog')\n",
    "    axes.set_ylabel('Weekly increase of positive cases')\n",
    "    axes.set_xlabel('Total cases globally')\n",
    "    axes.set_xlim([1e4,1e7])"
   ]
  },
  {
   "cell_type": "markdown",
   "metadata": {},
   "source": [
    "## Visualization of infection rate (weekly new cases)"
   ]
  },
  {
   "cell_type": "code",
   "execution_count": null,
   "metadata": {
    "ExecuteTime": {
     "end_time": "2020-04-22T06:26:57.469574Z",
     "start_time": "2020-04-22T06:26:57.139452Z"
    }
   },
   "outputs": [],
   "source": [
    "plot_infectionrate(Confirmedweeklyrates, ['Italy'])"
   ]
  },
  {
   "cell_type": "markdown",
   "metadata": {},
   "source": [
    "Check the rate of infections for one or multiple countries"
   ]
  },
  {
   "cell_type": "code",
   "execution_count": null,
   "metadata": {
    "ExecuteTime": {
     "end_time": "2020-04-22T06:27:50.912297Z",
     "start_time": "2020-04-22T06:27:50.561239Z"
    }
   },
   "outputs": [],
   "source": [
    "interact(plot_infectionrate,\n",
    "         Confirmedweeklyrates = fixed(Confirmedweeklyrates),\n",
    "         country = SelectMultiple(options=list(Confirmedweeklyrates.columns), value=['Belgium', 'Italy', 'Spain', 'US'],\n",
    "                                  description='Select country(ies)',\n",
    "                                  style = {'description_width': 'initial'},\n",
    "                                  layout=Layout(width='40%', height='100px')),\n",
    "         return_df = fixed(False),\n",
    "         return_plot = fixed(True));"
   ]
  },
  {
   "cell_type": "markdown",
   "metadata": {},
   "source": [
    "## loglog plot"
   ]
  },
  {
   "cell_type": "markdown",
   "metadata": {},
   "source": [
    "Inspired by https://t.co/q2AtUQBX5P?amp=1"
   ]
  },
  {
   "cell_type": "markdown",
   "metadata": {},
   "source": [
    "A smart way of visualizing how effective are the measures taken from each country to limit the infection rate. When the Y axis values drop significantly, this means that the spreading of the infections is sensibly decreased."
   ]
  },
  {
   "cell_type": "code",
   "execution_count": null,
   "metadata": {
    "ExecuteTime": {
     "end_time": "2020-04-22T06:29:18.084276Z",
     "start_time": "2020-04-22T06:29:17.419088Z"
    }
   },
   "outputs": [],
   "source": [
    "loglog_covid(Confirmedweeklyrates, ['Italy', 'Spain', 'China'])"
   ]
  },
  {
   "cell_type": "code",
   "execution_count": null,
   "metadata": {
    "ExecuteTime": {
     "end_time": "2020-04-22T06:29:31.223383Z",
     "start_time": "2020-04-22T06:29:30.729680Z"
    }
   },
   "outputs": [],
   "source": [
    "interact(loglog_covid,\n",
    "         Confirmedweeklyrates = fixed(Confirmedweeklyrates),\n",
    "         countries = SelectMultiple(options=list(Confirmed.columns), value=['Belgium', 'Italy', 'Spain', 'US'],\n",
    "                                 description='Select countries (Ctrl+ for multi-selection)', \n",
    "                                    style = {'description_width': 'initial'},\n",
    "                                    layout=Layout(width='50%', height='200px')),\n",
    "         return_df= fixed(False));"
   ]
  },
  {
   "cell_type": "markdown",
   "metadata": {},
   "source": [
    "## loglog plot (alternative to facilitate widgets)"
   ]
  },
  {
   "cell_type": "code",
   "execution_count": null,
   "metadata": {
    "ExecuteTime": {
     "end_time": "2020-04-08T08:20:47.026063Z",
     "start_time": "2020-04-08T08:20:47.019083Z"
    }
   },
   "outputs": [],
   "source": [
    "Confirmedweeklyrates = (Confirmed - Confirmed.shift(1, freq=Week()).reindex(Confirmed.index)).fillna(value=0)"
   ]
  },
  {
   "cell_type": "code",
   "execution_count": null,
   "metadata": {
    "ExecuteTime": {
     "end_time": "2020-04-08T08:21:40.079171Z",
     "start_time": "2020-04-08T08:21:40.072153Z"
    }
   },
   "outputs": [],
   "source": [
    "def loglog_covid2(Confirmedweeklyrates, countries):\n",
    "    \"\"\"\n",
    "    Confirmed: df adjustedc from JHU\n",
    "    countries: list in columns of Confirmed\n",
    "    \n",
    "    \"\"\"\n",
    "    fig, axes = plt.subplots(figsize=(15,8))\n",
    "    \n",
    "\n",
    "    axes.loglog(Confirmed.sum(axis=1), Confirmedweeklyrates[list(countries)].values, 'o')\n",
    "    axes.legend(countries)\n",
    "    axes.set_title('Loglog')\n",
    "    axes.set_ylabel('Weekly increase of positive cases')\n",
    "    axes.set_xlabel('Global cases confirmed')\n",
    "    axes.set_xlim([1e4,1e7])"
   ]
  },
  {
   "cell_type": "code",
   "execution_count": null,
   "metadata": {
    "ExecuteTime": {
     "end_time": "2020-04-08T08:21:41.000615Z",
     "start_time": "2020-04-08T08:21:40.509672Z"
    }
   },
   "outputs": [],
   "source": [
    "interact(loglog_covid2,\n",
    "         Confirmedweeklyrates = fixed(Confirmedweeklyrates),\n",
    "         countries = SelectMultiple(options=Confirmedweeklyrates.columns, \n",
    "                                    description='Select countries (Ctrl+ for multi-selection)', \n",
    "                                    style = {'description_width': 'initial'}, layout=Layout(width='60%', height='150px'),\n",
    "                                    value=['Italy', 'Belgium', 'Spain', 'US']));"
   ]
  },
  {
   "cell_type": "code",
   "execution_count": null,
   "metadata": {},
   "outputs": [],
   "source": []
  }
 ],
 "metadata": {
  "kernelspec": {
   "display_name": "Python 3",
   "language": "python",
   "name": "python3"
  },
  "language_info": {
   "codemirror_mode": {
    "name": "ipython",
    "version": 3
   },
   "file_extension": ".py",
   "mimetype": "text/x-python",
   "name": "python",
   "nbconvert_exporter": "python",
   "pygments_lexer": "ipython3",
   "version": "3.7.4"
  },
  "toc": {
   "base_numbering": 1,
   "nav_menu": {},
   "number_sections": true,
   "sideBar": true,
   "skip_h1_title": false,
   "title_cell": "Table of Contents",
   "title_sidebar": "Contents",
   "toc_cell": false,
   "toc_position": {},
   "toc_section_display": true,
   "toc_window_display": true
  }
 },
 "nbformat": 4,
 "nbformat_minor": 2
}
