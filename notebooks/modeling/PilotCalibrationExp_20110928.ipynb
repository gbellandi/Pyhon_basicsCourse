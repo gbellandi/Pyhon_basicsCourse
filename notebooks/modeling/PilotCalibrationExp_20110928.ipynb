{
 "cells": [
  {
   "cell_type": "markdown",
   "metadata": {},
   "source": [
    "# Load modules and model"
   ]
  },
  {
   "cell_type": "code",
   "execution_count": 1,
   "metadata": {
    "ExecuteTime": {
     "end_time": "2020-04-17T07:02:58.317636Z",
     "start_time": "2020-04-17T07:02:56.753820Z"
    },
    "scrolled": true
   },
   "outputs": [],
   "source": [
    "from dynamita.sumo import *\n",
    "\n",
    "import pandas as pd\n",
    "import numpy as np\n",
    "import time\n",
    "import matplotlib.pyplot as plt\n",
    "import seaborn as sns\n",
    "\n",
    "from collections import OrderedDict\n",
    "\n",
    "from SALib.sample import saltelli, latin\n",
    "from sklearn import preprocessing\n",
    "import json\n",
    "# from sklearn.metrics import \n",
    "\n",
    "%matplotlib inline"
   ]
  },
  {
   "cell_type": "code",
   "execution_count": 2,
   "metadata": {
    "ExecuteTime": {
     "end_time": "2020-04-17T07:02:58.322624Z",
     "start_time": "2020-04-17T07:02:58.318633Z"
    }
   },
   "outputs": [],
   "source": [
    "# allows me to store current notebook position\n",
    "if not 'nbookDir' in globals():\n",
    "    nbookDir = os.getcwd()"
   ]
  },
  {
   "cell_type": "markdown",
   "metadata": {},
   "source": [
    "## Load SUMO and its license"
   ]
  },
  {
   "cell_type": "code",
   "execution_count": 3,
   "metadata": {
    "ExecuteTime": {
     "end_time": "2020-04-17T07:02:58.420362Z",
     "start_time": "2020-04-17T07:02:58.324618Z"
    },
    "scrolled": true
   },
   "outputs": [
    {
     "name": "stdout",
     "output_type": "stream",
     "text": [
      "License OK...\n"
     ]
    }
   ],
   "source": [
    "sumo = Sumo(sumoPath = r\"C:/Program Files (x86)/Dynamita/Sumo19/\",\n",
    "            licenseFile = r\"C:/Program Files (x86)/Dynamita/GiacomoBellandi2020.sumodyn\")\n",
    "\n",
    "# sumo = Sumo(sumoPath=r\"/media/giacomo/CE82DCC682DCB3E5/Program Files (x86)/Dynamita/Sumo19/\",\n",
    "#             licenseFile=r\"/media/giacomo/CE82DCC682DCB3E5/Program Files (x86)/Dynamita/Sumo19/GiacomoBellandi2019.sumodyn\")"
   ]
  },
  {
   "cell_type": "markdown",
   "metadata": {},
   "source": [
    "## Define callback functions"
   ]
  },
  {
   "cell_type": "code",
   "execution_count": 4,
   "metadata": {
    "ExecuteTime": {
     "end_time": "2020-04-17T07:02:59.225207Z",
     "start_time": "2020-04-17T07:02:59.212243Z"
    },
    "scrolled": true
   },
   "outputs": [],
   "source": [
    "def datacomm_callback(sumo):\n",
    "    t.append(sumo.core.csumo_var_get_time_double(sumo.handle))\n",
    "    sBentazConv.append(sumo.core.csumo_var_get_pvt_pos(sumo.handle, sBentazConv_pos))\n",
    "    sAtrazConv.append(sumo.core.csumo_var_get_pvt_pos(sumo.handle, sAtrazConv_pos))\n",
    "    sIsoprConv.append(sumo.core.csumo_var_get_pvt_pos(sumo.handle, sIsoprConv_pos))\n",
    "    sIbuprConv.append(sumo.core.csumo_var_get_pvt_pos(sumo.handle, sIbuprConv_pos))\n",
    "    sMetfoConv.append(sumo.core.csumo_var_get_pvt_pos(sumo.handle, sMetfoConv_pos))\n",
    "    sCarbaConv.append(sumo.core.csumo_var_get_pvt_pos(sumo.handle, sCarbaConv_pos))\n",
    "    sMetopConv.append(sumo.core.csumo_var_get_pvt_pos(sumo.handle, sMetopConv_pos))\n",
    "    sTrimeConv.append(sumo.core.csumo_var_get_pvt_pos(sumo.handle, sTrimeConv_pos))\n",
    "    sIoproConv.append(sumo.core.csumo_var_get_pvt_pos(sumo.handle, sIoproConv_pos))\n",
    "    sPhenaConv.append(sumo.core.csumo_var_get_pvt_pos(sumo.handle, sPhenaConv_pos))\n",
    "    sDicloConv.append(sumo.core.csumo_var_get_pvt_pos(sumo.handle, sDicloConv_pos))\n",
    "    sUVtot.append(sumo.core.csumo_var_get_pvt_pos(sumo.handle, sUVtot_pos))\n",
    "    return 0"
   ]
  },
  {
   "cell_type": "code",
   "execution_count": 5,
   "metadata": {
    "ExecuteTime": {
     "end_time": "2020-04-17T07:02:59.636109Z",
     "start_time": "2020-04-17T07:02:59.633116Z"
    },
    "scrolled": true
   },
   "outputs": [],
   "source": [
    "def message_callback(sumo):\n",
    "    for message in sumo.messages:\n",
    "        print(message)\n",
    "    sumo.messages = []\n",
    "    return 0"
   ]
  },
  {
   "cell_type": "markdown",
   "metadata": {},
   "source": [
    "This command below lets Sumo know about our custom datacomm function:"
   ]
  },
  {
   "cell_type": "code",
   "execution_count": 6,
   "metadata": {
    "ExecuteTime": {
     "end_time": "2020-04-17T07:03:00.628487Z",
     "start_time": "2020-04-17T07:03:00.625461Z"
    },
    "scrolled": true
   },
   "outputs": [],
   "source": [
    "sumo.register_message_callback(message_callback)"
   ]
  },
  {
   "cell_type": "markdown",
   "metadata": {},
   "source": [
    "## Load SUMO model"
   ]
  },
  {
   "cell_type": "code",
   "execution_count": 7,
   "metadata": {
    "ExecuteTime": {
     "end_time": "2020-04-17T07:03:01.287690Z",
     "start_time": "2020-04-17T07:03:01.283700Z"
    },
    "scrolled": true
   },
   "outputs": [
    {
     "name": "stdout",
     "output_type": "stream",
     "text": [
      "No model is loaded\n"
     ]
    }
   ],
   "source": [
    "sumo.unload_model()"
   ]
  },
  {
   "cell_type": "markdown",
   "metadata": {},
   "source": [
    "<b> Open the Sumo project and run a small simulation, check in the Core window where the tmp files are located and copy the directory here below </b>"
   ]
  },
  {
   "cell_type": "code",
   "execution_count": 8,
   "metadata": {
    "ExecuteTime": {
     "end_time": "2020-04-17T07:03:02.116472Z",
     "start_time": "2020-04-17T07:03:02.113481Z"
    }
   },
   "outputs": [],
   "source": [
    "# Where your model temp files are stored (check the core window), this needs to be renewed every time we open sumo\n",
    "modelpath = r\"C:/Users/bella/AppData/Local/Dynamita/Sumo19/.tmp/r0n35aff.shk/\""
   ]
  },
  {
   "cell_type": "code",
   "execution_count": 9,
   "metadata": {
    "ExecuteTime": {
     "end_time": "2020-04-17T07:03:04.303187Z",
     "start_time": "2020-04-17T07:03:02.994125Z"
    },
    "scrolled": true
   },
   "outputs": [
    {
     "name": "stdout",
     "output_type": "stream",
     "text": [
      "530021 Set: Sumo__StopTime to 0\n",
      "530021 Set: Sumo__DataComm to 3600000\n",
      "530021 Set: Sumo__PlantName to C:\\Users\\bella\\AppData\\Local\\Dynamita\\Sumo19\\TMP~1\\2birmaku.lxt\\SUMOPR~2.XML\n",
      "530049 Core loop started.\n"
     ]
    },
    {
     "data": {
      "text/plain": [
       "0"
      ]
     },
     "execution_count": 9,
     "metadata": {},
     "output_type": "execute_result"
    }
   ],
   "source": [
    "os.chdir(nbookDir)\n",
    "sumo.load_model('../O3v8D_GOBAMpilot_v4.sumo')"
   ]
  },
  {
   "cell_type": "code",
   "execution_count": 10,
   "metadata": {
    "ExecuteTime": {
     "end_time": "2020-04-17T07:03:04.312162Z",
     "start_time": "2020-04-17T07:03:04.306179Z"
    }
   },
   "outputs": [],
   "source": [
    "sumo.register_datacomm_callback(datacomm_callback)"
   ]
  },
  {
   "cell_type": "markdown",
   "metadata": {},
   "source": [
    "# Multi-parametric variation"
   ]
  },
  {
   "cell_type": "markdown",
   "metadata": {},
   "source": [
    "## Store initial values of kinetic parameters"
   ]
  },
  {
   "cell_type": "code",
   "execution_count": 11,
   "metadata": {
    "ExecuteTime": {
     "end_time": "2020-04-16T06:41:40.359239Z",
     "start_time": "2020-04-16T06:41:40.352258Z"
    }
   },
   "outputs": [],
   "source": [
    "## We have to manually set the initial values of non-default params\n",
    "# Defines a library of the non-default params values to edit\n",
    "parasets = pd.DataFrame({'kO3': 172.8,\n",
    "#                           'kO3_UVA_R1': 7775999.99999998,\n",
    "#                           'kO3_UVA_R2': 777599.999999998,\n",
    "#                           'YO3_UVA_R1': 0.011,\n",
    "#                           'YO3_UVA_R2': 0.005,\n",
    "#                           'n1': 0.55,\n",
    "#                           'n2': 0.1,\n",
    "#                           'YHOCl_UVA_R1': 0.01,\n",
    "#                           'kHOCl_UVA_R1': 8.6400E08,\n",
    "#                           'FScav': 3455999999.99999,\n",
    "#                           'kHO_dot_Atrazine': 216000000000,\n",
    "#                           'kBr_dot_DOC': 8639999999.99998,\n",
    "#                           'kO3_HO2m': 24191999.9999999,\n",
    "                          'kL_GO2_bub': 0.\n",
    "                        }, \n",
    "                         index=[0])"
   ]
  },
  {
   "cell_type": "markdown",
   "metadata": {},
   "source": [
    "## create par set"
   ]
  },
  {
   "cell_type": "markdown",
   "metadata": {},
   "source": [
    "Since we're fitting MPs conversion and UV data, we're modifying the variables for UV consumption, HO* production, HO* scavenging, and the reaction of O3 with HO2-"
   ]
  },
  {
   "cell_type": "code",
   "execution_count": 11,
   "metadata": {
    "ExecuteTime": {
     "end_time": "2020-04-17T07:03:11.657550Z",
     "start_time": "2020-04-17T07:03:11.640595Z"
    }
   },
   "outputs": [],
   "source": [
    "# os.chdir(nbookDir)\n",
    "# parasets = pd.read_pickle('./parasets_8pars_50ksamples')"
   ]
  },
  {
   "cell_type": "code",
   "execution_count": 36,
   "metadata": {
    "ExecuteTime": {
     "end_time": "2020-04-16T07:10:09.698198Z",
     "start_time": "2020-04-16T07:10:09.691179Z"
    },
    "scrolled": true
   },
   "outputs": [],
   "source": [
    "## here we define the domain of each parameter we want to vary\n",
    "problem = {\n",
    "  'num_vars': 8,\n",
    "  'names': ['kO3_UVA_R1', 'kO3_UVA_R2', \n",
    "            'YO3_UVA_R1', 'YO3_UVA_R2',\n",
    "            'n1', 'n2',\n",
    "            'FScav', 'kO3_HO2m'],\n",
    "  'bounds': [[1e5, 1e7], [1e4, 1e6],\n",
    "            [0.001, 0.1], [1e-4, 0.01],\n",
    "            [0.01, 0.7], [0.01, 0.6],\n",
    "            [1e8, 1e10], [1e7, 3e8]]}\n",
    "\n",
    "# Generate samples\n",
    "param_values = latin.sample(problem, 2) #calc_second_order=False)\n",
    "param_values = pd.DataFrame(param_values, columns=problem['names']) "
   ]
  },
  {
   "cell_type": "code",
   "execution_count": 37,
   "metadata": {
    "ExecuteTime": {
     "end_time": "2020-04-16T07:10:10.434975Z",
     "start_time": "2020-04-16T07:10:10.430014Z"
    }
   },
   "outputs": [],
   "source": [
    "# builds the dataframe of parameter avlues adding also the parameters that we're not changing in the different scenarios\n",
    "for i in parasets.columns:\n",
    "     if i not in param_values.columns:\n",
    "            param_values[i] = parasets[i][0]\n",
    "parasets = param_values"
   ]
  },
  {
   "cell_type": "code",
   "execution_count": 34,
   "metadata": {
    "ExecuteTime": {
     "end_time": "2020-04-17T07:06:55.910450Z",
     "start_time": "2020-04-17T07:06:55.900476Z"
    }
   },
   "outputs": [
    {
     "data": {
      "text/html": [
       "<div>\n",
       "<style scoped>\n",
       "    .dataframe tbody tr th:only-of-type {\n",
       "        vertical-align: middle;\n",
       "    }\n",
       "\n",
       "    .dataframe tbody tr th {\n",
       "        vertical-align: top;\n",
       "    }\n",
       "\n",
       "    .dataframe thead th {\n",
       "        text-align: right;\n",
       "    }\n",
       "</style>\n",
       "<table border=\"1\" class=\"dataframe\">\n",
       "  <thead>\n",
       "    <tr style=\"text-align: right;\">\n",
       "      <th></th>\n",
       "      <th>kO3_UVA_R1</th>\n",
       "      <th>kO3_UVA_R2</th>\n",
       "      <th>YO3_UVA_R1</th>\n",
       "      <th>YO3_UVA_R2</th>\n",
       "      <th>n1</th>\n",
       "      <th>n2</th>\n",
       "      <th>FScav</th>\n",
       "      <th>kO3_HO2m</th>\n",
       "      <th>kO3</th>\n",
       "      <th>kL_GO2_bub</th>\n",
       "    </tr>\n",
       "  </thead>\n",
       "  <tbody>\n",
       "    <tr>\n",
       "      <td>0</td>\n",
       "      <td>3.927654e+06</td>\n",
       "      <td>389218.086124</td>\n",
       "      <td>0.081085</td>\n",
       "      <td>0.009275</td>\n",
       "      <td>0.574778</td>\n",
       "      <td>0.134208</td>\n",
       "      <td>5.373611e+09</td>\n",
       "      <td>2.909196e+08</td>\n",
       "      <td>172.8</td>\n",
       "      <td>0.0</td>\n",
       "    </tr>\n",
       "  </tbody>\n",
       "</table>\n",
       "</div>"
      ],
      "text/plain": [
       "     kO3_UVA_R1     kO3_UVA_R2  YO3_UVA_R1  YO3_UVA_R2        n1        n2  \\\n",
       "0  3.927654e+06  389218.086124    0.081085    0.009275  0.574778  0.134208   \n",
       "\n",
       "          FScav      kO3_HO2m    kO3  kL_GO2_bub  \n",
       "0  5.373611e+09  2.909196e+08  172.8         0.0  "
      ]
     },
     "execution_count": 34,
     "metadata": {},
     "output_type": "execute_result"
    }
   ],
   "source": [
    "parasets[0:1]"
   ]
  },
  {
   "cell_type": "code",
   "execution_count": 35,
   "metadata": {
    "ExecuteTime": {
     "end_time": "2020-04-17T07:18:38.253367Z",
     "start_time": "2020-04-17T07:18:38.241398Z"
    }
   },
   "outputs": [
    {
     "data": {
      "text/html": [
       "<div>\n",
       "<style scoped>\n",
       "    .dataframe tbody tr th:only-of-type {\n",
       "        vertical-align: middle;\n",
       "    }\n",
       "\n",
       "    .dataframe tbody tr th {\n",
       "        vertical-align: top;\n",
       "    }\n",
       "\n",
       "    .dataframe thead th {\n",
       "        text-align: right;\n",
       "    }\n",
       "</style>\n",
       "<table border=\"1\" class=\"dataframe\">\n",
       "  <thead>\n",
       "    <tr style=\"text-align: right;\">\n",
       "      <th></th>\n",
       "      <th>kO3_UVA_R1</th>\n",
       "      <th>kO3_UVA_R2</th>\n",
       "      <th>YO3_UVA_R1</th>\n",
       "      <th>YO3_UVA_R2</th>\n",
       "      <th>n1</th>\n",
       "      <th>n2</th>\n",
       "      <th>FScav</th>\n",
       "      <th>kO3_HO2m</th>\n",
       "      <th>kO3</th>\n",
       "      <th>kL_GO2_bub</th>\n",
       "    </tr>\n",
       "  </thead>\n",
       "  <tbody>\n",
       "    <tr>\n",
       "      <td>1235</td>\n",
       "      <td>5.951825e+06</td>\n",
       "      <td>586583.795478</td>\n",
       "      <td>0.056139</td>\n",
       "      <td>0.004750</td>\n",
       "      <td>0.096388</td>\n",
       "      <td>0.206281</td>\n",
       "      <td>5.176174e+08</td>\n",
       "      <td>5.838889e+07</td>\n",
       "      <td>172.8</td>\n",
       "      <td>0.0</td>\n",
       "    </tr>\n",
       "    <tr>\n",
       "      <td>1236</td>\n",
       "      <td>4.244311e+06</td>\n",
       "      <td>328960.938522</td>\n",
       "      <td>0.084215</td>\n",
       "      <td>0.006531</td>\n",
       "      <td>0.415446</td>\n",
       "      <td>0.011123</td>\n",
       "      <td>6.161568e+09</td>\n",
       "      <td>1.005029e+08</td>\n",
       "      <td>172.8</td>\n",
       "      <td>0.0</td>\n",
       "    </tr>\n",
       "    <tr>\n",
       "      <td>1237</td>\n",
       "      <td>5.000310e+06</td>\n",
       "      <td>395133.335955</td>\n",
       "      <td>0.072027</td>\n",
       "      <td>0.002986</td>\n",
       "      <td>0.070585</td>\n",
       "      <td>0.148554</td>\n",
       "      <td>4.258832e+09</td>\n",
       "      <td>2.958413e+08</td>\n",
       "      <td>172.8</td>\n",
       "      <td>0.0</td>\n",
       "    </tr>\n",
       "    <tr>\n",
       "      <td>1238</td>\n",
       "      <td>5.285577e+06</td>\n",
       "      <td>389402.468421</td>\n",
       "      <td>0.044194</td>\n",
       "      <td>0.004364</td>\n",
       "      <td>0.410976</td>\n",
       "      <td>0.387960</td>\n",
       "      <td>1.382970e+09</td>\n",
       "      <td>2.062097e+08</td>\n",
       "      <td>172.8</td>\n",
       "      <td>0.0</td>\n",
       "    </tr>\n",
       "    <tr>\n",
       "      <td>1239</td>\n",
       "      <td>8.618463e+06</td>\n",
       "      <td>688383.246015</td>\n",
       "      <td>0.077672</td>\n",
       "      <td>0.004783</td>\n",
       "      <td>0.511711</td>\n",
       "      <td>0.140257</td>\n",
       "      <td>8.129286e+09</td>\n",
       "      <td>1.804734e+08</td>\n",
       "      <td>172.8</td>\n",
       "      <td>0.0</td>\n",
       "    </tr>\n",
       "  </tbody>\n",
       "</table>\n",
       "</div>"
      ],
      "text/plain": [
       "        kO3_UVA_R1     kO3_UVA_R2  YO3_UVA_R1  YO3_UVA_R2        n1        n2  \\\n",
       "1235  5.951825e+06  586583.795478    0.056139    0.004750  0.096388  0.206281   \n",
       "1236  4.244311e+06  328960.938522    0.084215    0.006531  0.415446  0.011123   \n",
       "1237  5.000310e+06  395133.335955    0.072027    0.002986  0.070585  0.148554   \n",
       "1238  5.285577e+06  389402.468421    0.044194    0.004364  0.410976  0.387960   \n",
       "1239  8.618463e+06  688383.246015    0.077672    0.004783  0.511711  0.140257   \n",
       "\n",
       "             FScav      kO3_HO2m    kO3  kL_GO2_bub  \n",
       "1235  5.176174e+08  5.838889e+07  172.8         0.0  \n",
       "1236  6.161568e+09  1.005029e+08  172.8         0.0  \n",
       "1237  4.258832e+09  2.958413e+08  172.8         0.0  \n",
       "1238  1.382970e+09  2.062097e+08  172.8         0.0  \n",
       "1239  8.129286e+09  1.804734e+08  172.8         0.0  "
      ]
     },
     "execution_count": 35,
     "metadata": {},
     "output_type": "execute_result"
    }
   ],
   "source": [
    "parasets[1235:1240]"
   ]
  },
  {
   "cell_type": "code",
   "execution_count": 17,
   "metadata": {
    "ExecuteTime": {
     "end_time": "2020-04-16T06:41:52.458940Z",
     "start_time": "2020-04-16T06:41:52.456928Z"
    }
   },
   "outputs": [],
   "source": [
    "# os.chdir(nbookDir)\n",
    "# parasets.to_pickle('./parasets_8pars_50ksamples')"
   ]
  },
  {
   "cell_type": "code",
   "execution_count": 23,
   "metadata": {
    "ExecuteTime": {
     "end_time": "2020-04-10T06:38:40.730439Z",
     "start_time": "2020-04-10T06:38:32.980555Z"
    }
   },
   "outputs": [
    {
     "data": {
      "image/png": "[encoded data removed]",
      "text/plain": [
       "<Figure size 288x288 with 20 Axes>"
      ]
     },
     "metadata": {
      "needs_background": "light"
     },
     "output_type": "display_data"
    }
   ],
   "source": [
    "sns.pairplot(param_values[problem['names']], height=1); # plotting only the sampled ones"
   ]
  },
  {
   "cell_type": "markdown",
   "metadata": {},
   "source": [
    "# Run!"
   ]
  },
  {
   "cell_type": "code",
   "execution_count": 36,
   "metadata": {
    "ExecuteTime": {
     "end_time": "2020-04-17T07:18:41.082801Z",
     "start_time": "2020-04-17T07:18:41.078806Z"
    },
    "scrolled": true,
    "slideshow": {
     "slide_type": "slide"
    }
   },
   "outputs": [],
   "source": [
    "# Get variables position\n",
    "sBentazConv_pos = sumo.core.csumo_model_get_variable_info_pos(sumo.handle, b'Sumo__Plant__BentazoneConv')\n",
    "sAtrazConv_pos = sumo.core.csumo_model_get_variable_info_pos(sumo.handle, b'Sumo__Plant__AtrazineConv')\n",
    "sIsoprConv_pos = sumo.core.csumo_model_get_variable_info_pos(sumo.handle, b'Sumo__Plant__IsoproturonConv')\n",
    "sIbuprConv_pos = sumo.core.csumo_model_get_variable_info_pos(sumo.handle, b'Sumo__Plant__IbuprofenConv')\n",
    "sMetfoConv_pos = sumo.core.csumo_model_get_variable_info_pos(sumo.handle, b'Sumo__Plant__MetforminConv')\n",
    "sCarbaConv_pos = sumo.core.csumo_model_get_variable_info_pos(sumo.handle, b'Sumo__Plant__CarbamazepineConv')\n",
    "sMetopConv_pos = sumo.core.csumo_model_get_variable_info_pos(sumo.handle, b'Sumo__Plant__MetoprololConv')\n",
    "sTrimeConv_pos = sumo.core.csumo_model_get_variable_info_pos(sumo.handle, b'Sumo__Plant__TrimethoprimConv')\n",
    "sIoproConv_pos = sumo.core.csumo_model_get_variable_info_pos(sumo.handle, b'Sumo__Plant__IopromideConv')\n",
    "sPhenaConv_pos = sumo.core.csumo_model_get_variable_info_pos(sumo.handle, b'Sumo__Plant__PhenazoneConv')\n",
    "sDicloConv_pos = sumo.core.csumo_model_get_variable_info_pos(sumo.handle, b'Sumo__Plant__DiclofenacConv')\n",
    "sUVtot_pos = sumo.core.csumo_model_get_variable_info_pos(sumo.handle, b'Sumo__Plant__CSTR8__SUVA_tot')"
   ]
  },
  {
   "cell_type": "code",
   "execution_count": 37,
   "metadata": {
    "ExecuteTime": {
     "end_time": "2020-04-17T07:18:41.845846Z",
     "start_time": "2020-04-17T07:18:41.841855Z"
    },
    "scrolled": false
   },
   "outputs": [
    {
     "name": "stdout",
     "output_type": "stream",
     "text": [
      "530021 Set: Sumo__StopTime to 300000\n",
      "530021 Set: Sumo__DataComm to 1000\n"
     ]
    }
   ],
   "source": [
    "sumo.set_stopTime(300000) # ms\n",
    "sumo.set_dataComm(1000) # ms"
   ]
  },
  {
   "cell_type": "code",
   "execution_count": 38,
   "metadata": {
    "ExecuteTime": {
     "end_time": "2020-04-17T07:22:40.441935Z",
     "start_time": "2020-04-17T07:18:43.064586Z"
    },
    "scrolled": true,
    "slideshow": {
     "slide_type": "slide"
    }
   },
   "outputs": [
    {
     "name": "stdout",
     "output_type": "stream",
     "text": [
      "Simulation 1236\n",
      "530036 Script file C:/Users/bella/AppData/Local/Dynamita/Sumo19/.tmp/r0n35aff.shk//script_Initialize.scs loaded.\n",
      "530007 Path set to: \"C:/Users/bella/AppData/Local/Dynamita/Sumo19/.tmp/r0n35aff.shk\".\n",
      "530020 Set mode: dynamic\n",
      "530021 Set: Sumo__Plant__param__Ozone_v8D__kO3 to 172.8\n",
      "530021 Set: Sumo__Plant__param__Ozone_v8D__kO3_UVA_R1 to 7.776e+06\n",
      "530021 Set: Sumo__Plant__param__Ozone_v8D__kO3_UVA_R2 to 777600\n",
      "530021 Set: Sumo__Plant__param__Ozone_v8D__YO3_UVA_R1 to 0.011\n",
      "530021 Set: Sumo__Plant__param__Ozone_v8D__YO3_UVA_R2 to 0.005\n",
      "530021 Set: Sumo__Plant__param__Ozone_v8D__n1 to 0.55\n",
      "530021 Set: Sumo__Plant__param__Ozone_v8D__n2 to 0.1\n",
      "530021 Set: Sumo__Plant__param__Ozone_v8D__kHOCl_UVA_R1 to 8.64e+08\n",
      "530021 Set: Sumo__Plant__param__Ozone_v8D__FScav to 3.456e+09\n",
      "530021 Set: Sumo__Plant__param__Ozone_v8D__kHO_dot_Atrazine to 2.16e+11\n",
      "530021 Set: Sumo__Plant__param__Ozone_v8D__kBr_dot_DOC to 8.64e+09\n",
      "530021 Set: Sumo__Plant__param__Ozone_v8D__kO3_HO2m to 2.4192e+07\n",
      "530021 Set: Sumo__Plant__param__Ozone_v8D__kO3_OHm to 6048\n",
      "530021 Set: Sumo__Plant__param__Ozone_v8D__kL_GO2_bub to 0\n",
      "530021 Set: Sumo__Plant__Influent1__param__Q to 120\n",
      "530021 Set: Sumo__Plant__Influent1__param__T to 9.7\n",
      "530021 Set: Sumo__Plant__Influent1__param__SO3 to 0\n",
      "530021 Set: Sumo__Plant__Influent1__param__SHO_dot to 0\n",
      "530021 Set: Sumo__Plant__Influent1__param__SBr to 0.0015018\n",
      "530021 Set: Sumo__Plant__Influent1__param__SNO2 to 7.14286e-05\n",
      "530021 Set: Sumo__Plant__Influent1__param__SNO3 to 0.687143\n",
      "530021 Set: Sumo__Plant__Influent1__param__SDOC to 0.208148\n",
      "530021 Set: Sumo__Plant__Influent1__param__SUVA_R1 to 2.5\n",
      "530021 Set: Sumo__Plant__Influent1__param__SUVA_R2 to 2.5\n",
      "530021 Set: Sumo__Plant__Influent1__param__SUVA_NR to 5\n",
      "530021 Set: Sumo__Plant__Influent1__param__SDiglyme to 8.19794e-05\n",
      "530021 Set: Sumo__Plant__Influent1__param__SBromacil to 4.1361e-05\n",
      "530021 Set: Sumo__Plant__Influent1__param__SBentazone to 4.95256e-05\n",
      "530021 Set: Sumo__Plant__Influent1__param__SAtrazine to 4.68286e-05\n",
      "530021 Set: Sumo__Plant__Influent1__param__SIsoproturon to 4.94426e-05\n",
      "530021 Set: Sumo__Plant__Influent1__param__SIbuprofen to 9.11338e-05\n",
      "530021 Set: Sumo__Plant__Influent1__param__SMetformin to 3.17426e-05\n",
      "530021 Set: Sumo__Plant__Influent1__param__SCarbamazepine to 2.4125e-05\n",
      "530021 Set: Sumo__Plant__Influent1__param__SMetoprolol to 2.01972e-05\n",
      "530021 Set: Sumo__Plant__Influent1__param__STrimethoprim to 1.96335e-05\n",
      "530021 Set: Sumo__Plant__Influent1__param__SIopromide to 2.27531e-06\n",
      "530021 Set: Sumo__Plant__Influent1__param__SPhenazone to 3.08141e-05\n",
      "530021 Set: Sumo__Plant__Influent1__param__SDiclofenac to 0.000106366\n",
      "530021 Set: Sumo__Plant__Influent1__param__SFurosemide to 1.6327e-05\n",
      "530021 Set: Sumo__Plant__Influent1__param__pH to 7.93\n",
      "530021 Set: Sumo__Plant__Influent1__param__SALK_input to 0.0012\n",
      "530030 TSV file \"C:/Users/bella/AppData/Local/Dynamita/Sumo19/.tmp/r0n35aff.shk/Influent1_28-09-11 PBA-PI-O3-EF.tsv\" loaded.\n",
      "530021 Set: Sumo__Plant__CSTR1__param__L_V to 0.00167\n",
      "530021 Set: Sumo__Plant__CSTR1__param__htank to 1\n",
      "530021 Set: Sumo__Plant__CSTR9_5__param__L_V to 0.000557\n",
      "530021 Set: Sumo__Plant__CSTR9_5__param__alpha to 0\n",
      "530021 Set: Sumo__Plant__CSTR9_6__param__L_V to 0.000557\n",
      "530021 Set: Sumo__Plant__CSTR9_6__param__alpha to 0\n",
      "530021 Set: Sumo__Plant__CSTR9_4__param__L_V to 0.000557\n",
      "530021 Set: Sumo__Plant__CSTR9_4__param__alpha to 0\n",
      "530021 Set: Sumo__Plant__CSTR9_3__param__L_V to 0.000557\n",
      "530021 Set: Sumo__Plant__CSTR9_3__param__alpha to 0\n",
      "530021 Set: Sumo__Plant__CSTR9_2__param__L_V to 0.000557\n",
      "530021 Set: Sumo__Plant__CSTR9_2__param__alpha to 0\n",
      "530021 Set: Sumo__Plant__CSTR9_1__param__L_V to 0.000557\n",
      "530021 Set: Sumo__Plant__CSTR9_1__param__alpha to 0\n",
      "530021 Set: Sumo__Plant__Bubblecolumn1__param__n to 2\n",
      "530022 Array Sumo__Plant__Bubblecolumn1__Acell resized to (2)\n",
      "530022 Array Sumo__Plant__Bubblecolumn1__FGO2_air resized to (2)\n",
      "530022 Array Sumo__Plant__Bubblecolumn1__FGO3_air resized to (2)\n",
      "530022 Array Sumo__Plant__Bubblecolumn1__F_H resized to (2)\n",
      "530022 Array Sumo__Plant__Bubblecolumn1__F_SAN resized to (2)\n",
      "530040 Multiple arrays got resized.\n",
      "530021 Set: Sumo__Plant__CSTR8__param__L_V to 0.0001\n",
      "530021 Set: Sumo__Plant__CSTR8__param__htank to 0.001\n",
      "530021 Set: Sumo__Plant__CSTR8__param__GO2_air_inp to 0\n",
      "530021 Set: Sumo__Plant__CSTR8__param__GO3_air_inp to 0\n",
      "530021 Set: Sumo__Plant__CSTR9__param__L_V to 0.000557\n",
      "530021 Set: Sumo__Plant__CSTR10__param__L_V to 0.000557\n",
      "530021 Set: Sumo__Plant__CSTR10__param__alpha to 0\n",
      "530021 Set: Sumo__Plant__CSTR11__param__L_V to 0.000557\n",
      "530021 Set: Sumo__Plant__CSTR13__param__L_V to 0.000557\n",
      "530021 Set: Sumo__Plant__CSTR13__param__alpha to 0\n",
      "530021 Set: Sumo__Plant__CSTR14__param__L_V to 0.000557\n",
      "530021 Set: Sumo__Plant__CSTR14__param__alpha to 0\n",
      "530021 Set: Sumo__Plant__CSTR15__param__L_V to 0.000557\n",
      "530021 Set: Sumo__Plant__CSTR15__param__alpha to 0\n",
      "530021 Set: Sumo__Plant__CSTR16__param__L_V to 0.000557\n",
      "530021 Set: Sumo__Plant__CSTR17__param__L_V to 0.000557\n",
      "530021 Set: Sumo__Plant__CSTR17__param__alpha to 0\n",
      "530021 Set: Sumo__Plant__CSTR18__param__L_V to 0.000557\n",
      "530021 Set: Sumo__Plant__CSTR19__param__L_V to 0.000557\n",
      "530021 Set: Sumo__Plant__CSTR19__param__alpha to 0\n",
      "530021 Set: Sumo__Plant__CSTR20__param__L_V to 0.000557\n",
      "530021 Set: Sumo__Plant__CSTR20__param__alpha to 0\n",
      "530021 Set: Sumo__Plant__CSTR21__param__L_V to 0.000557\n",
      "530021 Set: Sumo__Plant__CSTR21__param__alpha to 0\n",
      "530021 Set: Sumo__Plant__Water1__param__SCO2 to 31\n",
      "530021 Set: Sumo__Plant__Water1__param__SAN to 150\n",
      "530021 Set: Sumo__Plant__Water1__param__SCAT to 35\n",
      "530021 Set: Sumo__Plant__Water1_1__param__SCO2 to 31\n",
      "530021 Set: Sumo__Plant__Water1_1__param__SAN to 150\n",
      "530021 Set: Sumo__Plant__Water1_1__param__SCAT to 35\n",
      "530021 Set: Sumo__Plant__Water1_2__param__Q to 0.0001\n",
      "530021 Set: Sumo__Plant__Water1_2__param__SCO2 to 31.3\n",
      "530021 Set: Sumo__Plant__Water1_2__param__SAN to 150\n",
      "530021 Set: Sumo__Plant__Water1_2__param__SCAT to 35\n",
      "530021 Set: Sumo__Plant__Water1_3__param__Q to 0.0001\n",
      "530021 Set: Sumo__Plant__Water1_3__param__SCO2 to 31.3\n",
      "530021 Set: Sumo__Plant__Water1_3__param__SAN to 150\n",
      "530021 Set: Sumo__Plant__Water1_3__param__SCAT to 35\n",
      "530021 Set: Sumo__Plant__Water1_4__param__Q to 0.0001\n",
      "530021 Set: Sumo__Plant__Water1_4__param__SCO2 to 31.3\n",
      "530021 Set: Sumo__Plant__Water1_4__param__SAN to 150\n",
      "530021 Set: Sumo__Plant__Water1_4__param__SCAT to 35\n",
      "530021 Set: Sumo__Plant__Water1_5__param__Q to 0.0001\n",
      "530021 Set: Sumo__Plant__Water1_5__param__SCO2 to 31.3\n",
      "530021 Set: Sumo__Plant__Water1_5__param__SAN to 150\n",
      "530021 Set: Sumo__Plant__Water1_5__param__SCAT to 35\n",
      "530036 Script file ./scenario.scs loaded.\n",
      "530021 Set: Sumo__Plant__Influent1__param__SH2O2x to 0.176394\n",
      "530021 Set: Sumo__Plant__Water1_3__param__SO3 to 9375.01\n",
      "530021 Set: Sumo__Plant__Water1_5__param__SO3 to 9375.01\n",
      "530021 Set: Sumo__Plant__Water1_2__param__SO3 to 9375.01\n",
      "530021 Set: Sumo__Plant__Water1_4__param__SO3 to 9375.01\n",
      "530019 Mapping to initial conditions.\n",
      "530041 Systemstate loaded from \"./lastrun.ss\".\n",
      "530036 Script file ./userscript.txt loaded.\n",
      "530021 Set: Sumo__AbsODETolerance to 1e-14\n",
      "530021 Set: Sumo__Plant__param__Ozone_v8D__kO3_UVA_R1 to 5.95182e+06\n",
      "530021 Set: Sumo__Plant__param__Ozone_v8D__kO3_UVA_R2 to 586584\n",
      "530021 Set: Sumo__Plant__param__Ozone_v8D__YO3_UVA_R1 to 0.0561386\n",
      "530021 Set: Sumo__Plant__param__Ozone_v8D__YO3_UVA_R2 to 0.00475022\n",
      "530021 Set: Sumo__Plant__param__Ozone_v8D__n1 to 0.0963877\n",
      "530021 Set: Sumo__Plant__param__Ozone_v8D__n2 to 0.206281\n",
      "530021 Set: Sumo__Plant__param__Ozone_v8D__FScav to 5.17617e+08\n",
      "530021 Set: Sumo__Plant__param__Ozone_v8D__kO3_HO2m to 5.83889e+07\n",
      "530021 Set: Sumo__Plant__param__Ozone_v8D__kO3 to 172.8\n",
      "530021 Set: Sumo__Plant__param__Ozone_v8D__kL_GO2_bub to 0\n",
      "530002 Simulation started.\n",
      "530004 Simulation ended.\n",
      "Simulation 1237\n",
      "530036 Script file C:/Users/bella/AppData/Local/Dynamita/Sumo19/.tmp/r0n35aff.shk//script_Initialize.scs loaded.\n",
      "530007 Path set to: \"C:/Users/bella/AppData/Local/Dynamita/Sumo19/.tmp/r0n35aff.shk\".\n",
      "530020 Set mode: dynamic\n",
      "530021 Set: Sumo__Plant__param__Ozone_v8D__kO3 to 172.8\n",
      "530021 Set: Sumo__Plant__param__Ozone_v8D__kO3_UVA_R1 to 7.776e+06\n",
      "530021 Set: Sumo__Plant__param__Ozone_v8D__kO3_UVA_R2 to 777600\n",
      "530021 Set: Sumo__Plant__param__Ozone_v8D__YO3_UVA_R1 to 0.011\n",
      "530021 Set: Sumo__Plant__param__Ozone_v8D__YO3_UVA_R2 to 0.005\n",
      "530021 Set: Sumo__Plant__param__Ozone_v8D__n1 to 0.55\n",
      "530021 Set: Sumo__Plant__param__Ozone_v8D__n2 to 0.1\n",
      "530021 Set: Sumo__Plant__param__Ozone_v8D__kHOCl_UVA_R1 to 8.64e+08\n",
      "530021 Set: Sumo__Plant__param__Ozone_v8D__FScav to 3.456e+09\n",
      "530021 Set: Sumo__Plant__param__Ozone_v8D__kHO_dot_Atrazine to 2.16e+11\n",
      "530021 Set: Sumo__Plant__param__Ozone_v8D__kBr_dot_DOC to 8.64e+09\n",
      "530021 Set: Sumo__Plant__param__Ozone_v8D__kO3_HO2m to 2.4192e+07\n",
      "530021 Set: Sumo__Plant__param__Ozone_v8D__kO3_OHm to 6048\n",
      "530021 Set: Sumo__Plant__param__Ozone_v8D__kL_GO2_bub to 0\n",
      "530021 Set: Sumo__Plant__Influent1__param__Q to 120\n",
      "530021 Set: Sumo__Plant__Influent1__param__T to 9.7\n",
      "530021 Set: Sumo__Plant__Influent1__param__SO3 to 0\n",
      "530021 Set: Sumo__Plant__Influent1__param__SHO_dot to 0\n",
      "530021 Set: Sumo__Plant__Influent1__param__SBr to 0.0015018\n",
      "530021 Set: Sumo__Plant__Influent1__param__SNO2 to 7.14286e-05\n",
      "530021 Set: Sumo__Plant__Influent1__param__SNO3 to 0.687143\n",
      "530021 Set: Sumo__Plant__Influent1__param__SDOC to 0.208148\n",
      "530021 Set: Sumo__Plant__Influent1__param__SUVA_R1 to 2.5\n",
      "530021 Set: Sumo__Plant__Influent1__param__SUVA_R2 to 2.5\n",
      "530021 Set: Sumo__Plant__Influent1__param__SUVA_NR to 5\n",
      "530021 Set: Sumo__Plant__Influent1__param__SDiglyme to 8.19794e-05\n",
      "530021 Set: Sumo__Plant__Influent1__param__SBromacil to 4.1361e-05\n",
      "530021 Set: Sumo__Plant__Influent1__param__SBentazone to 4.95256e-05\n",
      "530021 Set: Sumo__Plant__Influent1__param__SAtrazine to 4.68286e-05\n",
      "530021 Set: Sumo__Plant__Influent1__param__SIsoproturon to 4.94426e-05\n",
      "530021 Set: Sumo__Plant__Influent1__param__SIbuprofen to 9.11338e-05\n",
      "530021 Set: Sumo__Plant__Influent1__param__SMetformin to 3.17426e-05\n",
      "530021 Set: Sumo__Plant__Influent1__param__SCarbamazepine to 2.4125e-05\n",
      "530021 Set: Sumo__Plant__Influent1__param__SMetoprolol to 2.01972e-05\n",
      "530021 Set: Sumo__Plant__Influent1__param__STrimethoprim to 1.96335e-05\n",
      "530021 Set: Sumo__Plant__Influent1__param__SIopromide to 2.27531e-06\n",
      "530021 Set: Sumo__Plant__Influent1__param__SPhenazone to 3.08141e-05\n",
      "530021 Set: Sumo__Plant__Influent1__param__SDiclofenac to 0.000106366\n",
      "530021 Set: Sumo__Plant__Influent1__param__SFurosemide to 1.6327e-05\n",
      "530021 Set: Sumo__Plant__Influent1__param__pH to 7.93\n",
      "530021 Set: Sumo__Plant__Influent1__param__SALK_input to 0.0012\n",
      "230034 (loadtsv) TSV file \"C:/Users/bella/AppData/Local/Dynamita/Sumo19/.tmp/r0n35aff.shk/Influent1_28-09-11 PBA-PI-O3-EF.tsv\" is already loaded. Unload it first.\n",
      "530021 Set: Sumo__Plant__CSTR1__param__L_V to 0.00167\n",
      "530021 Set: Sumo__Plant__CSTR1__param__htank to 1\n",
      "530021 Set: Sumo__Plant__CSTR9_5__param__L_V to 0.000557\n",
      "530021 Set: Sumo__Plant__CSTR9_5__param__alpha to 0\n",
      "530021 Set: Sumo__Plant__CSTR9_6__param__L_V to 0.000557\n",
      "530021 Set: Sumo__Plant__CSTR9_6__param__alpha to 0\n",
      "530021 Set: Sumo__Plant__CSTR9_4__param__L_V to 0.000557\n",
      "530021 Set: Sumo__Plant__CSTR9_4__param__alpha to 0\n",
      "530021 Set: Sumo__Plant__CSTR9_3__param__L_V to 0.000557\n",
      "530021 Set: Sumo__Plant__CSTR9_3__param__alpha to 0\n",
      "530021 Set: Sumo__Plant__CSTR9_2__param__L_V to 0.000557\n",
      "530021 Set: Sumo__Plant__CSTR9_2__param__alpha to 0\n",
      "530021 Set: Sumo__Plant__CSTR9_1__param__L_V to 0.000557\n",
      "530021 Set: Sumo__Plant__CSTR9_1__param__alpha to 0\n",
      "530021 Set: Sumo__Plant__Bubblecolumn1__param__n to 2\n",
      "530022 Array Sumo__Plant__Bubblecolumn1__Acell resized to (2)\n",
      "530022 Array Sumo__Plant__Bubblecolumn1__FGO2_air resized to (2)\n",
      "530022 Array Sumo__Plant__Bubblecolumn1__FGO3_air resized to (2)\n",
      "530022 Array Sumo__Plant__Bubblecolumn1__F_H resized to (2)\n",
      "530022 Array Sumo__Plant__Bubblecolumn1__F_SAN resized to (2)\n",
      "530040 Multiple arrays got resized.\n",
      "530021 Set: Sumo__Plant__CSTR8__param__L_V to 0.0001\n",
      "530021 Set: Sumo__Plant__CSTR8__param__htank to 0.001\n",
      "530021 Set: Sumo__Plant__CSTR8__param__GO2_air_inp to 0\n",
      "530021 Set: Sumo__Plant__CSTR8__param__GO3_air_inp to 0\n",
      "530021 Set: Sumo__Plant__CSTR9__param__L_V to 0.000557\n",
      "530021 Set: Sumo__Plant__CSTR10__param__L_V to 0.000557\n",
      "530021 Set: Sumo__Plant__CSTR10__param__alpha to 0\n",
      "530021 Set: Sumo__Plant__CSTR11__param__L_V to 0.000557\n",
      "530021 Set: Sumo__Plant__CSTR13__param__L_V to 0.000557\n",
      "530021 Set: Sumo__Plant__CSTR13__param__alpha to 0\n",
      "530021 Set: Sumo__Plant__CSTR14__param__L_V to 0.000557\n",
      "530021 Set: Sumo__Plant__CSTR14__param__alpha to 0\n",
      "530021 Set: Sumo__Plant__CSTR15__param__L_V to 0.000557\n",
      "530021 Set: Sumo__Plant__CSTR15__param__alpha to 0\n",
      "530021 Set: Sumo__Plant__CSTR16__param__L_V to 0.000557\n",
      "530021 Set: Sumo__Plant__CSTR17__param__L_V to 0.000557\n",
      "530021 Set: Sumo__Plant__CSTR17__param__alpha to 0\n",
      "530021 Set: Sumo__Plant__CSTR18__param__L_V to 0.000557\n",
      "530021 Set: Sumo__Plant__CSTR19__param__L_V to 0.000557\n",
      "530021 Set: Sumo__Plant__CSTR19__param__alpha to 0\n",
      "530021 Set: Sumo__Plant__CSTR20__param__L_V to 0.000557\n",
      "530021 Set: Sumo__Plant__CSTR20__param__alpha to 0\n",
      "530021 Set: Sumo__Plant__CSTR21__param__L_V to 0.000557\n",
      "530021 Set: Sumo__Plant__CSTR21__param__alpha to 0\n",
      "530021 Set: Sumo__Plant__Water1__param__SCO2 to 31\n",
      "530021 Set: Sumo__Plant__Water1__param__SAN to 150\n",
      "530021 Set: Sumo__Plant__Water1__param__SCAT to 35\n",
      "530021 Set: Sumo__Plant__Water1_1__param__SCO2 to 31\n",
      "530021 Set: Sumo__Plant__Water1_1__param__SAN to 150\n",
      "530021 Set: Sumo__Plant__Water1_1__param__SCAT to 35\n",
      "530021 Set: Sumo__Plant__Water1_2__param__Q to 0.0001\n",
      "530021 Set: Sumo__Plant__Water1_2__param__SCO2 to 31.3\n",
      "530021 Set: Sumo__Plant__Water1_2__param__SAN to 150\n",
      "530021 Set: Sumo__Plant__Water1_2__param__SCAT to 35\n",
      "530021 Set: Sumo__Plant__Water1_3__param__Q to 0.0001\n",
      "530021 Set: Sumo__Plant__Water1_3__param__SCO2 to 31.3\n",
      "530021 Set: Sumo__Plant__Water1_3__param__SAN to 150\n",
      "530021 Set: Sumo__Plant__Water1_3__param__SCAT to 35\n",
      "530021 Set: Sumo__Plant__Water1_4__param__Q to 0.0001\n",
      "530021 Set: Sumo__Plant__Water1_4__param__SCO2 to 31.3\n",
      "530021 Set: Sumo__Plant__Water1_4__param__SAN to 150\n",
      "530021 Set: Sumo__Plant__Water1_4__param__SCAT to 35\n",
      "530021 Set: Sumo__Plant__Water1_5__param__Q to 0.0001\n",
      "530021 Set: Sumo__Plant__Water1_5__param__SCO2 to 31.3\n",
      "530021 Set: Sumo__Plant__Water1_5__param__SAN to 150\n",
      "530021 Set: Sumo__Plant__Water1_5__param__SCAT to 35\n",
      "530036 Script file ./scenario.scs loaded.\n",
      "530021 Set: Sumo__Plant__Influent1__param__SH2O2x to 0.176394\n",
      "530021 Set: Sumo__Plant__Water1_3__param__SO3 to 9375.01\n",
      "530021 Set: Sumo__Plant__Water1_5__param__SO3 to 9375.01\n",
      "530021 Set: Sumo__Plant__Water1_2__param__SO3 to 9375.01\n",
      "530021 Set: Sumo__Plant__Water1_4__param__SO3 to 9375.01\n",
      "530019 Mapping to initial conditions.\n",
      "530041 Systemstate loaded from \"./lastrun.ss\".\n",
      "530036 Script file ./userscript.txt loaded.\n",
      "530021 Set: Sumo__AbsODETolerance to 1e-14\n",
      "530021 Set: Sumo__Plant__param__Ozone_v8D__kO3_UVA_R1 to 4.24431e+06\n",
      "530021 Set: Sumo__Plant__param__Ozone_v8D__kO3_UVA_R2 to 328961\n",
      "530021 Set: Sumo__Plant__param__Ozone_v8D__YO3_UVA_R1 to 0.0842152\n",
      "530021 Set: Sumo__Plant__param__Ozone_v8D__YO3_UVA_R2 to 0.00653134\n",
      "530021 Set: Sumo__Plant__param__Ozone_v8D__n1 to 0.415446\n",
      "530021 Set: Sumo__Plant__param__Ozone_v8D__n2 to 0.0111227\n",
      "530021 Set: Sumo__Plant__param__Ozone_v8D__FScav to 6.16157e+09\n",
      "530021 Set: Sumo__Plant__param__Ozone_v8D__kO3_HO2m to 1.00503e+08\n",
      "530021 Set: Sumo__Plant__param__Ozone_v8D__kO3 to 172.8\n",
      "530021 Set: Sumo__Plant__param__Ozone_v8D__kL_GO2_bub to 0\n",
      "530002 Simulation started.\n"
     ]
    },
    {
     "name": "stdout",
     "output_type": "stream",
     "text": [
      "530004 Simulation ended.\n",
      "Simulation 1238\n",
      "530036 Script file C:/Users/bella/AppData/Local/Dynamita/Sumo19/.tmp/r0n35aff.shk//script_Initialize.scs loaded.\n",
      "530007 Path set to: \"C:/Users/bella/AppData/Local/Dynamita/Sumo19/.tmp/r0n35aff.shk\".\n",
      "530020 Set mode: dynamic\n",
      "530021 Set: Sumo__Plant__param__Ozone_v8D__kO3 to 172.8\n",
      "530021 Set: Sumo__Plant__param__Ozone_v8D__kO3_UVA_R1 to 7.776e+06\n",
      "530021 Set: Sumo__Plant__param__Ozone_v8D__kO3_UVA_R2 to 777600\n",
      "530021 Set: Sumo__Plant__param__Ozone_v8D__YO3_UVA_R1 to 0.011\n",
      "530021 Set: Sumo__Plant__param__Ozone_v8D__YO3_UVA_R2 to 0.005\n",
      "530021 Set: Sumo__Plant__param__Ozone_v8D__n1 to 0.55\n",
      "530021 Set: Sumo__Plant__param__Ozone_v8D__n2 to 0.1\n",
      "530021 Set: Sumo__Plant__param__Ozone_v8D__kHOCl_UVA_R1 to 8.64e+08\n",
      "530021 Set: Sumo__Plant__param__Ozone_v8D__FScav to 3.456e+09\n",
      "530021 Set: Sumo__Plant__param__Ozone_v8D__kHO_dot_Atrazine to 2.16e+11\n",
      "530021 Set: Sumo__Plant__param__Ozone_v8D__kBr_dot_DOC to 8.64e+09\n",
      "530021 Set: Sumo__Plant__param__Ozone_v8D__kO3_HO2m to 2.4192e+07\n",
      "530021 Set: Sumo__Plant__param__Ozone_v8D__kO3_OHm to 6048\n",
      "530021 Set: Sumo__Plant__param__Ozone_v8D__kL_GO2_bub to 0\n",
      "530021 Set: Sumo__Plant__Influent1__param__Q to 120\n",
      "530021 Set: Sumo__Plant__Influent1__param__T to 9.7\n",
      "530021 Set: Sumo__Plant__Influent1__param__SO3 to 0\n",
      "530021 Set: Sumo__Plant__Influent1__param__SHO_dot to 0\n",
      "530021 Set: Sumo__Plant__Influent1__param__SBr to 0.0015018\n",
      "530021 Set: Sumo__Plant__Influent1__param__SNO2 to 7.14286e-05\n",
      "530021 Set: Sumo__Plant__Influent1__param__SNO3 to 0.687143\n",
      "530021 Set: Sumo__Plant__Influent1__param__SDOC to 0.208148\n",
      "530021 Set: Sumo__Plant__Influent1__param__SUVA_R1 to 2.5\n",
      "530021 Set: Sumo__Plant__Influent1__param__SUVA_R2 to 2.5\n",
      "530021 Set: Sumo__Plant__Influent1__param__SUVA_NR to 5\n",
      "530021 Set: Sumo__Plant__Influent1__param__SDiglyme to 8.19794e-05\n",
      "530021 Set: Sumo__Plant__Influent1__param__SBromacil to 4.1361e-05\n",
      "530021 Set: Sumo__Plant__Influent1__param__SBentazone to 4.95256e-05\n",
      "530021 Set: Sumo__Plant__Influent1__param__SAtrazine to 4.68286e-05\n",
      "530021 Set: Sumo__Plant__Influent1__param__SIsoproturon to 4.94426e-05\n",
      "530021 Set: Sumo__Plant__Influent1__param__SIbuprofen to 9.11338e-05\n",
      "530021 Set: Sumo__Plant__Influent1__param__SMetformin to 3.17426e-05\n",
      "530021 Set: Sumo__Plant__Influent1__param__SCarbamazepine to 2.4125e-05\n",
      "530021 Set: Sumo__Plant__Influent1__param__SMetoprolol to 2.01972e-05\n",
      "530021 Set: Sumo__Plant__Influent1__param__STrimethoprim to 1.96335e-05\n",
      "530021 Set: Sumo__Plant__Influent1__param__SIopromide to 2.27531e-06\n",
      "530021 Set: Sumo__Plant__Influent1__param__SPhenazone to 3.08141e-05\n",
      "530021 Set: Sumo__Plant__Influent1__param__SDiclofenac to 0.000106366\n",
      "530021 Set: Sumo__Plant__Influent1__param__SFurosemide to 1.6327e-05\n",
      "530021 Set: Sumo__Plant__Influent1__param__pH to 7.93\n",
      "530021 Set: Sumo__Plant__Influent1__param__SALK_input to 0.0012\n",
      "230034 (loadtsv) TSV file \"C:/Users/bella/AppData/Local/Dynamita/Sumo19/.tmp/r0n35aff.shk/Influent1_28-09-11 PBA-PI-O3-EF.tsv\" is already loaded. Unload it first.\n",
      "530021 Set: Sumo__Plant__CSTR1__param__L_V to 0.00167\n",
      "530021 Set: Sumo__Plant__CSTR1__param__htank to 1\n",
      "530021 Set: Sumo__Plant__CSTR9_5__param__L_V to 0.000557\n",
      "530021 Set: Sumo__Plant__CSTR9_5__param__alpha to 0\n",
      "530021 Set: Sumo__Plant__CSTR9_6__param__L_V to 0.000557\n",
      "530021 Set: Sumo__Plant__CSTR9_6__param__alpha to 0\n",
      "530021 Set: Sumo__Plant__CSTR9_4__param__L_V to 0.000557\n",
      "530021 Set: Sumo__Plant__CSTR9_4__param__alpha to 0\n",
      "530021 Set: Sumo__Plant__CSTR9_3__param__L_V to 0.000557\n",
      "530021 Set: Sumo__Plant__CSTR9_3__param__alpha to 0\n",
      "530021 Set: Sumo__Plant__CSTR9_2__param__L_V to 0.000557\n",
      "530021 Set: Sumo__Plant__CSTR9_2__param__alpha to 0\n",
      "530021 Set: Sumo__Plant__CSTR9_1__param__L_V to 0.000557\n",
      "530021 Set: Sumo__Plant__CSTR9_1__param__alpha to 0\n",
      "530021 Set: Sumo__Plant__Bubblecolumn1__param__n to 2\n",
      "530022 Array Sumo__Plant__Bubblecolumn1__Acell resized to (2)\n",
      "530022 Array Sumo__Plant__Bubblecolumn1__FGO2_air resized to (2)\n",
      "530022 Array Sumo__Plant__Bubblecolumn1__FGO3_air resized to (2)\n",
      "530022 Array Sumo__Plant__Bubblecolumn1__F_H resized to (2)\n",
      "530022 Array Sumo__Plant__Bubblecolumn1__F_SAN resized to (2)\n",
      "530040 Multiple arrays got resized.\n",
      "530021 Set: Sumo__Plant__CSTR8__param__L_V to 0.0001\n",
      "530021 Set: Sumo__Plant__CSTR8__param__htank to 0.001\n",
      "530021 Set: Sumo__Plant__CSTR8__param__GO2_air_inp to 0\n",
      "530021 Set: Sumo__Plant__CSTR8__param__GO3_air_inp to 0\n",
      "530021 Set: Sumo__Plant__CSTR9__param__L_V to 0.000557\n",
      "530021 Set: Sumo__Plant__CSTR10__param__L_V to 0.000557\n",
      "530021 Set: Sumo__Plant__CSTR10__param__alpha to 0\n",
      "530021 Set: Sumo__Plant__CSTR11__param__L_V to 0.000557\n",
      "530021 Set: Sumo__Plant__CSTR13__param__L_V to 0.000557\n",
      "530021 Set: Sumo__Plant__CSTR13__param__alpha to 0\n",
      "530021 Set: Sumo__Plant__CSTR14__param__L_V to 0.000557\n",
      "530021 Set: Sumo__Plant__CSTR14__param__alpha to 0\n",
      "530021 Set: Sumo__Plant__CSTR15__param__L_V to 0.000557\n",
      "530021 Set: Sumo__Plant__CSTR15__param__alpha to 0\n",
      "530021 Set: Sumo__Plant__CSTR16__param__L_V to 0.000557\n",
      "530021 Set: Sumo__Plant__CSTR17__param__L_V to 0.000557\n",
      "530021 Set: Sumo__Plant__CSTR17__param__alpha to 0\n",
      "530021 Set: Sumo__Plant__CSTR18__param__L_V to 0.000557\n",
      "530021 Set: Sumo__Plant__CSTR19__param__L_V to 0.000557\n",
      "530021 Set: Sumo__Plant__CSTR19__param__alpha to 0\n",
      "530021 Set: Sumo__Plant__CSTR20__param__L_V to 0.000557\n",
      "530021 Set: Sumo__Plant__CSTR20__param__alpha to 0\n",
      "530021 Set: Sumo__Plant__CSTR21__param__L_V to 0.000557\n",
      "530021 Set: Sumo__Plant__CSTR21__param__alpha to 0\n",
      "530021 Set: Sumo__Plant__Water1__param__SCO2 to 31\n",
      "530021 Set: Sumo__Plant__Water1__param__SAN to 150\n",
      "530021 Set: Sumo__Plant__Water1__param__SCAT to 35\n",
      "530021 Set: Sumo__Plant__Water1_1__param__SCO2 to 31\n",
      "530021 Set: Sumo__Plant__Water1_1__param__SAN to 150\n",
      "530021 Set: Sumo__Plant__Water1_1__param__SCAT to 35\n",
      "530021 Set: Sumo__Plant__Water1_2__param__Q to 0.0001\n",
      "530021 Set: Sumo__Plant__Water1_2__param__SCO2 to 31.3\n",
      "530021 Set: Sumo__Plant__Water1_2__param__SAN to 150\n",
      "530021 Set: Sumo__Plant__Water1_2__param__SCAT to 35\n",
      "530021 Set: Sumo__Plant__Water1_3__param__Q to 0.0001\n",
      "530021 Set: Sumo__Plant__Water1_3__param__SCO2 to 31.3\n",
      "530021 Set: Sumo__Plant__Water1_3__param__SAN to 150\n",
      "530021 Set: Sumo__Plant__Water1_3__param__SCAT to 35\n",
      "530021 Set: Sumo__Plant__Water1_4__param__Q to 0.0001\n",
      "530021 Set: Sumo__Plant__Water1_4__param__SCO2 to 31.3\n",
      "530021 Set: Sumo__Plant__Water1_4__param__SAN to 150\n",
      "530021 Set: Sumo__Plant__Water1_4__param__SCAT to 35\n",
      "530021 Set: Sumo__Plant__Water1_5__param__Q to 0.0001\n",
      "530021 Set: Sumo__Plant__Water1_5__param__SCO2 to 31.3\n",
      "530021 Set: Sumo__Plant__Water1_5__param__SAN to 150\n",
      "530021 Set: Sumo__Plant__Water1_5__param__SCAT to 35\n",
      "530036 Script file ./scenario.scs loaded.\n",
      "530021 Set: Sumo__Plant__Influent1__param__SH2O2x to 0.176394\n",
      "530021 Set: Sumo__Plant__Water1_3__param__SO3 to 9375.01\n",
      "530021 Set: Sumo__Plant__Water1_5__param__SO3 to 9375.01\n",
      "530021 Set: Sumo__Plant__Water1_2__param__SO3 to 9375.01\n",
      "530021 Set: Sumo__Plant__Water1_4__param__SO3 to 9375.01\n",
      "530019 Mapping to initial conditions.\n",
      "530041 Systemstate loaded from \"./lastrun.ss\".\n",
      "530036 Script file ./userscript.txt loaded.\n",
      "530021 Set: Sumo__AbsODETolerance to 1e-14\n",
      "530021 Set: Sumo__Plant__param__Ozone_v8D__kO3_UVA_R1 to 5.00031e+06\n",
      "530021 Set: Sumo__Plant__param__Ozone_v8D__kO3_UVA_R2 to 395133\n",
      "530021 Set: Sumo__Plant__param__Ozone_v8D__YO3_UVA_R1 to 0.0720272\n",
      "530021 Set: Sumo__Plant__param__Ozone_v8D__YO3_UVA_R2 to 0.00298555\n",
      "530021 Set: Sumo__Plant__param__Ozone_v8D__n1 to 0.0705849\n",
      "530021 Set: Sumo__Plant__param__Ozone_v8D__n2 to 0.148554\n",
      "530021 Set: Sumo__Plant__param__Ozone_v8D__FScav to 4.25883e+09\n",
      "530021 Set: Sumo__Plant__param__Ozone_v8D__kO3_HO2m to 2.95841e+08\n",
      "530021 Set: Sumo__Plant__param__Ozone_v8D__kO3 to 172.8\n",
      "530021 Set: Sumo__Plant__param__Ozone_v8D__kL_GO2_bub to 0\n",
      "530002 Simulation started.\n",
      "530004 Simulation ended.\n",
      "Simulation 1239\n",
      "530036 Script file C:/Users/bella/AppData/Local/Dynamita/Sumo19/.tmp/r0n35aff.shk//script_Initialize.scs loaded.\n",
      "530007 Path set to: \"C:/Users/bella/AppData/Local/Dynamita/Sumo19/.tmp/r0n35aff.shk\".\n",
      "530020 Set mode: dynamic\n",
      "530021 Set: Sumo__Plant__param__Ozone_v8D__kO3 to 172.8\n",
      "530021 Set: Sumo__Plant__param__Ozone_v8D__kO3_UVA_R1 to 7.776e+06\n",
      "530021 Set: Sumo__Plant__param__Ozone_v8D__kO3_UVA_R2 to 777600\n",
      "530021 Set: Sumo__Plant__param__Ozone_v8D__YO3_UVA_R1 to 0.011\n",
      "530021 Set: Sumo__Plant__param__Ozone_v8D__YO3_UVA_R2 to 0.005\n",
      "530021 Set: Sumo__Plant__param__Ozone_v8D__n1 to 0.55\n",
      "530021 Set: Sumo__Plant__param__Ozone_v8D__n2 to 0.1\n",
      "530021 Set: Sumo__Plant__param__Ozone_v8D__kHOCl_UVA_R1 to 8.64e+08\n",
      "530021 Set: Sumo__Plant__param__Ozone_v8D__FScav to 3.456e+09\n",
      "530021 Set: Sumo__Plant__param__Ozone_v8D__kHO_dot_Atrazine to 2.16e+11\n",
      "530021 Set: Sumo__Plant__param__Ozone_v8D__kBr_dot_DOC to 8.64e+09\n",
      "530021 Set: Sumo__Plant__param__Ozone_v8D__kO3_HO2m to 2.4192e+07\n",
      "530021 Set: Sumo__Plant__param__Ozone_v8D__kO3_OHm to 6048\n",
      "530021 Set: Sumo__Plant__param__Ozone_v8D__kL_GO2_bub to 0\n",
      "530021 Set: Sumo__Plant__Influent1__param__Q to 120\n",
      "530021 Set: Sumo__Plant__Influent1__param__T to 9.7\n",
      "530021 Set: Sumo__Plant__Influent1__param__SO3 to 0\n",
      "530021 Set: Sumo__Plant__Influent1__param__SHO_dot to 0\n",
      "530021 Set: Sumo__Plant__Influent1__param__SBr to 0.0015018\n",
      "530021 Set: Sumo__Plant__Influent1__param__SNO2 to 7.14286e-05\n",
      "530021 Set: Sumo__Plant__Influent1__param__SNO3 to 0.687143\n",
      "530021 Set: Sumo__Plant__Influent1__param__SDOC to 0.208148\n",
      "530021 Set: Sumo__Plant__Influent1__param__SUVA_R1 to 2.5\n",
      "530021 Set: Sumo__Plant__Influent1__param__SUVA_R2 to 2.5\n",
      "530021 Set: Sumo__Plant__Influent1__param__SUVA_NR to 5\n",
      "530021 Set: Sumo__Plant__Influent1__param__SDiglyme to 8.19794e-05\n",
      "530021 Set: Sumo__Plant__Influent1__param__SBromacil to 4.1361e-05\n",
      "530021 Set: Sumo__Plant__Influent1__param__SBentazone to 4.95256e-05\n",
      "530021 Set: Sumo__Plant__Influent1__param__SAtrazine to 4.68286e-05\n",
      "530021 Set: Sumo__Plant__Influent1__param__SIsoproturon to 4.94426e-05\n",
      "530021 Set: Sumo__Plant__Influent1__param__SIbuprofen to 9.11338e-05\n",
      "530021 Set: Sumo__Plant__Influent1__param__SMetformin to 3.17426e-05\n",
      "530021 Set: Sumo__Plant__Influent1__param__SCarbamazepine to 2.4125e-05\n",
      "530021 Set: Sumo__Plant__Influent1__param__SMetoprolol to 2.01972e-05\n",
      "530021 Set: Sumo__Plant__Influent1__param__STrimethoprim to 1.96335e-05\n",
      "530021 Set: Sumo__Plant__Influent1__param__SIopromide to 2.27531e-06\n",
      "530021 Set: Sumo__Plant__Influent1__param__SPhenazone to 3.08141e-05\n",
      "530021 Set: Sumo__Plant__Influent1__param__SDiclofenac to 0.000106366\n",
      "530021 Set: Sumo__Plant__Influent1__param__SFurosemide to 1.6327e-05\n",
      "530021 Set: Sumo__Plant__Influent1__param__pH to 7.93\n",
      "530021 Set: Sumo__Plant__Influent1__param__SALK_input to 0.0012\n",
      "230034 (loadtsv) TSV file \"C:/Users/bella/AppData/Local/Dynamita/Sumo19/.tmp/r0n35aff.shk/Influent1_28-09-11 PBA-PI-O3-EF.tsv\" is already loaded. Unload it first.\n",
      "530021 Set: Sumo__Plant__CSTR1__param__L_V to 0.00167\n",
      "530021 Set: Sumo__Plant__CSTR1__param__htank to 1\n",
      "530021 Set: Sumo__Plant__CSTR9_5__param__L_V to 0.000557\n",
      "530021 Set: Sumo__Plant__CSTR9_5__param__alpha to 0\n",
      "530021 Set: Sumo__Plant__CSTR9_6__param__L_V to 0.000557\n",
      "530021 Set: Sumo__Plant__CSTR9_6__param__alpha to 0\n",
      "530021 Set: Sumo__Plant__CSTR9_4__param__L_V to 0.000557\n",
      "530021 Set: Sumo__Plant__CSTR9_4__param__alpha to 0\n",
      "530021 Set: Sumo__Plant__CSTR9_3__param__L_V to 0.000557\n",
      "530021 Set: Sumo__Plant__CSTR9_3__param__alpha to 0\n",
      "530021 Set: Sumo__Plant__CSTR9_2__param__L_V to 0.000557\n",
      "530021 Set: Sumo__Plant__CSTR9_2__param__alpha to 0\n",
      "530021 Set: Sumo__Plant__CSTR9_1__param__L_V to 0.000557\n",
      "530021 Set: Sumo__Plant__CSTR9_1__param__alpha to 0\n",
      "530021 Set: Sumo__Plant__Bubblecolumn1__param__n to 2\n",
      "530022 Array Sumo__Plant__Bubblecolumn1__Acell resized to (2)\n",
      "530022 Array Sumo__Plant__Bubblecolumn1__FGO2_air resized to (2)\n",
      "530022 Array Sumo__Plant__Bubblecolumn1__FGO3_air resized to (2)\n",
      "530022 Array Sumo__Plant__Bubblecolumn1__F_H resized to (2)\n",
      "530022 Array Sumo__Plant__Bubblecolumn1__F_SAN resized to (2)\n",
      "530040 Multiple arrays got resized.\n",
      "530021 Set: Sumo__Plant__CSTR8__param__L_V to 0.0001\n",
      "530021 Set: Sumo__Plant__CSTR8__param__htank to 0.001\n",
      "530021 Set: Sumo__Plant__CSTR8__param__GO2_air_inp to 0\n",
      "530021 Set: Sumo__Plant__CSTR8__param__GO3_air_inp to 0\n",
      "530021 Set: Sumo__Plant__CSTR9__param__L_V to 0.000557\n",
      "530021 Set: Sumo__Plant__CSTR10__param__L_V to 0.000557\n",
      "530021 Set: Sumo__Plant__CSTR10__param__alpha to 0\n",
      "530021 Set: Sumo__Plant__CSTR11__param__L_V to 0.000557\n",
      "530021 Set: Sumo__Plant__CSTR13__param__L_V to 0.000557\n",
      "530021 Set: Sumo__Plant__CSTR13__param__alpha to 0\n",
      "530021 Set: Sumo__Plant__CSTR14__param__L_V to 0.000557\n",
      "530021 Set: Sumo__Plant__CSTR14__param__alpha to 0\n",
      "530021 Set: Sumo__Plant__CSTR15__param__L_V to 0.000557\n",
      "530021 Set: Sumo__Plant__CSTR15__param__alpha to 0\n",
      "530021 Set: Sumo__Plant__CSTR16__param__L_V to 0.000557\n",
      "530021 Set: Sumo__Plant__CSTR17__param__L_V to 0.000557\n",
      "530021 Set: Sumo__Plant__CSTR17__param__alpha to 0\n",
      "530021 Set: Sumo__Plant__CSTR18__param__L_V to 0.000557\n",
      "530021 Set: Sumo__Plant__CSTR19__param__L_V to 0.000557\n",
      "530021 Set: Sumo__Plant__CSTR19__param__alpha to 0\n",
      "530021 Set: Sumo__Plant__CSTR20__param__L_V to 0.000557\n",
      "530021 Set: Sumo__Plant__CSTR20__param__alpha to 0\n",
      "530021 Set: Sumo__Plant__CSTR21__param__L_V to 0.000557\n",
      "530021 Set: Sumo__Plant__CSTR21__param__alpha to 0\n",
      "530021 Set: Sumo__Plant__Water1__param__SCO2 to 31\n",
      "530021 Set: Sumo__Plant__Water1__param__SAN to 150\n",
      "530021 Set: Sumo__Plant__Water1__param__SCAT to 35\n",
      "530021 Set: Sumo__Plant__Water1_1__param__SCO2 to 31\n",
      "530021 Set: Sumo__Plant__Water1_1__param__SAN to 150\n",
      "530021 Set: Sumo__Plant__Water1_1__param__SCAT to 35\n",
      "530021 Set: Sumo__Plant__Water1_2__param__Q to 0.0001\n",
      "530021 Set: Sumo__Plant__Water1_2__param__SCO2 to 31.3\n",
      "530021 Set: Sumo__Plant__Water1_2__param__SAN to 150\n",
      "530021 Set: Sumo__Plant__Water1_2__param__SCAT to 35\n",
      "530021 Set: Sumo__Plant__Water1_3__param__Q to 0.0001\n",
      "530021 Set: Sumo__Plant__Water1_3__param__SCO2 to 31.3\n",
      "530021 Set: Sumo__Plant__Water1_3__param__SAN to 150\n",
      "530021 Set: Sumo__Plant__Water1_3__param__SCAT to 35\n",
      "530021 Set: Sumo__Plant__Water1_4__param__Q to 0.0001\n",
      "530021 Set: Sumo__Plant__Water1_4__param__SCO2 to 31.3\n",
      "530021 Set: Sumo__Plant__Water1_4__param__SAN to 150\n",
      "530021 Set: Sumo__Plant__Water1_4__param__SCAT to 35\n",
      "530021 Set: Sumo__Plant__Water1_5__param__Q to 0.0001\n",
      "530021 Set: Sumo__Plant__Water1_5__param__SCO2 to 31.3\n",
      "530021 Set: Sumo__Plant__Water1_5__param__SAN to 150\n",
      "530021 Set: Sumo__Plant__Water1_5__param__SCAT to 35\n",
      "530036 Script file ./scenario.scs loaded.\n",
      "530021 Set: Sumo__Plant__Influent1__param__SH2O2x to 0.176394\n",
      "530021 Set: Sumo__Plant__Water1_3__param__SO3 to 9375.01\n",
      "530021 Set: Sumo__Plant__Water1_5__param__SO3 to 9375.01\n",
      "530021 Set: Sumo__Plant__Water1_2__param__SO3 to 9375.01\n",
      "530021 Set: Sumo__Plant__Water1_4__param__SO3 to 9375.01\n",
      "530019 Mapping to initial conditions.\n",
      "530041 Systemstate loaded from \"./lastrun.ss\".\n",
      "530036 Script file ./userscript.txt loaded.\n",
      "530021 Set: Sumo__AbsODETolerance to 1e-14\n",
      "530021 Set: Sumo__Plant__param__Ozone_v8D__kO3_UVA_R1 to 5.28558e+06\n",
      "530021 Set: Sumo__Plant__param__Ozone_v8D__kO3_UVA_R2 to 389402\n",
      "530021 Set: Sumo__Plant__param__Ozone_v8D__YO3_UVA_R1 to 0.0441935\n",
      "530021 Set: Sumo__Plant__param__Ozone_v8D__YO3_UVA_R2 to 0.0043644\n",
      "530021 Set: Sumo__Plant__param__Ozone_v8D__n1 to 0.410976\n",
      "530021 Set: Sumo__Plant__param__Ozone_v8D__n2 to 0.38796\n",
      "530021 Set: Sumo__Plant__param__Ozone_v8D__FScav to 1.38297e+09\n",
      "530021 Set: Sumo__Plant__param__Ozone_v8D__kO3_HO2m to 2.0621e+08\n",
      "530021 Set: Sumo__Plant__param__Ozone_v8D__kO3 to 172.8\n",
      "530021 Set: Sumo__Plant__param__Ozone_v8D__kL_GO2_bub to 0\n",
      "530002 Simulation started.\n"
     ]
    },
    {
     "name": "stdout",
     "output_type": "stream",
     "text": [
      "530004 Simulation ended.\n",
      "Simulation 1240\n",
      "530036 Script file C:/Users/bella/AppData/Local/Dynamita/Sumo19/.tmp/r0n35aff.shk//script_Initialize.scs loaded.\n",
      "530007 Path set to: \"C:/Users/bella/AppData/Local/Dynamita/Sumo19/.tmp/r0n35aff.shk\".\n",
      "530020 Set mode: dynamic\n",
      "530021 Set: Sumo__Plant__param__Ozone_v8D__kO3 to 172.8\n",
      "530021 Set: Sumo__Plant__param__Ozone_v8D__kO3_UVA_R1 to 7.776e+06\n",
      "530021 Set: Sumo__Plant__param__Ozone_v8D__kO3_UVA_R2 to 777600\n",
      "530021 Set: Sumo__Plant__param__Ozone_v8D__YO3_UVA_R1 to 0.011\n",
      "530021 Set: Sumo__Plant__param__Ozone_v8D__YO3_UVA_R2 to 0.005\n",
      "530021 Set: Sumo__Plant__param__Ozone_v8D__n1 to 0.55\n",
      "530021 Set: Sumo__Plant__param__Ozone_v8D__n2 to 0.1\n",
      "530021 Set: Sumo__Plant__param__Ozone_v8D__kHOCl_UVA_R1 to 8.64e+08\n",
      "530021 Set: Sumo__Plant__param__Ozone_v8D__FScav to 3.456e+09\n",
      "530021 Set: Sumo__Plant__param__Ozone_v8D__kHO_dot_Atrazine to 2.16e+11\n",
      "530021 Set: Sumo__Plant__param__Ozone_v8D__kBr_dot_DOC to 8.64e+09\n",
      "530021 Set: Sumo__Plant__param__Ozone_v8D__kO3_HO2m to 2.4192e+07\n",
      "530021 Set: Sumo__Plant__param__Ozone_v8D__kO3_OHm to 6048\n",
      "530021 Set: Sumo__Plant__param__Ozone_v8D__kL_GO2_bub to 0\n",
      "530021 Set: Sumo__Plant__Influent1__param__Q to 120\n",
      "530021 Set: Sumo__Plant__Influent1__param__T to 9.7\n",
      "530021 Set: Sumo__Plant__Influent1__param__SO3 to 0\n",
      "530021 Set: Sumo__Plant__Influent1__param__SHO_dot to 0\n",
      "530021 Set: Sumo__Plant__Influent1__param__SBr to 0.0015018\n",
      "530021 Set: Sumo__Plant__Influent1__param__SNO2 to 7.14286e-05\n",
      "530021 Set: Sumo__Plant__Influent1__param__SNO3 to 0.687143\n",
      "530021 Set: Sumo__Plant__Influent1__param__SDOC to 0.208148\n",
      "530021 Set: Sumo__Plant__Influent1__param__SUVA_R1 to 2.5\n",
      "530021 Set: Sumo__Plant__Influent1__param__SUVA_R2 to 2.5\n",
      "530021 Set: Sumo__Plant__Influent1__param__SUVA_NR to 5\n",
      "530021 Set: Sumo__Plant__Influent1__param__SDiglyme to 8.19794e-05\n",
      "530021 Set: Sumo__Plant__Influent1__param__SBromacil to 4.1361e-05\n",
      "530021 Set: Sumo__Plant__Influent1__param__SBentazone to 4.95256e-05\n",
      "530021 Set: Sumo__Plant__Influent1__param__SAtrazine to 4.68286e-05\n",
      "530021 Set: Sumo__Plant__Influent1__param__SIsoproturon to 4.94426e-05\n",
      "530021 Set: Sumo__Plant__Influent1__param__SIbuprofen to 9.11338e-05\n",
      "530021 Set: Sumo__Plant__Influent1__param__SMetformin to 3.17426e-05\n",
      "530021 Set: Sumo__Plant__Influent1__param__SCarbamazepine to 2.4125e-05\n",
      "530021 Set: Sumo__Plant__Influent1__param__SMetoprolol to 2.01972e-05\n",
      "530021 Set: Sumo__Plant__Influent1__param__STrimethoprim to 1.96335e-05\n",
      "530021 Set: Sumo__Plant__Influent1__param__SIopromide to 2.27531e-06\n",
      "530021 Set: Sumo__Plant__Influent1__param__SPhenazone to 3.08141e-05\n",
      "530021 Set: Sumo__Plant__Influent1__param__SDiclofenac to 0.000106366\n",
      "530021 Set: Sumo__Plant__Influent1__param__SFurosemide to 1.6327e-05\n",
      "530021 Set: Sumo__Plant__Influent1__param__pH to 7.93\n",
      "530021 Set: Sumo__Plant__Influent1__param__SALK_input to 0.0012\n",
      "230034 (loadtsv) TSV file \"C:/Users/bella/AppData/Local/Dynamita/Sumo19/.tmp/r0n35aff.shk/Influent1_28-09-11 PBA-PI-O3-EF.tsv\" is already loaded. Unload it first.\n",
      "530021 Set: Sumo__Plant__CSTR1__param__L_V to 0.00167\n",
      "530021 Set: Sumo__Plant__CSTR1__param__htank to 1\n",
      "530021 Set: Sumo__Plant__CSTR9_5__param__L_V to 0.000557\n",
      "530021 Set: Sumo__Plant__CSTR9_5__param__alpha to 0\n",
      "530021 Set: Sumo__Plant__CSTR9_6__param__L_V to 0.000557\n",
      "530021 Set: Sumo__Plant__CSTR9_6__param__alpha to 0\n",
      "530021 Set: Sumo__Plant__CSTR9_4__param__L_V to 0.000557\n",
      "530021 Set: Sumo__Plant__CSTR9_4__param__alpha to 0\n",
      "530021 Set: Sumo__Plant__CSTR9_3__param__L_V to 0.000557\n",
      "530021 Set: Sumo__Plant__CSTR9_3__param__alpha to 0\n",
      "530021 Set: Sumo__Plant__CSTR9_2__param__L_V to 0.000557\n",
      "530021 Set: Sumo__Plant__CSTR9_2__param__alpha to 0\n",
      "530021 Set: Sumo__Plant__CSTR9_1__param__L_V to 0.000557\n",
      "530021 Set: Sumo__Plant__CSTR9_1__param__alpha to 0\n",
      "530021 Set: Sumo__Plant__Bubblecolumn1__param__n to 2\n",
      "530022 Array Sumo__Plant__Bubblecolumn1__Acell resized to (2)\n",
      "530022 Array Sumo__Plant__Bubblecolumn1__FGO2_air resized to (2)\n",
      "530022 Array Sumo__Plant__Bubblecolumn1__FGO3_air resized to (2)\n",
      "530022 Array Sumo__Plant__Bubblecolumn1__F_H resized to (2)\n",
      "530022 Array Sumo__Plant__Bubblecolumn1__F_SAN resized to (2)\n",
      "530040 Multiple arrays got resized.\n",
      "530021 Set: Sumo__Plant__CSTR8__param__L_V to 0.0001\n",
      "530021 Set: Sumo__Plant__CSTR8__param__htank to 0.001\n",
      "530021 Set: Sumo__Plant__CSTR8__param__GO2_air_inp to 0\n",
      "530021 Set: Sumo__Plant__CSTR8__param__GO3_air_inp to 0\n",
      "530021 Set: Sumo__Plant__CSTR9__param__L_V to 0.000557\n",
      "530021 Set: Sumo__Plant__CSTR10__param__L_V to 0.000557\n",
      "530021 Set: Sumo__Plant__CSTR10__param__alpha to 0\n",
      "530021 Set: Sumo__Plant__CSTR11__param__L_V to 0.000557\n",
      "530021 Set: Sumo__Plant__CSTR13__param__L_V to 0.000557\n",
      "530021 Set: Sumo__Plant__CSTR13__param__alpha to 0\n",
      "530021 Set: Sumo__Plant__CSTR14__param__L_V to 0.000557\n",
      "530021 Set: Sumo__Plant__CSTR14__param__alpha to 0\n",
      "530021 Set: Sumo__Plant__CSTR15__param__L_V to 0.000557\n",
      "530021 Set: Sumo__Plant__CSTR15__param__alpha to 0\n",
      "530021 Set: Sumo__Plant__CSTR16__param__L_V to 0.000557\n",
      "530021 Set: Sumo__Plant__CSTR17__param__L_V to 0.000557\n",
      "530021 Set: Sumo__Plant__CSTR17__param__alpha to 0\n",
      "530021 Set: Sumo__Plant__CSTR18__param__L_V to 0.000557\n",
      "530021 Set: Sumo__Plant__CSTR19__param__L_V to 0.000557\n",
      "530021 Set: Sumo__Plant__CSTR19__param__alpha to 0\n",
      "530021 Set: Sumo__Plant__CSTR20__param__L_V to 0.000557\n",
      "530021 Set: Sumo__Plant__CSTR20__param__alpha to 0\n",
      "530021 Set: Sumo__Plant__CSTR21__param__L_V to 0.000557\n",
      "530021 Set: Sumo__Plant__CSTR21__param__alpha to 0\n",
      "530021 Set: Sumo__Plant__Water1__param__SCO2 to 31\n",
      "530021 Set: Sumo__Plant__Water1__param__SAN to 150\n",
      "530021 Set: Sumo__Plant__Water1__param__SCAT to 35\n",
      "530021 Set: Sumo__Plant__Water1_1__param__SCO2 to 31\n",
      "530021 Set: Sumo__Plant__Water1_1__param__SAN to 150\n",
      "530021 Set: Sumo__Plant__Water1_1__param__SCAT to 35\n",
      "530021 Set: Sumo__Plant__Water1_2__param__Q to 0.0001\n",
      "530021 Set: Sumo__Plant__Water1_2__param__SCO2 to 31.3\n",
      "530021 Set: Sumo__Plant__Water1_2__param__SAN to 150\n",
      "530021 Set: Sumo__Plant__Water1_2__param__SCAT to 35\n",
      "530021 Set: Sumo__Plant__Water1_3__param__Q to 0.0001\n",
      "530021 Set: Sumo__Plant__Water1_3__param__SCO2 to 31.3\n",
      "530021 Set: Sumo__Plant__Water1_3__param__SAN to 150\n",
      "530021 Set: Sumo__Plant__Water1_3__param__SCAT to 35\n",
      "530021 Set: Sumo__Plant__Water1_4__param__Q to 0.0001\n",
      "530021 Set: Sumo__Plant__Water1_4__param__SCO2 to 31.3\n",
      "530021 Set: Sumo__Plant__Water1_4__param__SAN to 150\n",
      "530021 Set: Sumo__Plant__Water1_4__param__SCAT to 35\n",
      "530021 Set: Sumo__Plant__Water1_5__param__Q to 0.0001\n",
      "530021 Set: Sumo__Plant__Water1_5__param__SCO2 to 31.3\n",
      "530021 Set: Sumo__Plant__Water1_5__param__SAN to 150\n",
      "530021 Set: Sumo__Plant__Water1_5__param__SCAT to 35\n",
      "530036 Script file ./scenario.scs loaded.\n",
      "530021 Set: Sumo__Plant__Influent1__param__SH2O2x to 0.176394\n",
      "530021 Set: Sumo__Plant__Water1_3__param__SO3 to 9375.01\n",
      "530021 Set: Sumo__Plant__Water1_5__param__SO3 to 9375.01\n",
      "530021 Set: Sumo__Plant__Water1_2__param__SO3 to 9375.01\n",
      "530021 Set: Sumo__Plant__Water1_4__param__SO3 to 9375.01\n",
      "530019 Mapping to initial conditions.\n",
      "530041 Systemstate loaded from \"./lastrun.ss\".\n",
      "530036 Script file ./userscript.txt loaded.\n",
      "530021 Set: Sumo__AbsODETolerance to 1e-14\n",
      "530021 Set: Sumo__Plant__param__Ozone_v8D__kO3_UVA_R1 to 8.61846e+06\n",
      "530021 Set: Sumo__Plant__param__Ozone_v8D__kO3_UVA_R2 to 688383\n",
      "530021 Set: Sumo__Plant__param__Ozone_v8D__YO3_UVA_R1 to 0.0776716\n",
      "530021 Set: Sumo__Plant__param__Ozone_v8D__YO3_UVA_R2 to 0.00478277\n",
      "530021 Set: Sumo__Plant__param__Ozone_v8D__n1 to 0.511711\n",
      "530021 Set: Sumo__Plant__param__Ozone_v8D__n2 to 0.140257\n",
      "530021 Set: Sumo__Plant__param__Ozone_v8D__FScav to 8.12929e+09\n",
      "530021 Set: Sumo__Plant__param__Ozone_v8D__kO3_HO2m to 1.80473e+08\n",
      "530021 Set: Sumo__Plant__param__Ozone_v8D__kO3 to 172.8\n",
      "530021 Set: Sumo__Plant__param__Ozone_v8D__kL_GO2_bub to 0\n",
      "530002 Simulation started.\n",
      "530004 Simulation ended.\n"
     ]
    }
   ],
   "source": [
    "# %%capture capt\n",
    "# Magic to suppress the output of the cel and store it in capt\n",
    "\n",
    "# Initialize storage variables\n",
    "# BentazConv_modeled = OrderedDict()\n",
    "# AtrazConv_modeled = OrderedDict()\n",
    "# IsoprConv_modeled = OrderedDict()\n",
    "# IbuprConv_modeled = OrderedDict()\n",
    "# MetfoConv_modeled = OrderedDict()\n",
    "# CarbaConv_modeled = OrderedDict()\n",
    "# MetopConv_modeled = OrderedDict()\n",
    "# TrimeConv_modeled = OrderedDict()\n",
    "# IoproConv_modeled = OrderedDict()\n",
    "# PhenaConv_modeled = OrderedDict()\n",
    "# DicloConv_modeled = OrderedDict()\n",
    "# UVtot_modeled = OrderedDict()\n",
    "\n",
    "# os.chdir(nbookDir)\n",
    "# with open('modeloutput_20110928.json', 'w') as f:\n",
    "#     dictionaries = [BentazConv_modeled, AtrazConv_modeled,\n",
    "#                     IsoprConv_modeled, IbuprConv_modeled]\n",
    "#     f.write(json.dumps(dictionaries))\n",
    "\n",
    "pd.DataFrame({'BentazConv_modeled': [],\n",
    "              'AtrazConv_modeled' : [],\n",
    "              'IsoprConv_modeled': []}).to_csv('./trialcsv_20110928.csv', mode='w')\n",
    "\n",
    "# Params initialization\n",
    "for row in parasets[1235:1240].index:\n",
    "    print('Simulation '+str(row+1)) # simulation number\n",
    "    \n",
    "#     set non-default volumes and params\n",
    "    command = str('execute ' + str(modelpath) + '/script_Initialize.scs')\n",
    "    sumo.core.csumo_command_send(sumo.handle, command.encode('utf8'))\n",
    "    \n",
    "#     set specific scenario\n",
    "    command = 'execute ./scenario.scs'\n",
    "    sumo.core.csumo_command_send(sumo.handle, command.encode('utf8'))\n",
    "    \n",
    "#     set initial concentrations\n",
    "#     sumo.send_command('loadstates \"' +str(modelpath)+'/lastrun.ss'+'\"'+' -partial 1 -maptoic')    \n",
    "    sumo.send_command('loadstates \"./lastrun.ss\" -partial 1 -maptoic')    \n",
    "    \n",
    "#     set user script\n",
    "    command = str('execute ./userscript.txt')\n",
    "    sumo.core.csumo_command_send(sumo.handle, command.encode('utf8'))\n",
    "    \n",
    "    for n in parasets.iloc[[row]]:\n",
    "        command = 'set Sumo__Plant__param__Ozone_v8D__' + n + ' ' + str(parasets[n].values[row]) + ';'\n",
    "        sumo.core.csumo_command_send(sumo.handle, command.encode('utf8'))\n",
    "        \n",
    "    # Initialize lists\n",
    "    t = []\n",
    "    sBentazConv = []\n",
    "    sAtrazConv = []\n",
    "    sIsoprConv = []\n",
    "    sIbuprConv = []\n",
    "    sMetfoConv = []\n",
    "    sCarbaConv = []\n",
    "    sMetopConv = []\n",
    "    sTrimeConv = []\n",
    "    sIoproConv = []\n",
    "    sPhenaConv = []\n",
    "    sDicloConv = []\n",
    "    sUVtot = []\n",
    "\n",
    "    # Let's have Sumo do some work\n",
    "    sumo.run_model()\n",
    "    \n",
    "    # The run_model is an asynchronous call, so we need to wait until\n",
    "    # the current run is finished, otherwise we would mess up our simulations\n",
    "    while not sumo.simulation_finished:\n",
    "        time.sleep(0.01)\n",
    "\n",
    "#     # Good, we got our data in the list, let's store 'em in our dictionary, using \n",
    "#     # scenario as the label\n",
    "#     BentazConv_modeled[row] = np.mean(sBentazConv[-50:])\n",
    "#     AtrazConv_modeled[row] = np.mean(sAtrazConv[-50:]) \n",
    "#     IsoprConv_modeled[row] = np.mean(sIsoprConv[-50:])\n",
    "#     IbuprConv_modeled[row] = np.mean(sIbuprConv[-50:])\n",
    "#     MetfoConv_modeled[row] = np.mean(sMetfoConv[-50:])\n",
    "#     CarbaConv_modeled[row] = np.mean(sCarbaConv[-50:])\n",
    "#     MetopConv_modeled[row] = np.mean(sMetopConv[-50:])\n",
    "#     TrimeConv_modeled[row] = np.mean(sTrimeConv[-50:])\n",
    "#     IoproConv_modeled[row] = np.mean(sIoproConv[-50:])\n",
    "#     PhenaConv_modeled[row] = np.mean(sPhenaConv[-50:])\n",
    "#     DicloConv_modeled[row] = np.mean(sDicloConv[-50:])\n",
    "#     UVtot_modeled[row] = np.mean(sUVtot[-50:]) \n",
    "\n",
    "#     os.chdir(nbookDir)\n",
    "#     with open('modeloutput_20110928.json', 'a') as f:\n",
    "#         dictionaries = [np.mean(sBentazConv[-50:]), np.mean(sAtrazConv[-50:]),\n",
    "#                         np.mean(sIsoprConv[-50:]), np.mean(sIbuprConv[-50:])]\n",
    "#         f.write(json.dumps(dictionaries))\n",
    "    os.chdir(nbookDir)\n",
    "    pd.DataFrame({'BentazConv_modeled': np.mean(sBentazConv[-50:]),\n",
    "              'AtrazConv_modeled' : np.mean(sAtrazConv[-50:]),\n",
    "              'IsoprConv_modeled': np.mean(sIsoprConv[-50:])}, index=[row]).to_csv('./trialcsv_20110928.csv', \n",
    "                                                                                   mode='a',\n",
    "                                                                                   header=False)"
   ]
  },
  {
   "cell_type": "code",
   "execution_count": 39,
   "metadata": {
    "ExecuteTime": {
     "end_time": "2020-04-17T07:23:23.436903Z",
     "start_time": "2020-04-17T07:23:23.422940Z"
    }
   },
   "outputs": [
    {
     "data": {
      "text/html": [
       "<div>\n",
       "<style scoped>\n",
       "    .dataframe tbody tr th:only-of-type {\n",
       "        vertical-align: middle;\n",
       "    }\n",
       "\n",
       "    .dataframe tbody tr th {\n",
       "        vertical-align: top;\n",
       "    }\n",
       "\n",
       "    .dataframe thead th {\n",
       "        text-align: right;\n",
       "    }\n",
       "</style>\n",
       "<table border=\"1\" class=\"dataframe\">\n",
       "  <thead>\n",
       "    <tr style=\"text-align: right;\">\n",
       "      <th></th>\n",
       "      <th>BentazConv_modeled</th>\n",
       "      <th>AtrazConv_modeled</th>\n",
       "      <th>IsoprConv_modeled</th>\n",
       "    </tr>\n",
       "  </thead>\n",
       "  <tbody>\n",
       "    <tr>\n",
       "      <td>1235</td>\n",
       "      <td>0.390204</td>\n",
       "      <td>0.164535</td>\n",
       "      <td>0.427214</td>\n",
       "    </tr>\n",
       "    <tr>\n",
       "      <td>1236</td>\n",
       "      <td>0.372744</td>\n",
       "      <td>0.255410</td>\n",
       "      <td>0.589893</td>\n",
       "    </tr>\n",
       "    <tr>\n",
       "      <td>1237</td>\n",
       "      <td>0.351342</td>\n",
       "      <td>0.065623</td>\n",
       "      <td>0.195842</td>\n",
       "    </tr>\n",
       "    <tr>\n",
       "      <td>1238</td>\n",
       "      <td>0.540110</td>\n",
       "      <td>0.459908</td>\n",
       "      <td>0.834305</td>\n",
       "    </tr>\n",
       "    <tr>\n",
       "      <td>1239</td>\n",
       "      <td>0.243064</td>\n",
       "      <td>0.257625</td>\n",
       "      <td>0.589428</td>\n",
       "    </tr>\n",
       "  </tbody>\n",
       "</table>\n",
       "</div>"
      ],
      "text/plain": [
       "      BentazConv_modeled  AtrazConv_modeled  IsoprConv_modeled\n",
       "1235            0.390204           0.164535           0.427214\n",
       "1236            0.372744           0.255410           0.589893\n",
       "1237            0.351342           0.065623           0.195842\n",
       "1238            0.540110           0.459908           0.834305\n",
       "1239            0.243064           0.257625           0.589428"
      ]
     },
     "execution_count": 39,
     "metadata": {},
     "output_type": "execute_result"
    }
   ],
   "source": [
    "pd.read_csv('./trialcsv_20110928.csv', index_col=[0])"
   ]
  },
  {
   "cell_type": "markdown",
   "metadata": {},
   "source": [
    "## OR you may want to load/write the data"
   ]
  },
  {
   "cell_type": "code",
   "execution_count": 2,
   "metadata": {
    "ExecuteTime": {
     "end_time": "2020-03-04T07:36:05.507841Z",
     "start_time": "2020-03-04T07:36:05.439852Z"
    }
   },
   "outputs": [],
   "source": [
    "# pd.to_pickle(so3_sensitivity_data, './BatchCal_50k_so3_scen13R_kO3fix.pkl')\n",
    "# pd.to_pickle(parasets, './BatchCal_50k_pars_scen13R_kO3fix.pkl')\n",
    "# so3_sensitivity_data = pd.read_pickle('./BatchCal_50k_so3_scen13R_kO3fix.pkl')\n",
    "# parasets = pd.read_pickle('./BatchCal_50k_pars_scen13R_kO3fix.pkl')"
   ]
  },
  {
   "cell_type": "markdown",
   "metadata": {},
   "source": [
    "## Plotting (currently not advisable with high number of simulations)"
   ]
  },
  {
   "cell_type": "code",
   "execution_count": 34,
   "metadata": {
    "ExecuteTime": {
     "end_time": "2020-04-15T09:14:30.004984Z",
     "start_time": "2020-04-15T09:14:29.823434Z"
    },
    "scrolled": false,
    "slideshow": {
     "slide_type": "subslide"
    }
   },
   "outputs": [
    {
     "data": {
      "image/png": "[encoded data removed]",
      "text/plain": [
       "<Figure size 432x288 with 1 Axes>"
      ]
     },
     "metadata": {
      "needs_background": "light"
     },
     "output_type": "display_data"
    }
   ],
   "source": [
    "fig, axes = plt.subplots(1,1)\n",
    "# axes.set_xlabel('time')\n",
    "axes.set_ylabel('MP_modeled')\n",
    "\n",
    "for run, MP in BentazConv_modeled.items():\n",
    "    axes.plot(MP, label=str(run), marker='o')\n",
    "    plt.legend(loc='upper right', title='Run')\n",
    "    fig.canvas.draw()\n",
    "    \n",
    "# axes.plot(Meas['Bentazone'], 'o')"
   ]
  },
  {
   "cell_type": "markdown",
   "metadata": {
    "scrolled": true
   },
   "source": [
    "# Read lab experiments"
   ]
  },
  {
   "cell_type": "code",
   "execution_count": 35,
   "metadata": {
    "ExecuteTime": {
     "end_time": "2020-04-15T09:14:39.033177Z",
     "start_time": "2020-04-15T09:14:39.028198Z"
    }
   },
   "outputs": [],
   "source": [
    "os.chdir(nbookDir)"
   ]
  },
  {
   "cell_type": "code",
   "execution_count": 36,
   "metadata": {
    "ExecuteTime": {
     "end_time": "2020-04-15T09:14:39.619566Z",
     "start_time": "2020-04-15T09:14:39.432367Z"
    }
   },
   "outputs": [],
   "source": [
    "Meas = pd.read_excel(r'../../../DuneaData/LabPilot/GOBAM PI Data.xlsx',\n",
    "                      sheet_name='Tabel (6 -1,5)+Rel_par', usecols='A:P,AE', skiprows=1, nrows=10, index_col=0).dropna()"
   ]
  },
  {
   "cell_type": "code",
   "execution_count": 37,
   "metadata": {
    "ExecuteTime": {
     "end_time": "2020-04-15T09:14:39.872884Z",
     "start_time": "2020-04-15T09:14:39.863907Z"
    }
   },
   "outputs": [
    {
     "data": {
      "text/plain": [
       "97.60000000000001"
      ]
     },
     "execution_count": 37,
     "metadata": {},
     "output_type": "execute_result"
    }
   ],
   "source": [
    "Meas['Bentazone']['2011-09-28']"
   ]
  },
  {
   "cell_type": "markdown",
   "metadata": {},
   "source": [
    "# Calculate metrics"
   ]
  },
  {
   "cell_type": "markdown",
   "metadata": {},
   "source": [
    "## functions"
   ]
  },
  {
   "cell_type": "code",
   "execution_count": 38,
   "metadata": {
    "ExecuteTime": {
     "end_time": "2020-04-15T09:14:42.598581Z",
     "start_time": "2020-04-15T09:14:42.586612Z"
    }
   },
   "outputs": [],
   "source": [
    "def calc_metrics3(modelled, observed):\n",
    "    \"\"\"\n",
    "    Calucates metrics of comparison between modelled and observed variables\n",
    "    \n",
    "    -------\n",
    "    Prameters\n",
    "    \n",
    "    modelled: array of floats or time serie\n",
    "    observed: array of floats or time serie\n",
    "    \"\"\"\n",
    "    \n",
    "    residuals = np.abs(modelled - observed)\n",
    "    df = pd.DataFrame({'MAE': np.mean([np.abs(residuals)]), ### MAE (mean absolute error) range: [0, inf] optimum: 0\n",
    "                      'RMSE': np.mean([np.sqrt(residuals**2)]), ### RMSE (root mean sq error)\n",
    "                      'MSE': np.mean([(residuals**2)]), ### MSE (mean sq error) range: [0, inf] optimum: 0\n",
    "                      'MSLE': np.mean([((np.log(observed) - np.log(modelled))**2)]), ### MSLE (mean sq log error - emphasises low magnitude errors) range: [0, inf] optimum: 0\n",
    "                      'RRMSE': np.mean([np.sqrt((residuals**2))])/np.mean(observed), ### RRMSE (relative root mean sq error)\n",
    "                      'SSE': np.sum(residuals**2), ### SSE (sum of sq errors) range: [0, inf] optimum: 0\n",
    "                      'AMRE': np.mean([np.abs(residuals/observed)]), ### AMRE (abs mean relative error [from MREin pystran]) range: [-inf, inf] optimum: 0\n",
    "                      'MARE': np.mean([(np.abs(residuals)/observed)]), ### MARE (mean abs relative error) range: [0, inf] optimum: 0\n",
    "                      'SARE': (np.abs(residuals)/observed).sum(axis=0), ### SARE (sum of abs relative error) range: [0, inf] optimum: 0\n",
    "                      'MeAPE': np.median([(np.abs(residuals)*100./observed)]), ### MeAPE (median of absolute prediction error) range: [0, inf] optimum: 0\n",
    "                      'MSRE': np.mean([((residuals/observed)**2)]), ### MSRE (mean sq relative error) range: [0, inf] optimum: 0\n",
    "                      'RVE': np.sum([residuals])/np.sum([observed])}, ### RVE (relative vol error) range: [-inf, inf] optimum: 0\n",
    "                      index=[0])\n",
    "    return df"
   ]
  },
  {
   "cell_type": "code",
   "execution_count": 39,
   "metadata": {
    "ExecuteTime": {
     "end_time": "2020-04-15T09:14:43.282949Z",
     "start_time": "2020-04-15T09:14:43.278957Z"
    }
   },
   "outputs": [],
   "source": [
    "## Generating the matrix of scores arranged with metrics (columns) for each parameter set (rows)\n",
    "def MPs_scores_matrix(modeled, measured):\n",
    "    \"\"\"\n",
    "    Arranges the scores of the calc_metrics3 output in a dataframe according to the relative scenario\n",
    "    \n",
    "    -----------\n",
    "    Parameters\n",
    "    \n",
    "    modeled: dictionary of scenarios with index of integers, values are float\n",
    "    measured: float to be compared against the modeled\n",
    "    \n",
    "    \"\"\"\n",
    "    output_martix = pd.DataFrame()\n",
    "\n",
    "    for scenario in modeled:\n",
    "        a = calc_metrics3(modeled[scenario], measured)\n",
    "        a.index = [scenario]\n",
    "        output_martix = pd.concat([output_martix, a], axis=0, ignore_index=False)\n",
    "    return(output_martix)"
   ]
  },
  {
   "cell_type": "code",
   "execution_count": 40,
   "metadata": {
    "ExecuteTime": {
     "end_time": "2020-04-15T09:14:43.947009Z",
     "start_time": "2020-04-15T09:14:43.943019Z"
    }
   },
   "outputs": [],
   "source": [
    "def scale_matrix_scores(scores):\n",
    "    \"\"\"\n",
    "    Scales from 0 to 1 the values of the scores given from each metric to each scenario\n",
    "    \n",
    "    ------\n",
    "    Parameters\n",
    "    \n",
    "    scores: DataFrame of metrics (columns) and scenarios as index\n",
    "    \"\"\"\n",
    "    \n",
    "    min_max_scaler = preprocessing.MinMaxScaler()\n",
    "    x_scaled = pd.DataFrame(min_max_scaler.fit_transform(scores), columns=scores.columns)\n",
    "    x_scaled['sum'] = x_scaled.sum(axis=1)\n",
    "    x_scaled['scenario'] = scores.index\n",
    "    x_scaled = x_scaled.set_index(x_scaled['sum'], drop=False).sort_index()\n",
    "    return(x_scaled)"
   ]
  },
  {
   "cell_type": "markdown",
   "metadata": {},
   "source": [
    "## calculate scores for exp '2011-09-28'"
   ]
  },
  {
   "cell_type": "code",
   "execution_count": 41,
   "metadata": {
    "ExecuteTime": {
     "end_time": "2020-04-15T09:14:49.305522Z",
     "start_time": "2020-04-15T09:14:49.282499Z"
    }
   },
   "outputs": [],
   "source": [
    "Bentaz_scores = MPs_scores_matrix(BentazConv_modeled, Meas['Bentazone']['2011-09-28'])\n",
    "Atraz_scores = MPs_scores_matrix(AtrazConv_modeled, Meas['Atrazine']['2011-09-28'])\n",
    "UVtot_scores = MPs_scores_matrix(UVtot_modeled, Meas['UV after O3 (1/m)']['2011-09-28'])\n",
    "# Isopr_scores = MPs_scores_matrix(Isopr_modeled, Meas['Isoproturon']['28-09-2011'].values)"
   ]
  },
  {
   "cell_type": "code",
   "execution_count": 42,
   "metadata": {
    "ExecuteTime": {
     "end_time": "2020-04-15T09:14:50.201637Z",
     "start_time": "2020-04-15T09:14:50.182687Z"
    }
   },
   "outputs": [],
   "source": [
    "sumscores = Bentaz_scores + Atraz_scores + UVtot_scores"
   ]
  },
  {
   "cell_type": "code",
   "execution_count": 43,
   "metadata": {
    "ExecuteTime": {
     "end_time": "2020-04-15T09:14:51.814482Z",
     "start_time": "2020-04-15T09:14:51.807485Z"
    }
   },
   "outputs": [],
   "source": [
    "scaled_scores = scale_matrix_scores(sumscores)"
   ]
  },
  {
   "cell_type": "markdown",
   "metadata": {},
   "source": [
    "# Visualization"
   ]
  },
  {
   "cell_type": "code",
   "execution_count": 44,
   "metadata": {
    "ExecuteTime": {
     "end_time": "2020-04-15T09:14:53.746368Z",
     "start_time": "2020-04-15T09:14:53.505928Z"
    }
   },
   "outputs": [
    {
     "data": {
      "text/plain": [
       "[]"
      ]
     },
     "execution_count": 44,
     "metadata": {},
     "output_type": "execute_result"
    },
    {
     "data": {
      "image/png": "[encoded data removed]",
      "text/plain": [
       "<Figure size 1440x720 with 2 Axes>"
      ]
     },
     "metadata": {
      "needs_background": "light"
     },
     "output_type": "display_data"
    }
   ],
   "source": [
    "fig, ax1 = plt.subplots(figsize=(20, 10))\n",
    "sns.heatmap(scaled_scores.drop(['scenario', 'sum'], axis=1)[:100], # plotting only the 12 metrics and the best 50 scenarios\n",
    "            ax=ax1, annot=False, cmap=\"YlGnBu\", )\n",
    "\n",
    "# ax1.xaxis.set_major_locator(plt.MaxNLocator(nbins=13))\n",
    "# ax1.set_xticklabels(df.columns.tolist()); # there is a bug in the set_ticklabels and the first label gets lost\n",
    "ax1.set_yticklabels('')\n",
    "# plt.savefig(r'./results/metricEval/CM/StSt/10000/rankscenario_nh.png', dpi=300)"
   ]
  },
  {
   "cell_type": "markdown",
   "metadata": {},
   "source": [
    "## ..and the winner is"
   ]
  },
  {
   "cell_type": "code",
   "execution_count": 78,
   "metadata": {
    "ExecuteTime": {
     "end_time": "2020-04-09T14:47:39.496774Z",
     "start_time": "2020-04-09T14:47:39.485222Z"
    },
    "scrolled": true
   },
   "outputs": [
    {
     "data": {
      "text/html": [
       "<div>\n",
       "<style scoped>\n",
       "    .dataframe tbody tr th:only-of-type {\n",
       "        vertical-align: middle;\n",
       "    }\n",
       "\n",
       "    .dataframe tbody tr th {\n",
       "        vertical-align: top;\n",
       "    }\n",
       "\n",
       "    .dataframe thead th {\n",
       "        text-align: right;\n",
       "    }\n",
       "</style>\n",
       "<table border=\"1\" class=\"dataframe\">\n",
       "  <thead>\n",
       "    <tr style=\"text-align: right;\">\n",
       "      <th></th>\n",
       "      <th>kO3_UVA_R1</th>\n",
       "      <th>kO3_UVA_R2</th>\n",
       "      <th>YO3_UVA_R1</th>\n",
       "      <th>YO3_UVA_R2</th>\n",
       "      <th>kO3</th>\n",
       "      <th>kL_GO2_bub</th>\n",
       "    </tr>\n",
       "  </thead>\n",
       "  <tbody>\n",
       "    <tr>\n",
       "      <td>2</td>\n",
       "      <td>3.152719e+06</td>\n",
       "      <td>85344.635925</td>\n",
       "      <td>0.024320</td>\n",
       "      <td>0.003681</td>\n",
       "      <td>172.8</td>\n",
       "      <td>0.0</td>\n",
       "    </tr>\n",
       "    <tr>\n",
       "      <td>1</td>\n",
       "      <td>4.115133e+06</td>\n",
       "      <td>818664.928518</td>\n",
       "      <td>0.062877</td>\n",
       "      <td>0.009355</td>\n",
       "      <td>172.8</td>\n",
       "      <td>0.0</td>\n",
       "    </tr>\n",
       "    <tr>\n",
       "      <td>0</td>\n",
       "      <td>8.086471e+06</td>\n",
       "      <td>556031.416555</td>\n",
       "      <td>0.072588</td>\n",
       "      <td>0.000696</td>\n",
       "      <td>172.8</td>\n",
       "      <td>0.0</td>\n",
       "    </tr>\n",
       "  </tbody>\n",
       "</table>\n",
       "</div>"
      ],
      "text/plain": [
       "     kO3_UVA_R1     kO3_UVA_R2  YO3_UVA_R1  YO3_UVA_R2    kO3  kL_GO2_bub\n",
       "2  3.152719e+06   85344.635925    0.024320    0.003681  172.8         0.0\n",
       "1  4.115133e+06  818664.928518    0.062877    0.009355  172.8         0.0\n",
       "0  8.086471e+06  556031.416555    0.072588    0.000696  172.8         0.0"
      ]
     },
     "execution_count": 78,
     "metadata": {},
     "output_type": "execute_result"
    }
   ],
   "source": [
    "# the best n performing parsets\n",
    "parasets.iloc[scaled_scores['scenario'].head(10)]#.to_excel('top10_O3_2_8_kO3fix.xlsx', engine='xlsxwriter')"
   ]
  },
  {
   "cell_type": "code",
   "execution_count": 267,
   "metadata": {
    "ExecuteTime": {
     "end_time": "2020-04-02T13:01:21.668734Z",
     "start_time": "2020-04-02T13:01:21.650276Z"
    }
   },
   "outputs": [
    {
     "name": "stdout",
     "output_type": "stream",
     "text": [
      "0          MAE       RMSE          MSE      MSLE     RRMSE          SSE  \\\n",
      "0  90.457262  90.457262  8182.516246  6.837081  0.926816  8182.516246   \n",
      "\n",
      "       AMRE      MARE      SARE      MeAPE      MSRE       RVE  \n",
      "0  0.926816  0.926816  0.926816  92.681621  0.858988  0.926816  \n",
      "2          MAE       RMSE          MSE       MSLE     RRMSE          SSE  \\\n",
      "0  94.082733  94.082733  8851.560715  11.043614  0.963962  8851.560715   \n",
      "\n",
      "       AMRE      MARE      SARE      MeAPE      MSRE       RVE  \n",
      "0  0.963962  0.963962  0.963962  96.396243  0.929224  0.963962  \n",
      "1          MAE       RMSE          MSE       MSLE     RRMSE          SSE  \\\n",
      "0  94.866063  94.866063  8999.569887  12.781589  0.971988  8999.569887   \n",
      "\n",
      "       AMRE      MARE      SARE      MeAPE      MSRE       RVE  \n",
      "0  0.971988  0.971988  0.971988  97.198835  0.944761  0.971988  \n"
     ]
    }
   ],
   "source": [
    "for i in scaled_scores['scenario'].head(5):\n",
    "    print(str(i) + ' ' + str(calc_metrics3(Bentaz_modeled[i], Meas['Bentazone'].values)))"
   ]
  },
  {
   "cell_type": "code",
   "execution_count": 270,
   "metadata": {
    "ExecuteTime": {
     "end_time": "2020-04-02T13:03:33.909930Z",
     "start_time": "2020-04-02T13:03:33.726414Z"
    },
    "scrolled": false
   },
   "outputs": [
    {
     "data": {
      "image/png": "[encoded data removed]",
      "text/plain": [
       "<Figure size 432x288 with 1 Axes>"
      ]
     },
     "metadata": {
      "needs_background": "light"
     },
     "output_type": "display_data"
    }
   ],
   "source": [
    "fig, axes = plt.subplots(1,1)\n",
    "axes.set_xlabel('time')\n",
    "axes.set_ylabel('Ozone')\n",
    "\n",
    "winniers = pd.DataFrame(Bentaz_modeled, index=Bentaz_modeled.keys())[scaled_scores['scenario'].head(3)]\n",
    "\n",
    "for run in winniers:\n",
    "    axes.plot(winniers[run]*48, 'o')#, label=str(run))\n",
    "#     plt.legend(loc='upper right', title='Run')\n",
    "    plt.title('1.3R')\n",
    "    fig.canvas.draw()\n",
    "axes.plot(Meas['Bentazone'], marker='x', linestyle='');"
   ]
  },
  {
   "cell_type": "code",
   "execution_count": 263,
   "metadata": {
    "ExecuteTime": {
     "end_time": "2020-04-02T12:58:48.902617Z",
     "start_time": "2020-04-02T12:58:48.894638Z"
    }
   },
   "outputs": [],
   "source": [
    "threshold = 50\n",
    "good = parasets[problem['names']].loc[scaled_scores['scenario'].head(threshold).values[:]]\n",
    "bad = parasets[problem['names']].loc[scaled_scores['scenario'].tail(threshold*2).values[:]]\n",
    "good['color'] = 'good'\n",
    "bad['color'] = 'bad'\n",
    "good_bad_nh = pd.concat([good, bad])"
   ]
  },
  {
   "cell_type": "code",
   "execution_count": 264,
   "metadata": {
    "ExecuteTime": {
     "end_time": "2020-04-02T12:58:54.804468Z",
     "start_time": "2020-04-02T12:58:51.506857Z"
    }
   },
   "outputs": [
    {
     "data": {
      "image/png": "[encoded data removed]",
      "text/plain": [
       "<Figure size 780.75x720 with 20 Axes>"
      ]
     },
     "metadata": {
      "needs_background": "light"
     },
     "output_type": "display_data"
    }
   ],
   "source": [
    "# plotting only those params that were varied and only the first n best performing\n",
    "sns.pairplot(good_bad_nh, hue='color');"
   ]
  },
  {
   "cell_type": "code",
   "execution_count": null,
   "metadata": {},
   "outputs": [],
   "source": []
  }
 ],
 "metadata": {
  "kernelspec": {
   "display_name": "Python 3",
   "language": "python",
   "name": "python3"
  },
  "language_info": {
   "codemirror_mode": {
    "name": "ipython",
    "version": 3
   },
   "file_extension": ".py",
   "mimetype": "text/x-python",
   "name": "python",
   "nbconvert_exporter": "python",
   "pygments_lexer": "ipython3",
   "version": "3.7.4"
  },
  "toc": {
   "base_numbering": 1,
   "nav_menu": {
    "height": "50.7422px",
    "width": "251.992px"
   },
   "number_sections": true,
   "sideBar": true,
   "skip_h1_title": false,
   "title_cell": "Table of Contents",
   "title_sidebar": "Contents",
   "toc_cell": false,
   "toc_position": {
    "height": "777.667px",
    "left": "0px",
    "right": "1609.33px",
    "top": "109.333px",
    "width": "212px"
   },
   "toc_section_display": "block",
   "toc_window_display": true
  }
 },
 "nbformat": 4,
 "nbformat_minor": 1
}
