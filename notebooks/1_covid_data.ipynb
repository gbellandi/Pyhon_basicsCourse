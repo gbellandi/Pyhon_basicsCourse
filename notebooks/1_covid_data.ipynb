{
 "cells": [
  {
   "cell_type": "code",
   "execution_count": null,
   "metadata": {
    "ExecuteTime": {
     "end_time": "2020-04-20T10:01:06.826849Z",
     "start_time": "2020-04-20T10:01:05.955290Z"
    }
   },
   "outputs": [],
   "source": [
    "import pandas as pd\n",
    "import numpy as np\n",
    "from datetime import datetime,timedelta\n",
    "from sklearn.metrics import mean_squared_error\n",
    "from scipy.optimize import curve_fit\n",
    "from scipy.optimize import fsolve\n",
    "import seaborn as sns\n",
    "%matplotlib inline"
   ]
  },
  {
   "cell_type": "markdown",
   "metadata": {},
   "source": [
    "# Monitored covid19 cases in Italy"
   ]
  },
  {
   "cell_type": "markdown",
   "metadata": {},
   "source": [
    "## Data exploration"
   ]
  },
  {
   "cell_type": "code",
   "execution_count": null,
   "metadata": {
    "ExecuteTime": {
     "end_time": "2020-04-16T07:56:26.514635Z",
     "start_time": "2020-04-16T07:56:26.362025Z"
    }
   },
   "outputs": [],
   "source": [
    "url = \"https://raw.githubusercontent.com/pcm-dpc/COVID-19/master/dati-andamento-nazionale/dpc-covid19-ita-andamento-nazionale.csv\"\n",
    "df = pd.read_csv(url)"
   ]
  },
  {
   "cell_type": "markdown",
   "metadata": {},
   "source": [
    "We can use the plot() method to see a quick plot of these (note that because we used the %matplotlib inline magic at the start of the notebook, the resulting plot will be shown inline within the notebook)."
   ]
  },
  {
   "cell_type": "code",
   "execution_count": null,
   "metadata": {
    "ExecuteTime": {
     "end_time": "2020-04-16T07:56:28.296153Z",
     "start_time": "2020-04-16T07:56:27.953547Z"
    }
   },
   "outputs": [],
   "source": [
    "df.plot()"
   ]
  },
  {
   "cell_type": "code",
   "execution_count": null,
   "metadata": {
    "ExecuteTime": {
     "end_time": "2020-04-16T07:50:23.798744Z",
     "start_time": "2020-04-16T07:50:23.778802Z"
    }
   },
   "outputs": [],
   "source": [
    "df.head()"
   ]
  },
  {
   "cell_type": "code",
   "execution_count": null,
   "metadata": {
    "ExecuteTime": {
     "end_time": "2020-04-16T07:50:25.099100Z",
     "start_time": "2020-04-16T07:50:25.086136Z"
    }
   },
   "outputs": [],
   "source": [
    "df.tail()"
   ]
  },
  {
   "cell_type": "code",
   "execution_count": null,
   "metadata": {
    "ExecuteTime": {
     "end_time": "2020-04-16T07:50:54.154288Z",
     "start_time": "2020-04-16T07:50:54.099437Z"
    },
    "scrolled": false
   },
   "outputs": [],
   "source": [
    "df.isnull()"
   ]
  },
  {
   "cell_type": "markdown",
   "metadata": {
    "ExecuteTime": {
     "end_time": "2020-04-15T14:13:09.507380Z",
     "start_time": "2020-04-15T14:13:09.497405Z"
    }
   },
   "source": [
    "<div class=\"alert alert-success\">\n",
    "    <b>EXERCISE</b>: Check if 'nan' are present\n",
    "</div>"
   ]
  },
  {
   "cell_type": "code",
   "execution_count": null,
   "metadata": {},
   "outputs": [],
   "source": []
  },
  {
   "cell_type": "code",
   "execution_count": null,
   "metadata": {
    "ExecuteTime": {
     "end_time": "2020-04-15T13:46:24.430429Z",
     "start_time": "2020-04-15T13:46:24.386544Z"
    }
   },
   "outputs": [],
   "source": [
    "df.describe()"
   ]
  },
  {
   "cell_type": "code",
   "execution_count": null,
   "metadata": {
    "ExecuteTime": {
     "end_time": "2020-04-15T14:13:09.507380Z",
     "start_time": "2020-04-15T14:13:09.497405Z"
    }
   },
   "outputs": [],
   "source": [
    "df.info()"
   ]
  },
  {
   "cell_type": "markdown",
   "metadata": {
    "ExecuteTime": {
     "end_time": "2020-04-15T14:13:09.507380Z",
     "start_time": "2020-04-15T14:13:09.497405Z"
    }
   },
   "source": [
    "<div class=\"alert alert-success\">\n",
    "    <b>EXERCISE</b>: Check if 'stato' has only ITA as description\n",
    "</div>"
   ]
  },
  {
   "cell_type": "code",
   "execution_count": null,
   "metadata": {},
   "outputs": [],
   "source": []
  },
  {
   "cell_type": "code",
   "execution_count": null,
   "metadata": {
    "ExecuteTime": {
     "end_time": "2020-04-15T14:19:40.622374Z",
     "start_time": "2020-04-15T14:19:40.303230Z"
    }
   },
   "outputs": [],
   "source": [
    "df.plot(kind='box');"
   ]
  },
  {
   "cell_type": "code",
   "execution_count": null,
   "metadata": {
    "ExecuteTime": {
     "end_time": "2020-04-15T14:22:17.940398Z",
     "start_time": "2020-04-15T14:22:17.935377Z"
    }
   },
   "outputs": [],
   "source": [
    "df.columns"
   ]
  },
  {
   "cell_type": "code",
   "execution_count": null,
   "metadata": {
    "ExecuteTime": {
     "end_time": "2020-04-15T14:23:46.495630Z",
     "start_time": "2020-04-15T14:23:46.343038Z"
    }
   },
   "outputs": [],
   "source": [
    "df['variazione_totale_positivi'].plot(kind='hist', bins=10)#, logy=True)"
   ]
  },
  {
   "cell_type": "markdown",
   "metadata": {},
   "source": [
    "## Index operation"
   ]
  },
  {
   "cell_type": "markdown",
   "metadata": {},
   "source": [
    "Let's now check the date format"
   ]
  },
  {
   "cell_type": "code",
   "execution_count": null,
   "metadata": {
    "ExecuteTime": {
     "end_time": "2020-04-15T14:20:10.133959Z",
     "start_time": "2020-04-15T14:20:10.127974Z"
    }
   },
   "outputs": [],
   "source": [
    "df['data']"
   ]
  },
  {
   "cell_type": "code",
   "execution_count": null,
   "metadata": {
    "ExecuteTime": {
     "end_time": "2020-04-15T14:24:58.017031Z",
     "start_time": "2020-04-15T14:24:58.010050Z"
    }
   },
   "outputs": [],
   "source": [
    "df['data'] = pd.to_datetime(df['data'])"
   ]
  },
  {
   "cell_type": "code",
   "execution_count": null,
   "metadata": {
    "ExecuteTime": {
     "end_time": "2020-04-15T13:51:29.030758Z",
     "start_time": "2020-04-15T13:51:28.705603Z"
    }
   },
   "outputs": [],
   "source": [
    "df.set_index('data').plot(figsize=(10,10));"
   ]
  },
  {
   "cell_type": "code",
   "execution_count": null,
   "metadata": {
    "ExecuteTime": {
     "end_time": "2020-04-15T14:06:23.476275Z",
     "start_time": "2020-04-15T14:06:23.280798Z"
    }
   },
   "outputs": [],
   "source": [
    "df.set_index('data')[['totale_casi', 'totale_positivi']].plot();"
   ]
  },
  {
   "cell_type": "code",
   "execution_count": null,
   "metadata": {
    "ExecuteTime": {
     "end_time": "2020-04-15T14:06:29.182237Z",
     "start_time": "2020-04-15T14:06:28.996736Z"
    }
   },
   "outputs": [],
   "source": [
    "df.set_index('data')[['variazione_totale_positivi']].plot();"
   ]
  },
  {
   "cell_type": "code",
   "execution_count": null,
   "metadata": {
    "ExecuteTime": {
     "end_time": "2020-04-15T14:06:30.399029Z",
     "start_time": "2020-04-15T14:06:30.385045Z"
    }
   },
   "outputs": [],
   "source": [
    "df.head()"
   ]
  },
  {
   "cell_type": "code",
   "execution_count": null,
   "metadata": {
    "ExecuteTime": {
     "end_time": "2020-04-15T14:25:04.251995Z",
     "start_time": "2020-04-15T14:25:04.246977Z"
    }
   },
   "outputs": [],
   "source": [
    "df = df.set_index('data')"
   ]
  },
  {
   "cell_type": "code",
   "execution_count": null,
   "metadata": {
    "ExecuteTime": {
     "end_time": "2020-04-15T14:25:04.823456Z",
     "start_time": "2020-04-15T14:25:04.787549Z"
    }
   },
   "outputs": [],
   "source": [
    "df"
   ]
  },
  {
   "cell_type": "code",
   "execution_count": null,
   "metadata": {
    "ExecuteTime": {
     "end_time": "2020-04-15T14:06:36.661723Z",
     "start_time": "2020-04-15T14:06:36.345569Z"
    }
   },
   "outputs": [],
   "source": [
    "df.plot()"
   ]
  },
  {
   "cell_type": "code",
   "execution_count": null,
   "metadata": {
    "ExecuteTime": {
     "end_time": "2020-04-15T14:09:29.531692Z",
     "start_time": "2020-04-15T14:09:29.377106Z"
    }
   },
   "outputs": [],
   "source": [
    "df['variazione_totale_positivi'].plot();"
   ]
  },
  {
   "cell_type": "code",
   "execution_count": null,
   "metadata": {
    "ExecuteTime": {
     "end_time": "2020-04-15T14:10:31.881051Z",
     "start_time": "2020-04-15T14:10:31.224271Z"
    }
   },
   "outputs": [],
   "source": [
    "df['variazione_totale_positivi'].rolling(7).mean().plot(title=\"Rateo di casi positivi\");"
   ]
  },
  {
   "cell_type": "markdown",
   "metadata": {},
   "source": []
  },
  {
   "cell_type": "code",
   "execution_count": null,
   "metadata": {
    "ExecuteTime": {
     "end_time": "2020-04-15T14:25:49.906838Z",
     "start_time": "2020-04-15T14:25:49.888863Z"
    }
   },
   "outputs": [],
   "source": [
    "df[\"2020-01-01\": \"2020-03-01\"]"
   ]
  },
  {
   "cell_type": "markdown",
   "metadata": {
    "ExecuteTime": {
     "end_time": "2020-04-15T14:13:09.507380Z",
     "start_time": "2020-04-15T14:13:09.497405Z"
    }
   },
   "source": [
    "<div class=\"alert alert-success\">\n",
    "    <b>EXERCISE</b>: Plot the total cases between Feb 15th and March 15th\n",
    "</div>"
   ]
  },
  {
   "cell_type": "code",
   "execution_count": null,
   "metadata": {},
   "outputs": [],
   "source": []
  },
  {
   "cell_type": "markdown",
   "metadata": {
    "ExecuteTime": {
     "end_time": "2020-04-15T14:13:09.507380Z",
     "start_time": "2020-04-15T14:13:09.497405Z"
    }
   },
   "source": [
    "<div class=\"alert alert-success\">\n",
    "    <b>EXERCISE</b>: And now only the data from February\n",
    "</div>"
   ]
  },
  {
   "cell_type": "code",
   "execution_count": null,
   "metadata": {},
   "outputs": [],
   "source": []
  },
  {
   "cell_type": "markdown",
   "metadata": {},
   "source": [
    "A very powerfull method is **`resample`: converting the frequency of the time series** (e.g. from minutely to hourly data).\n",
    "\n",
    "The time series has a frequency of 15 min. I want to change this to daily:"
   ]
  },
  {
   "cell_type": "code",
   "execution_count": null,
   "metadata": {
    "ExecuteTime": {
     "end_time": "2020-04-15T14:36:10.396734Z",
     "start_time": "2020-04-15T14:36:10.389748Z"
    }
   },
   "outputs": [],
   "source": [
    "df.index.hour"
   ]
  },
  {
   "cell_type": "code",
   "execution_count": null,
   "metadata": {
    "ExecuteTime": {
     "end_time": "2020-04-15T14:36:24.660565Z",
     "start_time": "2020-04-15T14:36:24.654581Z"
    }
   },
   "outputs": [],
   "source": [
    "df.index.dayofyear"
   ]
  },
  {
   "cell_type": "code",
   "execution_count": null,
   "metadata": {
    "ExecuteTime": {
     "end_time": "2020-04-15T14:38:41.457724Z",
     "start_time": "2020-04-15T14:38:41.438775Z"
    }
   },
   "outputs": [],
   "source": [
    "df.resample('W').mean()"
   ]
  },
  {
   "cell_type": "code",
   "execution_count": null,
   "metadata": {
    "ExecuteTime": {
     "end_time": "2020-04-15T14:40:11.152074Z",
     "start_time": "2020-04-15T14:40:10.966534Z"
    }
   },
   "outputs": [],
   "source": [
    "df['totale_casi'].resample('M').mean().plot()\n",
    "df['totale_casi'].resample('M').median().plot();"
   ]
  },
  {
   "cell_type": "markdown",
   "metadata": {
    "ExecuteTime": {
     "end_time": "2020-04-15T14:13:09.507380Z",
     "start_time": "2020-04-15T14:13:09.497405Z"
    }
   },
   "source": [
    "<div class=\"alert alert-success\">\n",
    "    <b>EXERCISE</b>: make a <b>bar</b> plot of the mean of the columns for March\n",
    "</div>"
   ]
  },
  {
   "cell_type": "code",
   "execution_count": null,
   "metadata": {
    "ExecuteTime": {
     "end_time": "2020-04-15T14:42:20.089041Z",
     "start_time": "2020-04-15T14:42:19.861651Z"
    }
   },
   "outputs": [],
   "source": []
  },
  {
   "cell_type": "markdown",
   "metadata": {},
   "source": [
    "# covid19 cases around the globe (in the next episode)"
   ]
  },
  {
   "cell_type": "code",
   "execution_count": null,
   "metadata": {},
   "outputs": [],
   "source": []
  },
  {
   "cell_type": "code",
   "execution_count": null,
   "metadata": {},
   "outputs": [],
   "source": []
  }
 ],
 "metadata": {
  "kernelspec": {
   "display_name": "Python 3",
   "language": "python",
   "name": "python3"
  },
  "language_info": {
   "codemirror_mode": {
    "name": "ipython",
    "version": 3
   },
   "file_extension": ".py",
   "mimetype": "text/x-python",
   "name": "python",
   "nbconvert_exporter": "python",
   "pygments_lexer": "ipython3",
   "version": "3.7.7"
  },
  "toc": {
   "base_numbering": 1,
   "nav_menu": {},
   "number_sections": true,
   "sideBar": true,
   "skip_h1_title": false,
   "title_cell": "Table of Contents",
   "title_sidebar": "Contents",
   "toc_cell": false,
   "toc_position": {},
   "toc_section_display": true,
   "toc_window_display": true
  }
 },
 "nbformat": 4,
 "nbformat_minor": 2
}
